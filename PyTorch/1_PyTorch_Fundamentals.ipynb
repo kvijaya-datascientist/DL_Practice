{
 "cells": [
  {
   "cell_type": "code",
   "execution_count": 1,
   "id": "924f580e",
   "metadata": {},
   "outputs": [],
   "source": [
    "import torch"
   ]
  },
  {
   "cell_type": "code",
   "execution_count": 2,
   "id": "d7c3573e",
   "metadata": {},
   "outputs": [
    {
     "name": "stdout",
     "output_type": "stream",
     "text": [
      "1.13.0+cpu\n"
     ]
    }
   ],
   "source": [
    "print(torch.__version__)"
   ]
  },
  {
   "cell_type": "markdown",
   "id": "ee079da4",
   "metadata": {},
   "source": [
    "# PyTorch tensors Ref:\n",
    "\n",
    "https://pytorch.org/docs/stable/tensors.html"
   ]
  },
  {
   "cell_type": "code",
   "execution_count": 50,
   "id": "868343d9",
   "metadata": {},
   "outputs": [
    {
     "data": {
      "text/plain": [
       "tensor(7)"
      ]
     },
     "execution_count": 50,
     "metadata": {},
     "output_type": "execute_result"
    }
   ],
   "source": [
    "#1. scalar tensor\n",
    "scalar1 = torch.tensor(7) # scalar is a single number\n",
    "scalar2 = torch.tensor(3)\n",
    "scalar1"
   ]
  },
  {
   "cell_type": "code",
   "execution_count": 51,
   "id": "85bd7333",
   "metadata": {},
   "outputs": [
    {
     "data": {
      "text/plain": [
       "0"
      ]
     },
     "execution_count": 51,
     "metadata": {},
     "output_type": "execute_result"
    }
   ],
   "source": [
    "scalar1.ndim"
   ]
  },
  {
   "cell_type": "code",
   "execution_count": 57,
   "id": "ca16a805",
   "metadata": {},
   "outputs": [
    {
     "data": {
      "text/plain": [
       "torch.Size([])"
      ]
     },
     "execution_count": 57,
     "metadata": {},
     "output_type": "execute_result"
    }
   ],
   "source": [
    "scalar1.size()"
   ]
  },
  {
   "cell_type": "code",
   "execution_count": 49,
   "id": "7bfe5999",
   "metadata": {},
   "outputs": [
    {
     "data": {
      "text/plain": [
       "tensor([1, 2])"
      ]
     },
     "execution_count": 49,
     "metadata": {},
     "output_type": "execute_result"
    }
   ],
   "source": [
    "#2. vector\n",
    "vector1 = torch.tensor([1,2])  # vector is a single dimension but can contain many numbers/values\n",
    "vector2 = torch.tensor([3,2,1])\n",
    "\n",
    "vector1"
   ]
  },
  {
   "cell_type": "code",
   "execution_count": 52,
   "id": "f979706f",
   "metadata": {},
   "outputs": [
    {
     "data": {
      "text/plain": [
       "1"
      ]
     },
     "execution_count": 52,
     "metadata": {},
     "output_type": "execute_result"
    }
   ],
   "source": [
    "vector1.ndim  "
   ]
  },
  {
   "cell_type": "code",
   "execution_count": 55,
   "id": "76f48402",
   "metadata": {},
   "outputs": [
    {
     "data": {
      "text/plain": [
       "torch.Size([2])"
      ]
     },
     "execution_count": 55,
     "metadata": {},
     "output_type": "execute_result"
    }
   ],
   "source": [
    "vector1.size()"
   ]
  },
  {
   "cell_type": "code",
   "execution_count": 138,
   "id": "fa000e57",
   "metadata": {},
   "outputs": [
    {
     "data": {
      "text/plain": [
       "torch.Size([3])"
      ]
     },
     "execution_count": 138,
     "metadata": {},
     "output_type": "execute_result"
    }
   ],
   "source": [
    "vector2.shape"
   ]
  },
  {
   "cell_type": "code",
   "execution_count": 46,
   "id": "053a8481",
   "metadata": {},
   "outputs": [
    {
     "data": {
      "text/plain": [
       "tensor([[1, 2],\n",
       "        [3, 4]])"
      ]
     },
     "execution_count": 46,
     "metadata": {},
     "output_type": "execute_result"
    }
   ],
   "source": [
    "#3. matrix\n",
    "matrix1 = torch.tensor([ [1,2],\n",
    "                         [3,4]  ])\n",
    "\n",
    "matrix1"
   ]
  },
  {
   "cell_type": "code",
   "execution_count": 53,
   "id": "e0f7c70f",
   "metadata": {},
   "outputs": [
    {
     "data": {
      "text/plain": [
       "2"
      ]
     },
     "execution_count": 53,
     "metadata": {},
     "output_type": "execute_result"
    }
   ],
   "source": [
    "matrix1.ndim "
   ]
  },
  {
   "cell_type": "code",
   "execution_count": 59,
   "id": "7cc578d3",
   "metadata": {},
   "outputs": [
    {
     "data": {
      "text/plain": [
       "torch.Size([2, 2])"
      ]
     },
     "execution_count": 59,
     "metadata": {},
     "output_type": "execute_result"
    }
   ],
   "source": [
    "matrix1.shape"
   ]
  },
  {
   "cell_type": "code",
   "execution_count": 58,
   "id": "a73c5937",
   "metadata": {},
   "outputs": [
    {
     "data": {
      "text/plain": [
       "torch.Size([2, 2])"
      ]
     },
     "execution_count": 58,
     "metadata": {},
     "output_type": "execute_result"
    }
   ],
   "source": [
    "matrix1.size() "
   ]
  },
  {
   "cell_type": "code",
   "execution_count": 67,
   "id": "4900942c",
   "metadata": {},
   "outputs": [
    {
     "data": {
      "text/plain": [
       "tensor([[[1, 2, 3],\n",
       "         [4, 5, 6]]])"
      ]
     },
     "execution_count": 67,
     "metadata": {},
     "output_type": "execute_result"
    }
   ],
   "source": [
    "#4. tensor\n",
    "\n",
    "tensor1 = torch.tensor([[ [1,2,3],\n",
    "                          [4,5,6],\n",
    "                       ]])\n",
    "tensor1"
   ]
  },
  {
   "cell_type": "code",
   "execution_count": 68,
   "id": "ba372f30",
   "metadata": {},
   "outputs": [
    {
     "data": {
      "text/plain": [
       "3"
      ]
     },
     "execution_count": 68,
     "metadata": {},
     "output_type": "execute_result"
    }
   ],
   "source": [
    "tensor1.ndim "
   ]
  },
  {
   "cell_type": "code",
   "execution_count": 69,
   "id": "f35e97eb",
   "metadata": {},
   "outputs": [
    {
     "data": {
      "text/plain": [
       "torch.Size([1, 2, 3])"
      ]
     },
     "execution_count": 69,
     "metadata": {},
     "output_type": "execute_result"
    }
   ],
   "source": [
    "tensor1.shape"
   ]
  },
  {
   "cell_type": "markdown",
   "id": "419a482e",
   "metadata": {},
   "source": [
    "# Random tensors\n",
    "\n",
    "https://pytorch.org/docs/stable/generated/torch.rand.html"
   ]
  },
  {
   "cell_type": "code",
   "execution_count": 71,
   "id": "41d70f6f",
   "metadata": {},
   "outputs": [
    {
     "data": {
      "text/plain": [
       "tensor([[0.5397, 0.5231, 0.2552, 0.0658],\n",
       "        [0.1436, 0.0566, 0.6598, 0.2071],\n",
       "        [0.0296, 0.9643, 0.0966, 0.0531]])"
      ]
     },
     "execution_count": 71,
     "metadata": {},
     "output_type": "execute_result"
    }
   ],
   "source": [
    "#6. create a random tensor of size(3,4)\n",
    "random_tensor_1 = torch.rand(3,4)\n",
    "random_tensor_1"
   ]
  },
  {
   "cell_type": "code",
   "execution_count": 111,
   "id": "f65f1dad",
   "metadata": {},
   "outputs": [
    {
     "data": {
      "text/plain": [
       "2"
      ]
     },
     "execution_count": 111,
     "metadata": {},
     "output_type": "execute_result"
    }
   ],
   "source": [
    "random_tensor_1.ndim"
   ]
  },
  {
   "cell_type": "code",
   "execution_count": 117,
   "id": "19960253",
   "metadata": {},
   "outputs": [
    {
     "data": {
      "text/plain": [
       "3"
      ]
     },
     "execution_count": 117,
     "metadata": {},
     "output_type": "execute_result"
    }
   ],
   "source": [
    "# create a random tensor with similar shape to an image tensor\n",
    "random_image_tensor_2 = torch.rand(size=(224,224,3)) # size = height,width,color\n",
    "random_image_tensor_2.ndim"
   ]
  },
  {
   "cell_type": "code",
   "execution_count": 113,
   "id": "53291b24",
   "metadata": {},
   "outputs": [
    {
     "data": {
      "text/plain": [
       "tensor([[0.4810, 0.7743, 0.3176, 0.1044],\n",
       "        [0.4081, 0.7681, 0.4934, 0.9210],\n",
       "        [0.7929, 0.9984, 0.3468, 0.3631]])"
      ]
     },
     "execution_count": 113,
     "metadata": {},
     "output_type": "execute_result"
    }
   ],
   "source": [
    "# creating random tensor like/ref of another tensor using 'rand_like'\n",
    "random_tensor_3 = torch.rand_like(random_tensor_1)\n",
    "random_tensor_3"
   ]
  },
  {
   "cell_type": "code",
   "execution_count": 116,
   "id": "68e8ca1c",
   "metadata": {},
   "outputs": [
    {
     "data": {
      "text/plain": [
       "tensor([[1, 5, 3],\n",
       "        [8, 4, 3]])"
      ]
     },
     "execution_count": 116,
     "metadata": {},
     "output_type": "execute_result"
    }
   ],
   "source": [
    "# creating random tensor with integers with limit\n",
    "\n",
    "# https://pytorch.org/docs/stable/generated/torch.randint.html\n",
    "\n",
    "random_int_tensor_4 = torch.randint(1,9,(2,3))  # low=1, high=9, size= (2,3)\n",
    "random_int_tensor_4"
   ]
  },
  {
   "cell_type": "code",
   "execution_count": 78,
   "id": "021f9a2d",
   "metadata": {},
   "outputs": [
    {
     "data": {
      "text/plain": [
       "tensor([[0., 0., 0., 0.],\n",
       "        [0., 0., 0., 0.],\n",
       "        [0., 0., 0., 0.]])"
      ]
     },
     "execution_count": 78,
     "metadata": {},
     "output_type": "execute_result"
    }
   ],
   "source": [
    "# Create a tensor of all zeros\n",
    "tensor_zero = torch.zeros(3,4)\n",
    "tensor_zero"
   ]
  },
  {
   "cell_type": "code",
   "execution_count": 79,
   "id": "d7cff275",
   "metadata": {},
   "outputs": [
    {
     "data": {
      "text/plain": [
       "2"
      ]
     },
     "execution_count": 79,
     "metadata": {},
     "output_type": "execute_result"
    }
   ],
   "source": [
    "tensor_zero.ndim "
   ]
  },
  {
   "cell_type": "code",
   "execution_count": 80,
   "id": "97f2fa2a",
   "metadata": {},
   "outputs": [
    {
     "data": {
      "text/plain": [
       "tensor([[1., 1., 1., 1.],\n",
       "        [1., 1., 1., 1.],\n",
       "        [1., 1., 1., 1.]])"
      ]
     },
     "execution_count": 80,
     "metadata": {},
     "output_type": "execute_result"
    }
   ],
   "source": [
    "# Create a tensor of all ones\n",
    "tensor_1 = torch.ones(3,4)\n",
    "tensor_1"
   ]
  },
  {
   "cell_type": "code",
   "execution_count": 91,
   "id": "ccec9f38",
   "metadata": {},
   "outputs": [
    {
     "data": {
      "text/plain": [
       "tensor([1, 2, 3, 4, 5])"
      ]
     },
     "execution_count": 91,
     "metadata": {},
     "output_type": "execute_result"
    }
   ],
   "source": [
    "#Creating a range of tensors  and tensors-like\n",
    "\n",
    "# tensor_range = torch.range(3,6,1)  # Use torch.arange(), torch.range() is deprecated in future release\n",
    "tensor_range_1 = torch.arange(1,6)\n",
    "tensor_range_1"
   ]
  },
  {
   "cell_type": "code",
   "execution_count": 119,
   "id": "d2c8fed1",
   "metadata": {},
   "outputs": [
    {
     "data": {
      "text/plain": [
       "tensor([1, 2, 3, 4, 5])"
      ]
     },
     "execution_count": 119,
     "metadata": {},
     "output_type": "execute_result"
    }
   ],
   "source": [
    "tensor_range_2 = torch.arange(start=1,end=6,step=1)\n",
    "tensor_range_2 "
   ]
  },
  {
   "cell_type": "code",
   "execution_count": 93,
   "id": "166e4634",
   "metadata": {},
   "outputs": [
    {
     "data": {
      "text/plain": [
       "tensor([1, 3, 5, 7])"
      ]
     },
     "execution_count": 93,
     "metadata": {},
     "output_type": "execute_result"
    }
   ],
   "source": [
    "tensor_range_3 = torch.arange(1,8,2)\n",
    "tensor_range_3"
   ]
  },
  {
   "cell_type": "code",
   "execution_count": 95,
   "id": "6b751688",
   "metadata": {},
   "outputs": [
    {
     "data": {
      "text/plain": [
       "tensor([1, 3, 5, 7, 9])"
      ]
     },
     "execution_count": 95,
     "metadata": {},
     "output_type": "execute_result"
    }
   ],
   "source": [
    "# Create a range of values 0 to 10\n",
    "tensor_range_4 = torch.arange(start =1 , end=10 , step=2)\n",
    "tensor_range_4"
   ]
  },
  {
   "cell_type": "code",
   "execution_count": 97,
   "id": "b46ce7de",
   "metadata": {},
   "outputs": [
    {
     "data": {
      "text/plain": [
       "tensor([[0., 0., 0., 0.],\n",
       "        [0., 0., 0., 0.],\n",
       "        [0., 0., 0., 0.]])"
      ]
     },
     "execution_count": 97,
     "metadata": {},
     "output_type": "execute_result"
    }
   ],
   "source": [
    "# Can also create a tensor of zeros similar to another tensor\n",
    "tensor_zero_1 = torch.zeros_like(tensor_zero)\n",
    "tensor_zero_1"
   ]
  },
  {
   "cell_type": "code",
   "execution_count": 98,
   "id": "023742a6",
   "metadata": {},
   "outputs": [
    {
     "data": {
      "text/plain": [
       "tensor([[0., 0., 0., 0.],\n",
       "        [0., 0., 0., 0.],\n",
       "        [0., 0., 0., 0.]])"
      ]
     },
     "execution_count": 98,
     "metadata": {},
     "output_type": "execute_result"
    }
   ],
   "source": [
    "tensor_zero"
   ]
  },
  {
   "cell_type": "code",
   "execution_count": 120,
   "id": "c86c9a98",
   "metadata": {},
   "outputs": [
    {
     "data": {
      "text/plain": [
       "tensor([1, 1, 1, 1, 1])"
      ]
     },
     "execution_count": 120,
     "metadata": {},
     "output_type": "execute_result"
    }
   ],
   "source": [
    "tensor_like_1 = torch.ones_like(input=tensor_range_4) # ref of another tensor\n",
    "tensor_like_1"
   ]
  },
  {
   "cell_type": "markdown",
   "id": "fcbe77c6",
   "metadata": {},
   "source": [
    "# Tensor datatypes\n",
    "\n",
    "Ref: https://pytorch.org/docs/stable/tensors.html"
   ]
  },
  {
   "cell_type": "code",
   "execution_count": 140,
   "id": "e6f5c994",
   "metadata": {},
   "outputs": [],
   "source": [
    "# half precision point =   16 bit: occupies 16 bits (2 bytes) in computer memory\n",
    "# single precision point = 32 bit : occupies 32 bits in computer memory\n",
    "# Double precision point = 64 bit : occupies 64 bits in computer memory\n",
    "\n",
    "#Ref : https://en.wikipedia.org/wiki/Precision_(computer_science)"
   ]
  },
  {
   "cell_type": "code",
   "execution_count": 141,
   "id": "f7e74472",
   "metadata": {},
   "outputs": [],
   "source": [
    "# NOTE: Tensor datatypes is one of the 3 big errors you will run into with PyTorch & DL:\n",
    "# 1. Tensors not right datatype\n",
    "# 2. Tensors not right shape\n",
    "# 3. Tensors not on the right device\n"
   ]
  },
  {
   "cell_type": "code",
   "execution_count": 129,
   "id": "e21c7d96",
   "metadata": {},
   "outputs": [],
   "source": [
    "float_32_tensor_1 = torch.tensor( [20.0,12.0,23.0],   \n",
    "                        dtype=None, # defaults to None, which is torch.float32 or whatever datatype is passed\n",
    "                        device=None, # What device is your tensor on , default = cpu\n",
    "                        requires_grad=False # whether or not to track gradients with this tensor operations\n",
    "                       )"
   ]
  },
  {
   "cell_type": "code",
   "execution_count": 130,
   "id": "09839248",
   "metadata": {},
   "outputs": [
    {
     "data": {
      "text/plain": [
       "tensor([20., 12., 23.])"
      ]
     },
     "execution_count": 130,
     "metadata": {},
     "output_type": "execute_result"
    }
   ],
   "source": [
    "float_32_tensor_1"
   ]
  },
  {
   "cell_type": "code",
   "execution_count": 133,
   "id": "95872ef1",
   "metadata": {},
   "outputs": [
    {
     "data": {
      "text/plain": [
       "(device(type='cpu'), torch.float32, torch.Size([3]))"
      ]
     },
     "execution_count": 133,
     "metadata": {},
     "output_type": "execute_result"
    }
   ],
   "source": [
    "float_32_tensor_1.device  , float_32_tensor_1.dtype ,  float_32_tensor_1.shape"
   ]
  },
  {
   "cell_type": "code",
   "execution_count": 139,
   "id": "b1e1cf8f",
   "metadata": {},
   "outputs": [
    {
     "data": {
      "text/plain": [
       "tensor([20., 12., 23.], dtype=torch.float16)"
      ]
     },
     "execution_count": 139,
     "metadata": {},
     "output_type": "execute_result"
    }
   ],
   "source": [
    "float_16_tensor_1 = float_32_tensor_1.type(torch.float16)\n",
    "float_16_tensor_1"
   ]
  },
  {
   "cell_type": "code",
   "execution_count": 142,
   "id": "1e1c5369",
   "metadata": {},
   "outputs": [
    {
     "data": {
      "text/plain": [
       "tensor([400., 144., 529.])"
      ]
     },
     "execution_count": 142,
     "metadata": {},
     "output_type": "execute_result"
    }
   ],
   "source": [
    "float_16_tensor_1 * float_32_tensor_1"
   ]
  },
  {
   "cell_type": "code",
   "execution_count": 144,
   "id": "72905b06",
   "metadata": {},
   "outputs": [
    {
     "data": {
      "text/plain": [
       "tensor([20, 12, 23], dtype=torch.int32)"
      ]
     },
     "execution_count": 144,
     "metadata": {},
     "output_type": "execute_result"
    }
   ],
   "source": [
    "int_32_tensor_1 = float_32_tensor_1.type(torch.int32)\n",
    "int_32_tensor_1"
   ]
  },
  {
   "cell_type": "code",
   "execution_count": 145,
   "id": "591e1b16",
   "metadata": {},
   "outputs": [
    {
     "data": {
      "text/plain": [
       "tensor([400., 144., 529.])"
      ]
     },
     "execution_count": 145,
     "metadata": {},
     "output_type": "execute_result"
    }
   ],
   "source": [
    "float_32_tensor_1 * int_32_tensor_1"
   ]
  },
  {
   "cell_type": "code",
   "execution_count": 146,
   "id": "c7e1a0ae",
   "metadata": {},
   "outputs": [],
   "source": [
    "int_64_tensor_1 = torch.tensor( [2,6,12],\n",
    "                                device='cpu',\n",
    "                                dtype=torch.long,\n",
    "                                requires_grad=False )"
   ]
  },
  {
   "cell_type": "code",
   "execution_count": 148,
   "id": "e47708d1",
   "metadata": {},
   "outputs": [],
   "source": [
    "mul_tensor_1 = int_64_tensor_1 * float_32_tensor_1"
   ]
  },
  {
   "cell_type": "markdown",
   "id": "0cc20425",
   "metadata": {},
   "source": [
    "# tensor attributes"
   ]
  },
  {
   "cell_type": "code",
   "execution_count": 304,
   "id": "0749563b",
   "metadata": {},
   "outputs": [
    {
     "name": "stdout",
     "output_type": "stream",
     "text": [
      "tensor([ 40.,  72., 276.])\n",
      "data type of tensor: torch.float32\n",
      "shape of the tensor: torch.Size([3])\n",
      "device of the tensor: cpu\n",
      "tensor layout: torch.strided\n"
     ]
    }
   ],
   "source": [
    "# tensor attributes: mul_tensor_1\n",
    "\n",
    "print(mul_tensor_1)\n",
    "print(f\"data type of tensor: {mul_tensor_1.dtype}\")\n",
    "print(f\"shape of the tensor: {mul_tensor_1.size()}\")\n",
    "print(f\"device of the tensor: {mul_tensor_1.device}\")   # cpu, cuda, mps, cuda:0\n",
    "print(f\"tensor layout: {mul_tensor_1.layout}\")  #  represents the memory layout of a tensor\n"
   ]
  },
  {
   "cell_type": "code",
   "execution_count": 207,
   "id": "1b75ec09",
   "metadata": {},
   "outputs": [],
   "source": [
    "#creating tensors\n",
    "tensor_9 = torch.tensor ([[\n",
    "                            [7,8],\n",
    "                            [9,10],\n",
    "                            [11,12]\n",
    "                                 ]])\n",
    "tensor_10 = torch.tensor([[\n",
    "                            [1,2,3],\n",
    "                            [4,5,6]\n",
    "                                ]])\n"
   ]
  },
  {
   "cell_type": "markdown",
   "id": "f9a170aa",
   "metadata": {},
   "source": [
    "# tensor operations (manipulating tensors)\n",
    "\n",
    "tensor operations include:\n",
    "\n",
    "Addition\n",
    "\n",
    "Subtraction\n",
    "\n",
    "Multiplication (element-wise)\n",
    "\n",
    "Division\n",
    "\n",
    "Matrix multiplication"
   ]
  },
  {
   "cell_type": "code",
   "execution_count": 171,
   "id": "912b330c",
   "metadata": {},
   "outputs": [
    {
     "data": {
      "text/plain": [
       "tensor([20, 22, 23])"
      ]
     },
     "execution_count": 171,
     "metadata": {},
     "output_type": "execute_result"
    }
   ],
   "source": [
    "# addition\n",
    "tensor_4 = torch.tensor( [10,12,13] )\n",
    "\n",
    "tensor_4 + 10"
   ]
  },
  {
   "cell_type": "code",
   "execution_count": 170,
   "id": "b1e1c784",
   "metadata": {},
   "outputs": [
    {
     "data": {
      "text/plain": [
       "tensor([30, 24, 36])"
      ]
     },
     "execution_count": 170,
     "metadata": {},
     "output_type": "execute_result"
    }
   ],
   "source": [
    "tensor_5 = tensor_4 + tensor_3\n",
    "tensor_5"
   ]
  },
  {
   "cell_type": "code",
   "execution_count": 173,
   "id": "e236e384",
   "metadata": {},
   "outputs": [
    {
     "data": {
      "text/plain": [
       "tensor([[[1, 2, 3, 4],\n",
       "         [3, 4, 5, 6]]])"
      ]
     },
     "execution_count": 173,
     "metadata": {},
     "output_type": "execute_result"
    }
   ],
   "source": [
    "tensor_6 = torch.tensor( [[\n",
    "                            [1,2,3,4],\n",
    "                            [3,4,5,6]\n",
    "                                ]] )\n",
    "tensor_6  "
   ]
  },
  {
   "cell_type": "code",
   "execution_count": 179,
   "id": "4b534f85",
   "metadata": {},
   "outputs": [
    {
     "data": {
      "text/plain": [
       "(torch.Size([3]), torch.Size([3]))"
      ]
     },
     "execution_count": 179,
     "metadata": {},
     "output_type": "execute_result"
    }
   ],
   "source": [
    "tensor_5.size()    , tensor_5.shape "
   ]
  },
  {
   "cell_type": "code",
   "execution_count": 180,
   "id": "54b9dd7f",
   "metadata": {},
   "outputs": [
    {
     "data": {
      "text/plain": [
       "(torch.Size([1, 2, 4]), torch.Size([1, 2, 4]))"
      ]
     },
     "execution_count": 180,
     "metadata": {},
     "output_type": "execute_result"
    }
   ],
   "source": [
    "tensor_6.size()  , tensor_6.shape"
   ]
  },
  {
   "cell_type": "code",
   "execution_count": 191,
   "id": "76be0f8f",
   "metadata": {},
   "outputs": [
    {
     "ename": "RuntimeError",
     "evalue": "The size of tensor a (3) must match the size of tensor b (4) at non-singleton dimension 2",
     "output_type": "error",
     "traceback": [
      "\u001b[1;31m---------------------------------------------------------------------------\u001b[0m",
      "\u001b[1;31mRuntimeError\u001b[0m                              Traceback (most recent call last)",
      "Cell \u001b[1;32mIn[191], line 1\u001b[0m\n\u001b[1;32m----> 1\u001b[0m \u001b[43mtensor_5\u001b[49m\u001b[43m \u001b[49m\u001b[38;5;241;43m+\u001b[39;49m\u001b[43m \u001b[49m\u001b[43mtensor_6\u001b[49m  \u001b[38;5;66;03m# here both are in diff shape. so, getting below error\u001b[39;00m\n",
      "\u001b[1;31mRuntimeError\u001b[0m: The size of tensor a (3) must match the size of tensor b (4) at non-singleton dimension 2"
     ]
    }
   ],
   "source": [
    "tensor_5 + tensor_6  # here both are in diff shape. so, getting below error"
   ]
  },
  {
   "cell_type": "code",
   "execution_count": 188,
   "id": "7eb5abd7",
   "metadata": {},
   "outputs": [
    {
     "data": {
      "text/plain": [
       "tensor([20, 12, 23])"
      ]
     },
     "execution_count": 188,
     "metadata": {},
     "output_type": "execute_result"
    }
   ],
   "source": [
    "# subtraction \n",
    "\n",
    "tensor_7 = tensor_5 - tensor_4\n",
    "tensor_7"
   ]
  },
  {
   "cell_type": "code",
   "execution_count": 189,
   "id": "6f691137",
   "metadata": {},
   "outputs": [
    {
     "data": {
      "text/plain": [
       "tensor([-20, -12, -23])"
      ]
     },
     "execution_count": 189,
     "metadata": {},
     "output_type": "execute_result"
    }
   ],
   "source": [
    "tensor_8 = tensor_4 - tensor_5\n",
    "tensor_8"
   ]
  },
  {
   "cell_type": "code",
   "execution_count": 190,
   "id": "d4800576",
   "metadata": {},
   "outputs": [
    {
     "data": {
      "text/plain": [
       "tensor([18, 10, 21])"
      ]
     },
     "execution_count": 190,
     "metadata": {},
     "output_type": "execute_result"
    }
   ],
   "source": [
    "tensor_7 - 2"
   ]
  },
  {
   "cell_type": "code",
   "execution_count": 192,
   "id": "2e6469f7",
   "metadata": {},
   "outputs": [
    {
     "data": {
      "text/plain": [
       "tensor([40, 24, 46])"
      ]
     },
     "execution_count": 192,
     "metadata": {},
     "output_type": "execute_result"
    }
   ],
   "source": [
    "# Multiplication (element wise)\n",
    "\n",
    "tensor_7 * 2"
   ]
  },
  {
   "cell_type": "code",
   "execution_count": 206,
   "id": "c467a980",
   "metadata": {},
   "outputs": [
    {
     "data": {
      "text/plain": [
       "tensor([100, 144, 169])"
      ]
     },
     "execution_count": 206,
     "metadata": {},
     "output_type": "execute_result"
    }
   ],
   "source": [
    "tensor_4 * tensor_4 "
   ]
  },
  {
   "cell_type": "markdown",
   "id": "19c4b263",
   "metadata": {},
   "source": [
    "# Matrix multiplication rules:\n",
    "\n",
    "1. inner dimensions must match\n",
    "\n",
    "Ex:  (3,2) @ (3,2) --> won't work\n",
    "\n",
    "      (3,2) @ (2,3) --> will work\n",
    "     \n",
    "     \n",
    "     (2,3) @ (3,2) --> will work\n",
    "     \n",
    "2. the resulting matrix has the shape of the outer dimensions\n",
    "\n",
    "Ex:        (3,2) @ (2,3) --> (3,3)\n",
    "\n",
    "        (2,3) @ (3,2) --> (2,2)"
   ]
  },
  {
   "cell_type": "code",
   "execution_count": 216,
   "id": "ad786c6d",
   "metadata": {},
   "outputs": [
    {
     "ename": "RuntimeError",
     "evalue": "mat1 and mat2 shapes cannot be multiplied (3x2 and 3x2)",
     "output_type": "error",
     "traceback": [
      "\u001b[1;31m---------------------------------------------------------------------------\u001b[0m",
      "\u001b[1;31mRuntimeError\u001b[0m                              Traceback (most recent call last)",
      "Cell \u001b[1;32mIn[216], line 1\u001b[0m\n\u001b[1;32m----> 1\u001b[0m \u001b[43mtorch\u001b[49m\u001b[38;5;241;43m.\u001b[39;49m\u001b[43mmatmul\u001b[49m\u001b[43m(\u001b[49m\u001b[43mtorch\u001b[49m\u001b[38;5;241;43m.\u001b[39;49m\u001b[43mrand\u001b[49m\u001b[43m(\u001b[49m\u001b[38;5;241;43m3\u001b[39;49m\u001b[43m,\u001b[49m\u001b[38;5;241;43m2\u001b[39;49m\u001b[43m)\u001b[49m\u001b[43m \u001b[49m\u001b[43m,\u001b[49m\u001b[43m \u001b[49m\u001b[43mtorch\u001b[49m\u001b[38;5;241;43m.\u001b[39;49m\u001b[43mrand\u001b[49m\u001b[43m(\u001b[49m\u001b[38;5;241;43m3\u001b[39;49m\u001b[43m,\u001b[49m\u001b[38;5;241;43m2\u001b[39;49m\u001b[43m)\u001b[49m\u001b[43m)\u001b[49m\n",
      "\u001b[1;31mRuntimeError\u001b[0m: mat1 and mat2 shapes cannot be multiplied (3x2 and 3x2)"
     ]
    }
   ],
   "source": [
    "torch.matmul(torch.rand(3,2) , torch.rand(3,2))"
   ]
  },
  {
   "cell_type": "code",
   "execution_count": 218,
   "id": "8daa6836",
   "metadata": {},
   "outputs": [
    {
     "data": {
      "text/plain": [
       "tensor([[1.2954, 0.2767, 0.4689],\n",
       "        [0.4397, 0.2149, 0.3617],\n",
       "        [0.8060, 0.1964, 0.3323]])"
      ]
     },
     "execution_count": 218,
     "metadata": {},
     "output_type": "execute_result"
    }
   ],
   "source": [
    "torch.matmul(torch.rand(3,2) , torch.rand(2,3))"
   ]
  },
  {
   "cell_type": "code",
   "execution_count": 215,
   "id": "47bc1bb0",
   "metadata": {},
   "outputs": [
    {
     "data": {
      "text/plain": [
       "tensor(413)"
      ]
     },
     "execution_count": 215,
     "metadata": {},
     "output_type": "execute_result"
    }
   ],
   "source": [
    "# Matrix Multiplication (important in DL) \n",
    "torch.matmul(tensor_4 , tensor_4)    # here tensor is a vector. thats why getting this result"
   ]
  },
  {
   "cell_type": "code",
   "execution_count": 214,
   "id": "65d1cadf",
   "metadata": {},
   "outputs": [
    {
     "data": {
      "text/plain": [
       "tensor([[[ 58,  64],\n",
       "         [139, 154]]])"
      ]
     },
     "execution_count": 214,
     "metadata": {},
     "output_type": "execute_result"
    }
   ],
   "source": [
    "torch.matmul(tensor_10 ,tensor_9)   # here tensor_9 , tensor_10 are matrix\n",
    "\n",
    "# always prefer this approach for matrix multiplication in PyTorch. because it takes less time for multiplication"
   ]
  },
  {
   "cell_type": "raw",
   "id": "7dbf5aeb",
   "metadata": {},
   "source": [
    "One of the most common errors in DL : shape errors"
   ]
  },
  {
   "cell_type": "code",
   "execution_count": 221,
   "id": "286374d2",
   "metadata": {},
   "outputs": [
    {
     "data": {
      "text/plain": [
       "torch.Size([1, 2, 3])"
      ]
     },
     "execution_count": 221,
     "metadata": {},
     "output_type": "execute_result"
    }
   ],
   "source": [
    "tensor_10.shape "
   ]
  },
  {
   "cell_type": "code",
   "execution_count": 222,
   "id": "15025901",
   "metadata": {},
   "outputs": [
    {
     "ename": "RuntimeError",
     "evalue": "Expected size for first two dimensions of batch2 tensor to be: [1, 3] but got: [1, 2].",
     "output_type": "error",
     "traceback": [
      "\u001b[1;31m---------------------------------------------------------------------------\u001b[0m",
      "\u001b[1;31mRuntimeError\u001b[0m                              Traceback (most recent call last)",
      "Cell \u001b[1;32mIn[222], line 1\u001b[0m\n\u001b[1;32m----> 1\u001b[0m \u001b[43mtorch\u001b[49m\u001b[38;5;241;43m.\u001b[39;49m\u001b[43mmatmul\u001b[49m\u001b[43m(\u001b[49m\u001b[43mtensor_10\u001b[49m\u001b[43m \u001b[49m\u001b[43m,\u001b[49m\u001b[43m \u001b[49m\u001b[43mtensor_10\u001b[49m\u001b[43m)\u001b[49m\n",
      "\u001b[1;31mRuntimeError\u001b[0m: Expected size for first two dimensions of batch2 tensor to be: [1, 3] but got: [1, 2]."
     ]
    }
   ],
   "source": [
    "torch.matmul(tensor_10 , tensor_10) # getting error becoz inner dimensions are not matching (2,3) @ (2,3)"
   ]
  },
  {
   "cell_type": "code",
   "execution_count": 223,
   "id": "ac792c56",
   "metadata": {},
   "outputs": [],
   "source": [
    "# torch.mm() is same as torch.matmul() , .mm() is alias/code_short_cut of .matmul()"
   ]
  },
  {
   "cell_type": "raw",
   "id": "b7b3ae4b",
   "metadata": {},
   "source": [
    "To fix the above shape issue , we can manipulate the shape of one of the tensor above : transpose of the tensor"
   ]
  },
  {
   "cell_type": "markdown",
   "id": "6f8d5e0a",
   "metadata": {},
   "source": [
    "# Finding the min, max,sum,mean.. (tensor aggregations)"
   ]
  },
  {
   "cell_type": "code",
   "execution_count": 243,
   "id": "0a431fc3",
   "metadata": {},
   "outputs": [
    {
     "data": {
      "text/plain": [
       "tensor([ 0, 10, 20, 30, 40, 50, 60, 70, 80, 90])"
      ]
     },
     "execution_count": 243,
     "metadata": {},
     "output_type": "execute_result"
    }
   ],
   "source": [
    "x = torch.arange(0,100,10)\n",
    "x"
   ]
  },
  {
   "cell_type": "code",
   "execution_count": 246,
   "id": "f5b07545",
   "metadata": {},
   "outputs": [
    {
     "data": {
      "text/plain": [
       "(tensor(0), tensor(0))"
      ]
     },
     "execution_count": 246,
     "metadata": {},
     "output_type": "execute_result"
    }
   ],
   "source": [
    "x.min()  , torch.min(x)"
   ]
  },
  {
   "cell_type": "code",
   "execution_count": 248,
   "id": "023fbea0",
   "metadata": {},
   "outputs": [
    {
     "data": {
      "text/plain": [
       "(tensor(90), tensor(90))"
      ]
     },
     "execution_count": 248,
     "metadata": {},
     "output_type": "execute_result"
    }
   ],
   "source": [
    "x.max()   , torch.max(x) "
   ]
  },
  {
   "cell_type": "code",
   "execution_count": 250,
   "id": "f999a0cd",
   "metadata": {},
   "outputs": [
    {
     "data": {
      "text/plain": [
       "tensor(45.)"
      ]
     },
     "execution_count": 250,
     "metadata": {},
     "output_type": "execute_result"
    }
   ],
   "source": [
    "x.mean(dtype=torch.float32)  "
   ]
  },
  {
   "cell_type": "code",
   "execution_count": 252,
   "id": "dd345cd2",
   "metadata": {},
   "outputs": [
    {
     "data": {
      "text/plain": [
       "tensor(45.)"
      ]
     },
     "execution_count": 252,
     "metadata": {},
     "output_type": "execute_result"
    }
   ],
   "source": [
    "torch.mean(x , dtype=torch.float32) "
   ]
  },
  {
   "cell_type": "code",
   "execution_count": 253,
   "id": "b8f8debb",
   "metadata": {},
   "outputs": [
    {
     "data": {
      "text/plain": [
       "tensor(450)"
      ]
     },
     "execution_count": 253,
     "metadata": {},
     "output_type": "execute_result"
    }
   ],
   "source": [
    "x.sum() "
   ]
  },
  {
   "cell_type": "code",
   "execution_count": 254,
   "id": "8f572e69",
   "metadata": {},
   "outputs": [
    {
     "data": {
      "text/plain": [
       "tensor(450)"
      ]
     },
     "execution_count": 254,
     "metadata": {},
     "output_type": "execute_result"
    }
   ],
   "source": [
    "torch.sum(x) "
   ]
  },
  {
   "cell_type": "code",
   "execution_count": 261,
   "id": "49a647bb",
   "metadata": {},
   "outputs": [
    {
     "name": "stdout",
     "output_type": "stream",
     "text": [
      "min of tensor: 0\n",
      "max of tensor: 90\n",
      "mean of tensor: 45.0\n",
      "sum of tensor: 450\n"
     ]
    }
   ],
   "source": [
    "print(f\"min of tensor: {torch.min(x)}\")\n",
    "print(f\"max of tensor: {torch.max(x)}\")\n",
    "print(f\"mean of tensor: {torch.mean(x,dtype=torch.float16)}\") \n",
    "print(f\"sum of tensor: {torch.sum(x)}\") "
   ]
  },
  {
   "cell_type": "markdown",
   "id": "6d7f8d45",
   "metadata": {},
   "source": [
    "# positional min/max"
   ]
  },
  {
   "cell_type": "code",
   "execution_count": 266,
   "id": "1edfc7af",
   "metadata": {},
   "outputs": [
    {
     "name": "stdout",
     "output_type": "stream",
     "text": [
      "minimum number position in the tensor: 0\n",
      "maxmimum number position in the tensor: 9\n"
     ]
    }
   ],
   "source": [
    "# finding the positional min (position of the minimum number) in the above tensor\n",
    "\n",
    "torch.argmin(x) \n",
    "\n",
    "torch.argmax(x)\n",
    "\n",
    "print(f\"minimum number position in the tensor: {torch.argmin(x)}\" )\n",
    "print(f\"maxmimum number position in the tensor: {torch.argmax(x)}\" )"
   ]
  },
  {
   "cell_type": "markdown",
   "id": "2fb3e015",
   "metadata": {},
   "source": [
    "# changing tensor data type"
   ]
  },
  {
   "cell_type": "code",
   "execution_count": 268,
   "id": "508df0cb",
   "metadata": {},
   "outputs": [
    {
     "data": {
      "text/plain": [
       "torch.int64"
      ]
     },
     "execution_count": 268,
     "metadata": {},
     "output_type": "execute_result"
    }
   ],
   "source": [
    "tensor_12 = torch.arange(11,18,2)\n",
    "tensor_12.dtype"
   ]
  },
  {
   "cell_type": "code",
   "execution_count": 272,
   "id": "cd59ddf9",
   "metadata": {},
   "outputs": [
    {
     "data": {
      "text/plain": [
       "torch.float16"
      ]
     },
     "execution_count": 272,
     "metadata": {},
     "output_type": "execute_result"
    }
   ],
   "source": [
    "dtype_change_tensor_1 = tensor_12.type(dtype=torch.float16)\n",
    "dtype_change_tensor_1\n",
    "dtype_change_tensor_1.dtype"
   ]
  },
  {
   "cell_type": "code",
   "execution_count": 274,
   "id": "d60319ad",
   "metadata": {},
   "outputs": [
    {
     "data": {
      "text/plain": [
       "torch.int64"
      ]
     },
     "execution_count": 274,
     "metadata": {},
     "output_type": "execute_result"
    }
   ],
   "source": [
    "tensor_9.dtype"
   ]
  },
  {
   "cell_type": "code",
   "execution_count": 273,
   "id": "4d24c346",
   "metadata": {},
   "outputs": [
    {
     "data": {
      "text/plain": [
       "tensor([[[ 7.,  8.],\n",
       "         [ 9., 10.],\n",
       "         [11., 12.]]], dtype=torch.float16)"
      ]
     },
     "execution_count": 273,
     "metadata": {},
     "output_type": "execute_result"
    }
   ],
   "source": [
    "dtype_change_tensor_2 = tensor_9.type(dtype=torch.float16)\n",
    "dtype_change_tensor_2"
   ]
  },
  {
   "cell_type": "markdown",
   "id": "cd01d5b0",
   "metadata": {},
   "source": [
    "# reshaping, stacking, squeezing and unsqueezing\n",
    "\n",
    "reshaping - reshapes an input tensor to a defined shape\n",
    "\n",
    "Stacking: combine multiple tensors on top of each other (vstack) or side by side \n",
    "\n",
    "          :\n",
    "          \n",
    "          "
   ]
  },
  {
   "cell_type": "code",
   "execution_count": 279,
   "id": "8719b651",
   "metadata": {},
   "outputs": [
    {
     "data": {
      "text/plain": [
       "(tensor([11, 13, 15, 17]), torch.Size([4]))"
      ]
     },
     "execution_count": 279,
     "metadata": {},
     "output_type": "execute_result"
    }
   ],
   "source": [
    "# reshaping - reshapes an input tensor to a defined shape\n",
    "tensor_12    , tensor_12.shape "
   ]
  },
  {
   "cell_type": "code",
   "execution_count": 282,
   "id": "a3a0b05b",
   "metadata": {},
   "outputs": [
    {
     "data": {
      "text/plain": [
       "(tensor([[11, 13, 15, 17]]), torch.Size([1, 4]))"
      ]
     },
     "execution_count": 282,
     "metadata": {},
     "output_type": "execute_result"
    }
   ],
   "source": [
    "# adding an extra dimension to tensor_12\n",
    "tensor_12_reshaped_1 = tensor_12.reshape(1,4)\n",
    "tensor_12_reshaped_1  , tensor_12_reshaped_1.shape"
   ]
  },
  {
   "cell_type": "code",
   "execution_count": 285,
   "id": "a8f38580",
   "metadata": {},
   "outputs": [
    {
     "data": {
      "text/plain": [
       "(tensor([[11, 13],\n",
       "         [15, 17]]),\n",
       " torch.Size([2, 2]))"
      ]
     },
     "execution_count": 285,
     "metadata": {},
     "output_type": "execute_result"
    }
   ],
   "source": [
    "tensor_12_reshaped_2 = tensor_12.reshape(2,2)\n",
    "\n",
    "tensor_12_reshaped_2  , tensor_12_reshaped_2.shape"
   ]
  },
  {
   "cell_type": "code",
   "execution_count": 287,
   "id": "819ff7a0",
   "metadata": {},
   "outputs": [
    {
     "data": {
      "text/plain": [
       "(tensor([[[11, 13],\n",
       "          [15, 17]]]),\n",
       " tensor([[[11, 13],\n",
       "          [15, 17]]]))"
      ]
     },
     "execution_count": 287,
     "metadata": {},
     "output_type": "execute_result"
    }
   ],
   "source": [
    "tensor_12_reshaped_3 = tensor_12.reshape(1,2,2)\n",
    "tensor_12_reshaped_3  , tensor_12_reshaped_3"
   ]
  },
  {
   "cell_type": "code",
   "execution_count": 289,
   "id": "f76a7952",
   "metadata": {},
   "outputs": [
    {
     "data": {
      "text/plain": [
       "(tensor([[[11, 13]],\n",
       " \n",
       "         [[15, 17]]]),\n",
       " torch.Size([2, 1, 2]))"
      ]
     },
     "execution_count": 289,
     "metadata": {},
     "output_type": "execute_result"
    }
   ],
   "source": [
    "tensor_12_reshaped_4 = tensor_12.reshape(2,1,2)\n",
    "tensor_12_reshaped_4   , tensor_12_reshaped_4.shape"
   ]
  },
  {
   "cell_type": "code",
   "execution_count": 291,
   "id": "eb01c5a0",
   "metadata": {},
   "outputs": [
    {
     "data": {
      "text/plain": [
       "(tensor([[[11],\n",
       "          [13]],\n",
       " \n",
       "         [[15],\n",
       "          [17]]]),\n",
       " torch.Size([2, 2, 1]))"
      ]
     },
     "execution_count": 291,
     "metadata": {},
     "output_type": "execute_result"
    }
   ],
   "source": [
    "tensor_12_reshaped_5 = tensor_12.reshape(2,2,1)\n",
    "tensor_12_reshaped_5   , tensor_12_reshaped_5.shape "
   ]
  },
  {
   "cell_type": "markdown",
   "id": "1f28b9b6",
   "metadata": {},
   "source": [
    "# view: \n",
    "\n",
    "torch.Tensor.view(shape) :::: Returns a view of the original tensor in a different shape but shares the same data as the original tensor."
   ]
  },
  {
   "cell_type": "code",
   "execution_count": 294,
   "id": "9ba5f0ba",
   "metadata": {},
   "outputs": [
    {
     "data": {
      "text/plain": [
       "tensor([[11, 13, 15, 17]])"
      ]
     },
     "execution_count": 294,
     "metadata": {},
     "output_type": "execute_result"
    }
   ],
   "source": [
    "tensor_12_view_1 = tensor_12.view(1,4)\n",
    "tensor_12_view_1"
   ]
  },
  {
   "cell_type": "code",
   "execution_count": 296,
   "id": "5d45aab9",
   "metadata": {},
   "outputs": [
    {
     "data": {
      "text/plain": [
       "tensor([[[11],\n",
       "         [13]],\n",
       "\n",
       "        [[15],\n",
       "         [17]]])"
      ]
     },
     "execution_count": 296,
     "metadata": {},
     "output_type": "execute_result"
    }
   ],
   "source": [
    "tensor_12_view_2 = tensor_12.view(2,2,1)\n",
    "tensor_12_view_2"
   ]
  },
  {
   "cell_type": "markdown",
   "id": "f4bd7ff3",
   "metadata": {},
   "source": [
    "# Stack"
   ]
  },
  {
   "cell_type": "code",
   "execution_count": 275,
   "id": "489f908d",
   "metadata": {},
   "outputs": [],
   "source": [
    "#Stacking : Concatenates a sequence of tensors along a new dimension\n",
    "\n",
    "# combine multiple tensors on top of each other (vstack) or side by side (hstack)\n",
    "\n",
    "\n"
   ]
  },
  {
   "cell_type": "code",
   "execution_count": 276,
   "id": "264fa44c",
   "metadata": {},
   "outputs": [],
   "source": [
    "#squeeze : removes all '1' dimensions from a tensor\n",
    "\n",
    "#unsqueeze : add a '1' dimension to a target tensor"
   ]
  },
  {
   "cell_type": "code",
   "execution_count": null,
   "id": "7f2554e3",
   "metadata": {},
   "outputs": [],
   "source": []
  },
  {
   "cell_type": "code",
   "execution_count": null,
   "id": "44039013",
   "metadata": {},
   "outputs": [],
   "source": []
  },
  {
   "cell_type": "code",
   "execution_count": null,
   "id": "2392c77f",
   "metadata": {},
   "outputs": [],
   "source": []
  },
  {
   "cell_type": "markdown",
   "id": "a86303b7",
   "metadata": {},
   "source": [
    "# Excersise -1\n",
    "\n",
    "1. create a random tensor with shape(7,7)\n",
    "\n",
    "2. perform matrix multiplication on the tensor from 1 with another random tensor with shape(1,7)\n",
    "\n",
    "3. set the random seed to 0 and do 1&2 over again."
   ]
  },
  {
   "cell_type": "code",
   "execution_count": 299,
   "id": "1059f62d",
   "metadata": {},
   "outputs": [
    {
     "data": {
      "text/plain": [
       "tensor([[0.4839, 0.3076, 0.9203, 0.4500, 0.3404, 0.6884, 0.3000],\n",
       "        [0.0357, 0.9424, 0.9006, 0.1285, 0.7029, 0.7399, 0.6008],\n",
       "        [0.3692, 0.2854, 0.4239, 0.9397, 0.9875, 0.5138, 0.3223],\n",
       "        [0.9233, 0.0758, 0.3009, 0.7264, 0.2362, 0.3807, 0.1793],\n",
       "        [0.6342, 0.3813, 0.4319, 0.6552, 0.8297, 0.8372, 0.0288],\n",
       "        [0.5026, 0.4374, 0.8455, 0.5692, 0.3020, 0.3397, 0.4205],\n",
       "        [0.8214, 0.5231, 0.2453, 0.2346, 0.2925, 0.1382, 0.1452]])"
      ]
     },
     "execution_count": 299,
     "metadata": {},
     "output_type": "execute_result"
    }
   ],
   "source": [
    "tensor_A = torch.rand(7,7)\n",
    "tensor_A "
   ]
  },
  {
   "cell_type": "code",
   "execution_count": 300,
   "id": "25cfc5e0",
   "metadata": {},
   "outputs": [
    {
     "data": {
      "text/plain": [
       "tensor([[0.5533, 0.9961, 0.1985, 0.4972, 0.1499, 0.3794, 0.7071]])"
      ]
     },
     "execution_count": 300,
     "metadata": {},
     "output_type": "execute_result"
    }
   ],
   "source": [
    "tensor_B = torch.rand(1,7)\n",
    "tensor_B "
   ]
  },
  {
   "cell_type": "code",
   "execution_count": 302,
   "id": "2061ada2",
   "metadata": {},
   "outputs": [
    {
     "data": {
      "text/plain": [
       "torch.Size([7, 1])"
      ]
     },
     "execution_count": 302,
     "metadata": {},
     "output_type": "execute_result"
    }
   ],
   "source": [
    "tensor_B_transpose = tensor_B.T\n",
    "tensor_B_transpose.shape "
   ]
  },
  {
   "cell_type": "code",
   "execution_count": 303,
   "id": "15ae4ca7",
   "metadata": {},
   "outputs": [
    {
     "data": {
      "text/plain": [
       "tensor([[1.5049],\n",
       "        [2.0120],\n",
       "        [1.6108],\n",
       "        [1.3138],\n",
       "        [1.6044],\n",
       "        [1.6361],\n",
       "        [1.3398]])"
      ]
     },
     "execution_count": 303,
     "metadata": {},
     "output_type": "execute_result"
    }
   ],
   "source": [
    "torch.matmul(tensor_A , tensor_B_transpose)\n"
   ]
  },
  {
   "cell_type": "code",
   "execution_count": 305,
   "id": "0519aa17",
   "metadata": {},
   "outputs": [
    {
     "data": {
      "text/plain": [
       "tensor([[0.4963, 0.7682, 0.0885, 0.1320, 0.3074, 0.6341, 0.4901],\n",
       "        [0.8964, 0.4556, 0.6323, 0.3489, 0.4017, 0.0223, 0.1689],\n",
       "        [0.2939, 0.5185, 0.6977, 0.8000, 0.1610, 0.2823, 0.6816],\n",
       "        [0.9152, 0.3971, 0.8742, 0.4194, 0.5529, 0.9527, 0.0362],\n",
       "        [0.1852, 0.3734, 0.3051, 0.9320, 0.1759, 0.2698, 0.1507],\n",
       "        [0.0317, 0.2081, 0.9298, 0.7231, 0.7423, 0.5263, 0.2437],\n",
       "        [0.5846, 0.0332, 0.1387, 0.2422, 0.8155, 0.7932, 0.2783]])"
      ]
     },
     "execution_count": 305,
     "metadata": {},
     "output_type": "execute_result"
    }
   ],
   "source": [
    "# # Set the random seed\n",
    "RANDOM_SEED=0 # try changing this to different values and see what happens to the numbers below\n",
    "torch.manual_seed(seed=RANDOM_SEED) \n",
    "random_seed_tensor_A = torch.rand(7,7)\n",
    "random_seed_tensor_A"
   ]
  },
  {
   "cell_type": "code",
   "execution_count": 306,
   "id": "80e137dd",
   "metadata": {},
   "outputs": [
    {
     "data": {
      "text/plain": [
       "tensor([[0.4820, 0.8198, 0.9971, 0.6984, 0.5675, 0.8352, 0.2056]])"
      ]
     },
     "execution_count": 306,
     "metadata": {},
     "output_type": "execute_result"
    }
   ],
   "source": [
    "random_seed_tensor_B = torch.rand(1,7)\n",
    "random_seed_tensor_B"
   ]
  },
  {
   "cell_type": "code",
   "execution_count": 307,
   "id": "c9cab37b",
   "metadata": {},
   "outputs": [],
   "source": [
    "random_seed_tensor_B_transpose = random_seed_tensor_B.T"
   ]
  },
  {
   "cell_type": "code",
   "execution_count": 308,
   "id": "136f81d5",
   "metadata": {},
   "outputs": [
    {
     "data": {
      "text/plain": [
       "tensor([[1.8542],\n",
       "        [1.9611],\n",
       "        [2.2884],\n",
       "        [3.0481],\n",
       "        [1.7067],\n",
       "        [2.5290],\n",
       "        [1.7989]])"
      ]
     },
     "execution_count": 308,
     "metadata": {},
     "output_type": "execute_result"
    }
   ],
   "source": [
    "torch.mm(random_seed_tensor_A , random_seed_tensor_B_transpose)"
   ]
  },
  {
   "cell_type": "markdown",
   "id": "ca1f2fa4",
   "metadata": {},
   "source": [
    "# Reference:\n",
    "\n",
    "https://github.com/mrdbourke/pytorch-deep-learning/blob/main/00_pytorch_fundamentals.ipynb"
   ]
  }
 ],
 "metadata": {
  "kernelspec": {
   "display_name": "Python 3 (ipykernel)",
   "language": "python",
   "name": "python3"
  },
  "language_info": {
   "codemirror_mode": {
    "name": "ipython",
    "version": 3
   },
   "file_extension": ".py",
   "mimetype": "text/x-python",
   "name": "python",
   "nbconvert_exporter": "python",
   "pygments_lexer": "ipython3",
   "version": "3.8.16"
  }
 },
 "nbformat": 4,
 "nbformat_minor": 5
}
