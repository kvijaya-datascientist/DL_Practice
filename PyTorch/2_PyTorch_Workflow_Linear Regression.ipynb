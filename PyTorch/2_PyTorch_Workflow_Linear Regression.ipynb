{
 "cells": [
  {
   "cell_type": "markdown",
   "id": "31240f4b",
   "metadata": {},
   "source": [
    "# PyTorch workflow(end-to-end)\n",
    "\n",
    "1. data preparation and loading\n",
    "\n",
    "2. creating/building a model\n",
    "\n",
    "3. fitting the model to data (training)\n",
    "\n",
    "4. making predictions \n",
    "\n",
    "5. evaluating a model (inference)\n",
    "\n",
    "6. improve model/experimentation (optional step)\n",
    "\n",
    "7. saving and loading a model "
   ]
  },
  {
   "cell_type": "code",
   "execution_count": 3,
   "id": "da7b45cd",
   "metadata": {},
   "outputs": [
    {
     "data": {
      "text/plain": [
       "'1.13.0+cpu'"
      ]
     },
     "execution_count": 3,
     "metadata": {},
     "output_type": "execute_result"
    }
   ],
   "source": [
    "import torch\n",
    "from torch import nn   # nn contains all of the PyTorch's building blocks for neural networks\n",
    "\n",
    "\n",
    "import matplotlib.pyplot as plt\n",
    "\n",
    "\n",
    "#check PyTorch version\n",
    "torch.__version__"
   ]
  },
  {
   "cell_type": "markdown",
   "id": "982155ed",
   "metadata": {},
   "source": [
    "# 1. Data preparation / loading\n",
    "\n",
    "Data can be almost anything... in ML:\n",
    "\n",
    "Excel spreadsheets\n",
    "\n",
    "Images of any kind\n",
    "\n",
    "videos (youTube has lot of data)\n",
    "\n",
    "Audio like songs or podcasts\n",
    "\n",
    "DNA\n",
    "\n",
    "Text\n",
    "\n",
    "ML is a game of two parts:\n",
    "\n",
    "1. Get data into a numerical representation\n",
    "\n",
    "2. Build a model to learn patterns in that numerical representation."
   ]
  },
  {
   "cell_type": "code",
   "execution_count": 4,
   "id": "58ed3dc1",
   "metadata": {},
   "outputs": [],
   "source": [
    "# here, let's create some known data using the linear regression formula (y = mx+b).\n",
    "\n",
    "# we will use a linear regression formula to make a straight line with known parameters.\n",
    "\n",
    "# creating known parameters\n",
    "weight =0.7\n",
    "bias = 0.3 \n",
    "\n",
    "# create\n",
    "start = 0\n",
    "end = 1\n",
    "step = 0.02\n",
    "\n",
    "X = torch.arange(start, end, step).unsqueeze(dim=1)\n",
    "\n",
    "Y = weight * X + bias"
   ]
  },
  {
   "cell_type": "code",
   "execution_count": 6,
   "id": "d60fb755",
   "metadata": {},
   "outputs": [
    {
     "data": {
      "text/plain": [
       "(tensor([[0.0000],\n",
       "         [0.0200],\n",
       "         [0.0400],\n",
       "         [0.0600],\n",
       "         [0.0800]]),\n",
       " tensor([[0.3000],\n",
       "         [0.3140],\n",
       "         [0.3280],\n",
       "         [0.3420],\n",
       "         [0.3560]]))"
      ]
     },
     "execution_count": 6,
     "metadata": {},
     "output_type": "execute_result"
    }
   ],
   "source": [
    "X[:5]       ,     Y[:5]     "
   ]
  },
  {
   "cell_type": "code",
   "execution_count": 7,
   "id": "3a7d80b4",
   "metadata": {},
   "outputs": [
    {
     "data": {
      "text/plain": [
       "(50, 50)"
      ]
     },
     "execution_count": 7,
     "metadata": {},
     "output_type": "execute_result"
    }
   ],
   "source": [
    " len(X)   ,  len(Y)"
   ]
  },
  {
   "cell_type": "code",
   "execution_count": 15,
   "id": "67f25231",
   "metadata": {},
   "outputs": [
    {
     "data": {
      "text/plain": [
       "(torch.Size([50, 1]), torch.Size([50, 1]))"
      ]
     },
     "execution_count": 15,
     "metadata": {},
     "output_type": "execute_result"
    }
   ],
   "source": [
    "X.shape     ,   Y.shape "
   ]
  },
  {
   "cell_type": "raw",
   "id": "b9718ec1",
   "metadata": {},
   "source": [
    "1.1 Splitting dataset into training and test sets"
   ]
  },
  {
   "cell_type": "code",
   "execution_count": 39,
   "id": "0bd8e6ad",
   "metadata": {},
   "outputs": [
    {
     "data": {
      "text/plain": [
       "(40, 40, 10, 10)"
      ]
     },
     "execution_count": 39,
     "metadata": {},
     "output_type": "execute_result"
    }
   ],
   "source": [
    "# train_test_split approach\n",
    "\n",
    "from sklearn.model_selection import train_test_split\n",
    "\n",
    "x_train_1, x_test_1, y_train_1, y_test_1 = train_test_split(X, Y, test_size=0.2,shuffle= True,random_state=42)\n",
    "\n",
    "len(x_train_1)  ,  len(y_train_1) , len(x_test_1) , len(y_test_1)"
   ]
  },
  {
   "cell_type": "code",
   "execution_count": 20,
   "id": "6907d8eb",
   "metadata": {},
   "outputs": [],
   "source": [
    "# KFold approach\n",
    "from sklearn.model_selection import KFold\n",
    "\n",
    "kf = KFold(n_splits=6, shuffle=True, random_state=42)\n",
    "\n",
    "for train_index, test_index in kf.split(X):\n",
    "  #  print(\"TRAIN:\", train_index, \"TEST:\", test_index)\n",
    "  x_train_2 , x_test_2 = X[train_index] , X[test_index]\n",
    "  y_train_2 , y_test_2 = Y[train_index] , Y[test_index]"
   ]
  },
  {
   "cell_type": "code",
   "execution_count": 17,
   "id": "a199f42e",
   "metadata": {},
   "outputs": [
    {
     "data": {
      "text/plain": [
       "(42, 8)"
      ]
     },
     "execution_count": 17,
     "metadata": {},
     "output_type": "execute_result"
    }
   ],
   "source": [
    "len(train_index)  , len(test_index) "
   ]
  },
  {
   "cell_type": "code",
   "execution_count": 23,
   "id": "580014f9",
   "metadata": {},
   "outputs": [
    {
     "data": {
      "text/plain": [
       "(42, 42, 8, 8)"
      ]
     },
     "execution_count": 23,
     "metadata": {},
     "output_type": "execute_result"
    }
   ],
   "source": [
    "len(x_train_2)  ,  len(y_train_2) , len(x_test_2) , len(y_test_2)"
   ]
  },
  {
   "cell_type": "raw",
   "id": "ec02abbe",
   "metadata": {},
   "source": [
    "1.2 Visualizing train & test data"
   ]
  },
  {
   "cell_type": "code",
   "execution_count": 27,
   "id": "253aaee3",
   "metadata": {},
   "outputs": [
    {
     "data": {
      "text/plain": [
       "<matplotlib.collections.PathCollection at 0x26fafbaf220>"
      ]
     },
     "execution_count": 27,
     "metadata": {},
     "output_type": "execute_result"
    },
    {
     "data": {
      "image/png": "[encoded data removed]",
      "text/plain": [
       "<Figure size 640x480 with 1 Axes>"
      ]
     },
     "metadata": {},
     "output_type": "display_data"
    }
   ],
   "source": [
    "plt.scatter(x_train_2 , y_train_2 , c='b' , label='train data')\n",
    "\n",
    "plt.scatter(x_test_2, y_test_2, c='g' , label='test data')"
   ]
  },
  {
   "cell_type": "code",
   "execution_count": 28,
   "id": "ed96a329",
   "metadata": {},
   "outputs": [],
   "source": [
    "def plot_predictions(train_data=x_train_2,train_labels=y_train_2,\n",
    "                     test_data=x_test_2 , test_labels=y_test_2,\n",
    "                     predictions=None):\n",
    "    \"\"\" ploting train data ,test data and predictions for comparison \"\"\"\n",
    "    plt.figure(figsize=(10,7))\n",
    "    \n",
    "    #plotting training data\n",
    "    plt.scatter(train_data , train_labels , c='b' , s=4, label='train data')\n",
    "    \n",
    "    #plotting test data\n",
    "    plt.scatter(test_data , test_labels , c='g' , s=4, label='test data')\n",
    "    \n",
    "    #are there predictions?\n",
    "    if predictions is not None:\n",
    "        plt.scatter(test_data , predictions, c='r' , s=4 , label='predictions')\n",
    "    #show the legend\n",
    "    plt.legend(prop = {\"size\":14})"
   ]
  },
  {
   "cell_type": "code",
   "execution_count": 29,
   "id": "07105c55",
   "metadata": {},
   "outputs": [
    {
     "data": {
      "image/png": "[encoded data removed]",
      "text/plain": [
       "<Figure size 1000x700 with 1 Axes>"
      ]
     },
     "metadata": {},
     "output_type": "display_data"
    }
   ],
   "source": [
    "plot_predictions()"
   ]
  },
  {
   "cell_type": "code",
   "execution_count": 40,
   "id": "57fb6218",
   "metadata": {},
   "outputs": [
    {
     "data": {
      "text/plain": [
       "<matplotlib.collections.PathCollection at 0x26fb59c8a00>"
      ]
     },
     "execution_count": 40,
     "metadata": {},
     "output_type": "execute_result"
    },
    {
     "data": {
      "image/png": "[encoded data removed]",
      "text/plain": [
       "<Figure size 640x480 with 1 Axes>"
      ]
     },
     "metadata": {},
     "output_type": "display_data"
    }
   ],
   "source": [
    "plt.scatter(x_train_1 , y_train_1 , c='b' , label='train data')\n",
    "\n",
    "plt.scatter(x_test_1, y_test_1, c='g' , label='test data')"
   ]
  },
  {
   "cell_type": "markdown",
   "id": "e0b76bf9",
   "metadata": {},
   "source": [
    "# 2. Building model"
   ]
  },
  {
   "cell_type": "code",
   "execution_count": 42,
   "id": "631698ca",
   "metadata": {},
   "outputs": [],
   "source": [
    "# create linear regression model\n",
    "class LinearRegressionModel(nn.Module):    # almost everything in PyTorch inherits from nn.module\n",
    "    def __init__(self):\n",
    "        super().__init__()\n",
    "        self.weight = nn.Parameter(torch.randn(1,requires_grad=True,dtype=torch.float32))\n",
    "        self.bias = nn.Parameter(torch.randn(1,requires_grad=True,dtype=torch.float32))\n",
    "        #forward method to define the computation in the model\n",
    "        def forward(self, x: torch.tensor) -> torch.tensor:\n",
    "            return self.weights * x + self.bias\n",
    "    \n"
   ]
  },
  {
   "cell_type": "code",
   "execution_count": null,
   "id": "6efafda9",
   "metadata": {},
   "outputs": [],
   "source": []
  },
  {
   "cell_type": "code",
   "execution_count": null,
   "id": "e2bfbbd4",
   "metadata": {},
   "outputs": [],
   "source": []
  },
  {
   "cell_type": "code",
   "execution_count": null,
   "id": "98ef4622",
   "metadata": {},
   "outputs": [],
   "source": []
  },
  {
   "cell_type": "code",
   "execution_count": null,
   "id": "d102036a",
   "metadata": {},
   "outputs": [],
   "source": []
  },
  {
   "cell_type": "code",
   "execution_count": null,
   "id": "d265db78",
   "metadata": {},
   "outputs": [],
   "source": []
  },
  {
   "cell_type": "code",
   "execution_count": null,
   "id": "df952d0e",
   "metadata": {},
   "outputs": [],
   "source": []
  },
  {
   "cell_type": "code",
   "execution_count": null,
   "id": "b36ce16d",
   "metadata": {},
   "outputs": [],
   "source": []
  }
 ],
 "metadata": {
  "kernelspec": {
   "display_name": "Python 3 (ipykernel)",
   "language": "python",
   "name": "python3"
  },
  "language_info": {
   "codemirror_mode": {
    "name": "ipython",
    "version": 3
   },
   "file_extension": ".py",
   "mimetype": "text/x-python",
   "name": "python",
   "nbconvert_exporter": "python",
   "pygments_lexer": "ipython3",
   "version": "3.8.16"
  }
 },
 "nbformat": 4,
 "nbformat_minor": 5
}
