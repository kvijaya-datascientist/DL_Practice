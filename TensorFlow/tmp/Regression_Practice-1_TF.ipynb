{
 "cells": [
  {
   "cell_type": "code",
   "execution_count": null,
   "id": "e9c5f81e",
   "metadata": {},
   "outputs": [],
   "source": [
    "import tensorflow as tf\n",
    "\n",
    "import numpy as np\n",
    "import matplotlib.pyplot as plt"
   ]
  },
  {
   "cell_type": "code",
   "execution_count": 4,
   "id": "d56f117d",
   "metadata": {},
   "outputs": [],
   "source": [
    "# Create features\n",
    "X = np.array([-7.0, -4.0, -1.0, 2.0, 5.0, 8.0, 11.0, 14.0])\n",
    "\n",
    "# Create labels\n",
    "Y = np.array([3.0, 6.0, 9.0, 12.0, 15.0, 18.0, 21.0, 24.0])"
   ]
  },
  {
   "cell_type": "code",
   "execution_count": 7,
   "id": "545c9165",
   "metadata": {},
   "outputs": [
    {
     "data": {
      "text/plain": [
       "<matplotlib.collections.PathCollection at 0x28d74b7eed0>"
      ]
     },
     "execution_count": 7,
     "metadata": {},
     "output_type": "execute_result"
    },
    {
     "data": {
      "image/png": "[encoded data removed]",
      "text/plain": [
       "<Figure size 640x480 with 1 Axes>"
      ]
     },
     "metadata": {},
     "output_type": "display_data"
    }
   ],
   "source": [
    "#plotting the data\n",
    "\n",
    "plt.scatter(X,Y)\n"
   ]
  },
  {
   "cell_type": "code",
   "execution_count": 10,
   "id": "465a76d2",
   "metadata": {},
   "outputs": [
    {
     "data": {
      "text/plain": [
       "(TensorShape([8]), TensorShape([8]))"
      ]
     },
     "execution_count": 10,
     "metadata": {},
     "output_type": "execute_result"
    }
   ],
   "source": [
    "# converting numpy features(X,Y) into tensors\n",
    "\n",
    "X = tf.constant(X)\n",
    "Y = tf.constant(Y)\n",
    "\n",
    "X.shape  , Y.shape"
   ]
  },
  {
   "cell_type": "code",
   "execution_count": 11,
   "id": "5e5d3199",
   "metadata": {},
   "outputs": [
    {
     "data": {
      "text/plain": [
       "(<tf.Tensor: shape=(8,), dtype=float64, numpy=array([-7., -4., -1.,  2.,  5.,  8., 11., 14.])>,\n",
       " <tf.Tensor: shape=(8,), dtype=float64, numpy=array([ 3.,  6.,  9., 12., 15., 18., 21., 24.])>)"
      ]
     },
     "execution_count": 11,
     "metadata": {},
     "output_type": "execute_result"
    }
   ],
   "source": [
    "# features(X,Y) tensor information\n",
    "\n",
    "X  , Y"
   ]
  },
  {
   "cell_type": "code",
   "execution_count": 42,
   "id": "3d2b815e",
   "metadata": {},
   "outputs": [],
   "source": [
    "# for performance purpose\n",
    "X = tf.cast(tf.constant(X) , dtype=tf.float16)\n",
    "Y = tf.cast(tf.constant(Y) , dtype= tf.float16)"
   ]
  },
  {
   "cell_type": "code",
   "execution_count": 43,
   "id": "cb49bb2c",
   "metadata": {},
   "outputs": [
    {
     "data": {
      "text/plain": [
       "(<tf.Tensor: shape=(8,), dtype=float16, numpy=array([-7., -4., -1.,  2.,  5.,  8., 11., 14.], dtype=float16)>,\n",
       " <tf.Tensor: shape=(8,), dtype=float16, numpy=array([ 3.,  6.,  9., 12., 15., 18., 21., 24.], dtype=float16)>)"
      ]
     },
     "execution_count": 43,
     "metadata": {},
     "output_type": "execute_result"
    }
   ],
   "source": [
    "X  ,   Y"
   ]
  },
  {
   "cell_type": "code",
   "execution_count": 56,
   "id": "a5d346f8",
   "metadata": {},
   "outputs": [
    {
     "data": {
      "text/plain": [
       "<tf.Tensor: shape=(8,), dtype=bool, numpy=array([ True,  True,  True,  True,  True,  True,  True,  True])>"
      ]
     },
     "execution_count": 56,
     "metadata": {},
     "output_type": "execute_result"
    }
   ],
   "source": [
    "# from the features, below is the abservation \n",
    "   #   Y = X+10\n",
    "Y == X+10"
   ]
  },
  {
   "cell_type": "code",
   "execution_count": 44,
   "id": "bc106f6b",
   "metadata": {},
   "outputs": [
    {
     "data": {
      "text/plain": [
       "<matplotlib.collections.PathCollection at 0x28d03e2ac90>"
      ]
     },
     "execution_count": 44,
     "metadata": {},
     "output_type": "execute_result"
    },
    {
     "data": {
      "image/png": "[encoded data removed]",
      "text/plain": [
       "<Figure size 640x480 with 1 Axes>"
      ]
     },
     "metadata": {},
     "output_type": "display_data"
    }
   ],
   "source": [
    "plt.scatter(X , Y)"
   ]
  },
  {
   "cell_type": "code",
   "execution_count": 50,
   "id": "882f7c8e",
   "metadata": {},
   "outputs": [
    {
     "name": "stdout",
     "output_type": "stream",
     "text": [
      "Epoch 1/22\n",
      "1/1 [==============================] - 1s 667ms/step - loss: 10.4933 - mae: 10.4933\n",
      "Epoch 2/22\n",
      "1/1 [==============================] - 0s 12ms/step - loss: 10.3608 - mae: 10.3608\n",
      "Epoch 3/22\n",
      "1/1 [==============================] - 0s 13ms/step - loss: 10.2283 - mae: 10.2283\n",
      "Epoch 4/22\n",
      "1/1 [==============================] - 0s 14ms/step - loss: 10.0958 - mae: 10.0958\n",
      "Epoch 5/22\n",
      "1/1 [==============================] - 0s 15ms/step - loss: 9.9633 - mae: 9.9633\n",
      "Epoch 6/22\n",
      "1/1 [==============================] - 0s 12ms/step - loss: 9.8308 - mae: 9.8308\n",
      "Epoch 7/22\n",
      "1/1 [==============================] - 0s 14ms/step - loss: 9.6983 - mae: 9.6983\n",
      "Epoch 8/22\n",
      "1/1 [==============================] - 0s 13ms/step - loss: 9.5658 - mae: 9.5658\n",
      "Epoch 9/22\n",
      "1/1 [==============================] - 0s 13ms/step - loss: 9.4333 - mae: 9.4333\n",
      "Epoch 10/22\n",
      "1/1 [==============================] - 0s 12ms/step - loss: 9.3008 - mae: 9.3008\n",
      "Epoch 11/22\n",
      "1/1 [==============================] - 0s 10ms/step - loss: 9.1683 - mae: 9.1683\n",
      "Epoch 12/22\n",
      "1/1 [==============================] - 0s 10ms/step - loss: 9.0358 - mae: 9.0358\n",
      "Epoch 13/22\n",
      "1/1 [==============================] - 0s 11ms/step - loss: 8.9033 - mae: 8.9033\n",
      "Epoch 14/22\n",
      "1/1 [==============================] - 0s 11ms/step - loss: 8.7708 - mae: 8.7708\n",
      "Epoch 15/22\n",
      "1/1 [==============================] - 0s 9ms/step - loss: 8.6383 - mae: 8.6383\n",
      "Epoch 16/22\n",
      "1/1 [==============================] - 0s 12ms/step - loss: 8.5058 - mae: 8.5058\n",
      "Epoch 17/22\n",
      "1/1 [==============================] - 0s 10ms/step - loss: 8.3733 - mae: 8.3733\n",
      "Epoch 18/22\n",
      "1/1 [==============================] - 0s 10ms/step - loss: 8.2408 - mae: 8.2408\n",
      "Epoch 19/22\n",
      "1/1 [==============================] - 0s 8ms/step - loss: 8.1083 - mae: 8.1083\n",
      "Epoch 20/22\n",
      "1/1 [==============================] - 0s 10ms/step - loss: 7.9758 - mae: 7.9758\n",
      "Epoch 21/22\n",
      "1/1 [==============================] - 0s 14ms/step - loss: 7.8433 - mae: 7.8433\n",
      "Epoch 22/22\n",
      "1/1 [==============================] - 0s 13ms/step - loss: 7.7108 - mae: 7.7108\n"
     ]
    },
    {
     "data": {
      "text/plain": [
       "<keras.callbacks.History at 0x28d7d534190>"
      ]
     },
     "execution_count": 50,
     "metadata": {},
     "output_type": "execute_result"
    }
   ],
   "source": [
    "# Creating regression model\n",
    "\n",
    "tf.random.set_seed(42)  # set seed for reproduceble results\n",
    "\n",
    "#1. creating the model\n",
    "model = tf.keras.Sequential([\n",
    "        tf.keras.layers.Dense(1)\n",
    "])\n",
    "\n",
    "#2. compiling the model\n",
    "model.compile(loss = tf.keras.losses.mae,\n",
    "              optimizer = tf.keras.optimizers.SGD(),  # SGD = stochastic Gradient Descent\n",
    "              metrics = ['mae'])\n",
    "\n",
    "#3. fitting the model\n",
    "model.fit(tf.expand_dims(X , axis=-1)  , Y, epochs=22)\n",
    "\n"
   ]
  },
  {
   "cell_type": "code",
   "execution_count": 52,
   "id": "d60a4318",
   "metadata": {},
   "outputs": [
    {
     "name": "stdout",
     "output_type": "stream",
     "text": [
      "1/1 [==============================] - 0s 218ms/step\n"
     ]
    },
    {
     "data": {
      "text/plain": [
       "array([[27.913815]], dtype=float32)"
      ]
     },
     "execution_count": 52,
     "metadata": {},
     "output_type": "execute_result"
    }
   ],
   "source": [
    "model.predict([17]) # wow, perfect prediction"
   ]
  },
  {
   "cell_type": "code",
   "execution_count": 57,
   "id": "af5df1f4",
   "metadata": {},
   "outputs": [
    {
     "name": "stdout",
     "output_type": "stream",
     "text": [
      "1/1 [==============================] - 0s 103ms/step\n"
     ]
    },
    {
     "data": {
      "text/plain": [
       "array([[163.1248]], dtype=float32)"
      ]
     },
     "execution_count": 57,
     "metadata": {},
     "output_type": "execute_result"
    }
   ],
   "source": [
    "model.predict([100])  # expected val=110, try to improce the model."
   ]
  },
  {
   "cell_type": "markdown",
   "id": "d903d689",
   "metadata": {},
   "source": [
    "# improving the model\n",
    "\n",
    "Common ways to improve the model\n",
    "\n",
    "1. Adding layers\n",
    "2. Increase the number of hidden layers\n",
    "\n",
    "3. Change the activation function\n",
    "\n",
    "4. Change the optimization function\n",
    "\n",
    "5. change the learning_rate value\n",
    "\n",
    "6. fitting more on data\n",
    "\n",
    "7. fitting for longer\n",
    "\n",
    "  All the above are hyper parmeter values"
   ]
  },
  {
   "cell_type": "code",
   "execution_count": 72,
   "id": "7849a432",
   "metadata": {},
   "outputs": [
    {
     "name": "stdout",
     "output_type": "stream",
     "text": [
      "Epoch 1/40\n",
      "1/1 [==============================] - 1s 1s/step - loss: 13.1355 - mae: 13.1355\n",
      "Epoch 2/40\n",
      "1/1 [==============================] - 0s 14ms/step - loss: 12.9029 - mae: 12.9029\n",
      "Epoch 3/40\n",
      "1/1 [==============================] - 0s 12ms/step - loss: 12.6815 - mae: 12.6815\n",
      "Epoch 4/40\n",
      "1/1 [==============================] - 0s 11ms/step - loss: 12.4256 - mae: 12.4256\n",
      "Epoch 5/40\n",
      "1/1 [==============================] - 0s 13ms/step - loss: 12.1319 - mae: 12.1319\n",
      "Epoch 6/40\n",
      "1/1 [==============================] - 0s 10ms/step - loss: 11.7856 - mae: 11.7856\n",
      "Epoch 7/40\n",
      "1/1 [==============================] - 0s 13ms/step - loss: 11.3818 - mae: 11.3818\n",
      "Epoch 8/40\n",
      "1/1 [==============================] - 0s 13ms/step - loss: 10.9174 - mae: 10.9174\n",
      "Epoch 9/40\n",
      "1/1 [==============================] - 0s 13ms/step - loss: 10.5048 - mae: 10.5048\n",
      "Epoch 10/40\n",
      "1/1 [==============================] - 0s 14ms/step - loss: 9.9820 - mae: 9.9820\n",
      "Epoch 11/40\n",
      "1/1 [==============================] - 0s 11ms/step - loss: 9.2976 - mae: 9.2976\n",
      "Epoch 12/40\n",
      "1/1 [==============================] - 0s 14ms/step - loss: 8.3328 - mae: 8.3328\n",
      "Epoch 13/40\n",
      "1/1 [==============================] - 0s 13ms/step - loss: 6.9512 - mae: 6.9512\n",
      "Epoch 14/40\n",
      "1/1 [==============================] - 0s 13ms/step - loss: 4.8785 - mae: 4.8785\n",
      "Epoch 15/40\n",
      "1/1 [==============================] - 0s 13ms/step - loss: 4.3308 - mae: 4.3308\n",
      "Epoch 16/40\n",
      "1/1 [==============================] - 0s 11ms/step - loss: 4.4601 - mae: 4.4601\n",
      "Epoch 17/40\n",
      "1/1 [==============================] - 0s 12ms/step - loss: 4.7786 - mae: 4.7786\n",
      "Epoch 18/40\n",
      "1/1 [==============================] - 0s 12ms/step - loss: 4.0812 - mae: 4.0812\n",
      "Epoch 19/40\n",
      "1/1 [==============================] - 0s 11ms/step - loss: 3.9010 - mae: 3.9010\n",
      "Epoch 20/40\n",
      "1/1 [==============================] - 0s 12ms/step - loss: 4.0207 - mae: 4.0207\n",
      "Epoch 21/40\n",
      "1/1 [==============================] - 0s 12ms/step - loss: 3.9056 - mae: 3.9056\n",
      "Epoch 22/40\n",
      "1/1 [==============================] - 0s 12ms/step - loss: 3.9590 - mae: 3.9590\n",
      "Epoch 23/40\n",
      "1/1 [==============================] - 0s 12ms/step - loss: 3.9166 - mae: 3.9166\n",
      "Epoch 24/40\n",
      "1/1 [==============================] - 0s 13ms/step - loss: 3.8912 - mae: 3.8912\n",
      "Epoch 25/40\n",
      "1/1 [==============================] - 0s 15ms/step - loss: 3.9260 - mae: 3.9260\n",
      "Epoch 26/40\n",
      "1/1 [==============================] - 0s 15ms/step - loss: 3.8248 - mae: 3.8248\n",
      "Epoch 27/40\n",
      "1/1 [==============================] - 0s 11ms/step - loss: 3.9413 - mae: 3.9413\n",
      "Epoch 28/40\n",
      "1/1 [==============================] - 0s 12ms/step - loss: 3.7503 - mae: 3.7503\n",
      "Epoch 29/40\n",
      "1/1 [==============================] - 0s 13ms/step - loss: 3.9535 - mae: 3.9535\n",
      "Epoch 30/40\n",
      "1/1 [==============================] - 0s 12ms/step - loss: 3.6832 - mae: 3.6832\n",
      "Epoch 31/40\n",
      "1/1 [==============================] - 0s 13ms/step - loss: 3.9387 - mae: 3.9387\n",
      "Epoch 32/40\n",
      "1/1 [==============================] - 0s 12ms/step - loss: 3.7046 - mae: 3.7046\n",
      "Epoch 33/40\n",
      "1/1 [==============================] - 0s 12ms/step - loss: 3.8607 - mae: 3.8607\n",
      "Epoch 34/40\n",
      "1/1 [==============================] - 0s 10ms/step - loss: 3.7251 - mae: 3.7251\n",
      "Epoch 35/40\n",
      "1/1 [==============================] - 0s 9ms/step - loss: 3.7804 - mae: 3.7804\n",
      "Epoch 36/40\n",
      "1/1 [==============================] - 0s 29ms/step - loss: 3.7461 - mae: 3.7461\n",
      "Epoch 37/40\n",
      "1/1 [==============================] - 0s 10ms/step - loss: 3.6977 - mae: 3.6977\n",
      "Epoch 38/40\n",
      "1/1 [==============================] - 0s 12ms/step - loss: 3.7696 - mae: 3.7696\n",
      "Epoch 39/40\n",
      "1/1 [==============================] - 0s 12ms/step - loss: 3.6098 - mae: 3.6098\n",
      "Epoch 40/40\n",
      "1/1 [==============================] - 0s 12ms/step - loss: 3.7970 - mae: 3.7970\n"
     ]
    },
    {
     "data": {
      "text/plain": [
       "<keras.callbacks.History at 0x28d001f4a90>"
      ]
     },
     "execution_count": 72,
     "metadata": {},
     "output_type": "execute_result"
    }
   ],
   "source": [
    "tf.random.set_seed(42)\n",
    "# 1. Model creation\n",
    "model_1 = tf.keras.Sequential([\n",
    "            tf.keras.layers.Dense(100, activation='relu'), \n",
    "            tf.keras.layers.Dense(100, activation='relu'),\n",
    "            tf.keras.layers.Dense(100, activation='relu'),\n",
    "            tf.keras.layers.Dense(100, activation='relu'),\n",
    "            tf.keras.layers.Dense(1)\n",
    "])\n",
    "\n",
    "# 2. Compiling the model\n",
    "model_1.compile(loss = tf.keras.losses.mae,\n",
    "                optimizer = tf.keras.optimizers.SGD(),\n",
    "                metrics = [\"mae\"])\n",
    "\n",
    "#3. Fitting the model\n",
    "model_1.fit(tf.expand_dims(X, axis=-1), Y, epochs=40)"
   ]
  },
  {
   "cell_type": "code",
   "execution_count": 75,
   "id": "986f785e",
   "metadata": {},
   "outputs": [
    {
     "name": "stdout",
     "output_type": "stream",
     "text": [
      "1/1 [==============================] - 0s 82ms/step\n"
     ]
    },
    {
     "data": {
      "text/plain": [
       "array([[31.870058]], dtype=float32)"
      ]
     },
     "execution_count": 75,
     "metadata": {},
     "output_type": "execute_result"
    }
   ],
   "source": [
    "model_1.predict([17])"
   ]
  },
  {
   "cell_type": "code",
   "execution_count": 76,
   "id": "0c2f13f3",
   "metadata": {},
   "outputs": [
    {
     "name": "stdout",
     "output_type": "stream",
     "text": [
      "1/1 [==============================] - 0s 93ms/step\n"
     ]
    },
    {
     "data": {
      "text/plain": [
       "array([[181.04918]], dtype=float32)"
      ]
     },
     "execution_count": 76,
     "metadata": {},
     "output_type": "execute_result"
    }
   ],
   "source": [
    "model_1.predict([100])"
   ]
  },
  {
   "cell_type": "code",
   "execution_count": 89,
   "id": "3a9119ce",
   "metadata": {},
   "outputs": [
    {
     "name": "stdout",
     "output_type": "stream",
     "text": [
      "Epoch 1/30\n",
      "1/1 [==============================] - 2s 2s/step - loss: 13.3751 - mae: 13.3751\n",
      "Epoch 2/30\n",
      "1/1 [==============================] - 0s 14ms/step - loss: 11.1123 - mae: 11.1123\n",
      "Epoch 3/30\n",
      "1/1 [==============================] - 0s 15ms/step - loss: 7.6690 - mae: 7.6690\n",
      "Epoch 4/30\n",
      "1/1 [==============================] - 0s 15ms/step - loss: 5.7031 - mae: 5.7031\n",
      "Epoch 5/30\n",
      "1/1 [==============================] - 0s 14ms/step - loss: 5.2215 - mae: 5.2215\n",
      "Epoch 6/30\n",
      "1/1 [==============================] - 0s 14ms/step - loss: 3.8896 - mae: 3.8896\n",
      "Epoch 7/30\n",
      "1/1 [==============================] - 0s 13ms/step - loss: 4.3963 - mae: 4.3963\n",
      "Epoch 8/30\n",
      "1/1 [==============================] - 0s 13ms/step - loss: 3.6193 - mae: 3.6193\n",
      "Epoch 9/30\n",
      "1/1 [==============================] - 0s 13ms/step - loss: 4.1360 - mae: 4.1360\n",
      "Epoch 10/30\n",
      "1/1 [==============================] - 0s 9ms/step - loss: 4.1302 - mae: 4.1302\n",
      "Epoch 11/30\n",
      "1/1 [==============================] - 0s 13ms/step - loss: 3.5178 - mae: 3.5178\n",
      "Epoch 12/30\n",
      "1/1 [==============================] - 0s 13ms/step - loss: 3.6280 - mae: 3.6280\n",
      "Epoch 13/30\n",
      "1/1 [==============================] - 0s 13ms/step - loss: 3.3842 - mae: 3.3842\n",
      "Epoch 14/30\n",
      "1/1 [==============================] - 0s 15ms/step - loss: 3.3039 - mae: 3.3039\n",
      "Epoch 15/30\n",
      "1/1 [==============================] - 0s 12ms/step - loss: 3.3224 - mae: 3.3224\n",
      "Epoch 16/30\n",
      "1/1 [==============================] - 0s 14ms/step - loss: 3.2541 - mae: 3.2541\n",
      "Epoch 17/30\n",
      "1/1 [==============================] - 0s 13ms/step - loss: 2.9705 - mae: 2.9705\n",
      "Epoch 18/30\n",
      "1/1 [==============================] - 0s 13ms/step - loss: 3.2805 - mae: 3.2805\n",
      "Epoch 19/30\n",
      "1/1 [==============================] - 0s 13ms/step - loss: 2.9132 - mae: 2.9132\n",
      "Epoch 20/30\n",
      "1/1 [==============================] - 0s 12ms/step - loss: 2.6869 - mae: 2.6869\n",
      "Epoch 21/30\n",
      "1/1 [==============================] - 0s 11ms/step - loss: 2.6527 - mae: 2.6527\n",
      "Epoch 22/30\n",
      "1/1 [==============================] - 0s 13ms/step - loss: 2.6641 - mae: 2.6641\n",
      "Epoch 23/30\n",
      "1/1 [==============================] - 0s 11ms/step - loss: 2.2443 - mae: 2.2443\n",
      "Epoch 24/30\n",
      "1/1 [==============================] - 0s 12ms/step - loss: 2.1723 - mae: 2.1723\n",
      "Epoch 25/30\n",
      "1/1 [==============================] - 0s 12ms/step - loss: 1.9578 - mae: 1.9578\n",
      "Epoch 26/30\n",
      "1/1 [==============================] - 0s 12ms/step - loss: 1.5780 - mae: 1.5780\n",
      "Epoch 27/30\n",
      "1/1 [==============================] - 0s 12ms/step - loss: 1.7082 - mae: 1.7082\n",
      "Epoch 28/30\n",
      "1/1 [==============================] - 0s 12ms/step - loss: 1.2675 - mae: 1.2675\n",
      "Epoch 29/30\n",
      "1/1 [==============================] - 0s 13ms/step - loss: 1.6913 - mae: 1.6913\n",
      "Epoch 30/30\n",
      "1/1 [==============================] - 0s 11ms/step - loss: 0.6134 - mae: 0.6134\n"
     ]
    },
    {
     "data": {
      "text/plain": [
       "<keras.callbacks.History at 0x28d0aa53b10>"
      ]
     },
     "execution_count": 89,
     "metadata": {},
     "output_type": "execute_result"
    }
   ],
   "source": [
    "model_2 = tf.keras.Sequential()\n",
    "model_2.add(tf.keras.layers.Dense(100 , activation='relu')),\n",
    "model_2.add(tf.keras.layers.Dense(100 , activation='relu')),\n",
    "model_2.add(tf.keras.layers.Dense(100 , activation='relu')),\n",
    "model_2.add(tf.keras.layers.Dense(100 , activation='relu')),\n",
    "model_2.add(tf.keras.layers.Dense(1))\n",
    "\n",
    "\n",
    "model_2.compile(loss = tf.keras.losses.mae,\n",
    "                optimizer = tf.keras.optimizers.Adam(learning_rate=0.01),\n",
    "                metrics = [\"mae\"])\n",
    "model_2.fit(tf.expand_dims(X , axis=-1) , Y , epochs=30)"
   ]
  },
  {
   "cell_type": "code",
   "execution_count": 92,
   "id": "dbe4e2d1",
   "metadata": {},
   "outputs": [
    {
     "name": "stdout",
     "output_type": "stream",
     "text": [
      "1/1 [==============================] - 0s 90ms/step\n"
     ]
    },
    {
     "data": {
      "text/plain": [
       "array([[30.294874]], dtype=float32)"
      ]
     },
     "execution_count": 92,
     "metadata": {},
     "output_type": "execute_result"
    }
   ],
   "source": [
    "model_2.predict([17])"
   ]
  },
  {
   "cell_type": "code",
   "execution_count": 112,
   "id": "95f845a6",
   "metadata": {},
   "outputs": [
    {
     "name": "stdout",
     "output_type": "stream",
     "text": [
      "Epoch 1/45\n",
      "1/1 [==============================] - 1s 1s/step - loss: 13.2306 - mae: 13.2306\n",
      "Epoch 2/45\n",
      "1/1 [==============================] - 0s 8ms/step - loss: 7.6139 - mae: 7.6139\n",
      "Epoch 3/45\n",
      "1/1 [==============================] - 0s 9ms/step - loss: 11.1457 - mae: 11.1457\n",
      "Epoch 4/45\n",
      "1/1 [==============================] - 0s 6ms/step - loss: 11.4856 - mae: 11.4856\n",
      "Epoch 5/45\n",
      "1/1 [==============================] - 0s 8ms/step - loss: 10.2835 - mae: 10.2835\n",
      "Epoch 6/45\n",
      "1/1 [==============================] - 0s 10ms/step - loss: 7.1157 - mae: 7.1157\n",
      "Epoch 7/45\n",
      "1/1 [==============================] - 0s 8ms/step - loss: 5.5646 - mae: 5.5646\n",
      "Epoch 8/45\n",
      "1/1 [==============================] - 0s 6ms/step - loss: 5.9537 - mae: 5.9537\n",
      "Epoch 9/45\n",
      "1/1 [==============================] - 0s 10ms/step - loss: 3.5536 - mae: 3.5536\n",
      "Epoch 10/45\n",
      "1/1 [==============================] - 0s 4ms/step - loss: 5.4678 - mae: 5.4678\n",
      "Epoch 11/45\n",
      "1/1 [==============================] - 0s 6ms/step - loss: 4.5245 - mae: 4.5245\n",
      "Epoch 12/45\n",
      "1/1 [==============================] - 0s 8ms/step - loss: 3.4260 - mae: 3.4260\n",
      "Epoch 13/45\n",
      "1/1 [==============================] - 0s 6ms/step - loss: 3.7957 - mae: 3.7957\n",
      "Epoch 14/45\n",
      "1/1 [==============================] - 0s 9ms/step - loss: 2.6777 - mae: 2.6777\n",
      "Epoch 15/45\n",
      "1/1 [==============================] - 0s 5ms/step - loss: 2.7454 - mae: 2.7454\n",
      "Epoch 16/45\n",
      "1/1 [==============================] - 0s 5ms/step - loss: 2.0163 - mae: 2.0163\n",
      "Epoch 17/45\n",
      "1/1 [==============================] - 0s 6ms/step - loss: 2.1416 - mae: 2.1416\n",
      "Epoch 18/45\n",
      "1/1 [==============================] - 0s 7ms/step - loss: 1.0373 - mae: 1.0373\n",
      "Epoch 19/45\n",
      "1/1 [==============================] - 0s 10ms/step - loss: 2.8572 - mae: 2.8572\n",
      "Epoch 20/45\n",
      "1/1 [==============================] - 0s 6ms/step - loss: 1.9660 - mae: 1.9660\n",
      "Epoch 21/45\n",
      "1/1 [==============================] - 0s 6ms/step - loss: 3.8423 - mae: 3.8423\n",
      "Epoch 22/45\n",
      "1/1 [==============================] - 0s 5ms/step - loss: 1.8856 - mae: 1.8856\n",
      "Epoch 23/45\n",
      "1/1 [==============================] - 0s 5ms/step - loss: 3.1525 - mae: 3.1525\n",
      "Epoch 24/45\n",
      "1/1 [==============================] - 0s 5ms/step - loss: 4.2653 - mae: 4.2653\n",
      "Epoch 25/45\n",
      "1/1 [==============================] - 0s 5ms/step - loss: 3.7668 - mae: 3.7668\n",
      "Epoch 26/45\n",
      "1/1 [==============================] - 0s 4ms/step - loss: 1.7395 - mae: 1.7395\n",
      "Epoch 27/45\n",
      "1/1 [==============================] - 0s 9ms/step - loss: 3.2262 - mae: 3.2262\n",
      "Epoch 28/45\n",
      "1/1 [==============================] - 0s 3ms/step - loss: 3.8992 - mae: 3.8992\n",
      "Epoch 29/45\n",
      "1/1 [==============================] - 0s 9ms/step - loss: 1.4842 - mae: 1.4842\n",
      "Epoch 30/45\n",
      "1/1 [==============================] - 0s 4ms/step - loss: 2.6016 - mae: 2.6016\n",
      "Epoch 31/45\n",
      "1/1 [==============================] - 0s 7ms/step - loss: 3.9044 - mae: 3.9044\n",
      "Epoch 32/45\n",
      "1/1 [==============================] - 0s 4ms/step - loss: 3.8323 - mae: 3.8323\n",
      "Epoch 33/45\n",
      "1/1 [==============================] - 0s 8ms/step - loss: 2.6797 - mae: 2.6797\n",
      "Epoch 34/45\n",
      "1/1 [==============================] - 0s 4ms/step - loss: 0.5231 - mae: 0.5231\n",
      "Epoch 35/45\n",
      "1/1 [==============================] - 0s 7ms/step - loss: 2.4712 - mae: 2.4712\n",
      "Epoch 36/45\n",
      "1/1 [==============================] - 0s 6ms/step - loss: 1.6645 - mae: 1.6645\n",
      "Epoch 37/45\n",
      "1/1 [==============================] - 0s 8ms/step - loss: 1.2509 - mae: 1.2509\n",
      "Epoch 38/45\n",
      "1/1 [==============================] - 0s 14ms/step - loss: 1.9858 - mae: 1.9858\n",
      "Epoch 39/45\n",
      "1/1 [==============================] - 0s 3ms/step - loss: 1.3287 - mae: 1.3287\n",
      "Epoch 40/45\n",
      "1/1 [==============================] - 0s 6ms/step - loss: 1.3312 - mae: 1.3312\n",
      "Epoch 41/45\n",
      "1/1 [==============================] - 0s 4ms/step - loss: 1.4394 - mae: 1.4394\n",
      "Epoch 42/45\n",
      "1/1 [==============================] - 0s 4ms/step - loss: 0.5319 - mae: 0.5319\n",
      "Epoch 43/45\n",
      "1/1 [==============================] - 0s 6ms/step - loss: 0.4692 - mae: 0.4692\n",
      "Epoch 44/45\n",
      "1/1 [==============================] - 0s 4ms/step - loss: 1.1329 - mae: 1.1329\n",
      "Epoch 45/45\n",
      "1/1 [==============================] - 0s 8ms/step - loss: 0.5676 - mae: 0.5676\n"
     ]
    },
    {
     "data": {
      "text/plain": [
       "<keras.callbacks.History at 0x28d0468d110>"
      ]
     },
     "execution_count": 112,
     "metadata": {},
     "output_type": "execute_result"
    }
   ],
   "source": [
    "tf.random.set_seed(42)\n",
    "model_3 = tf.keras.Sequential()\n",
    "model_3.add(tf.keras.layers.Dense(150 , activation='relu')),\n",
    "model_3.add(tf.keras.layers.Dense(150 , activation='relu')),\n",
    "model_3.add(tf.keras.layers.Dense(150 , activation='relu')),\n",
    "model_3.add(tf.keras.layers.Dense(150 , activation='relu')),\n",
    "model_3.add(tf.keras.layers.Dense(1))\n",
    "\n",
    "\n",
    "model_3.compile(loss = tf.keras.losses.mae,\n",
    "                optimizer = tf.keras.optimizers.Adam(learning_rate=0.02),\n",
    "                metrics = [\"mae\"])\n",
    "model_3.fit(tf.expand_dims(X , axis=-1) , Y , epochs=45)"
   ]
  },
  {
   "cell_type": "code",
   "execution_count": 113,
   "id": "92ff94aa",
   "metadata": {},
   "outputs": [
    {
     "name": "stdout",
     "output_type": "stream",
     "text": [
      "1/1 [==============================] - 0s 94ms/step\n"
     ]
    },
    {
     "data": {
      "text/plain": [
       "array([[24.299427]], dtype=float32)"
      ]
     },
     "execution_count": 113,
     "metadata": {},
     "output_type": "execute_result"
    }
   ],
   "source": [
    "model_3.predict([17])"
   ]
  },
  {
   "cell_type": "code",
   "execution_count": null,
   "id": "f2dda658",
   "metadata": {},
   "outputs": [],
   "source": [
    "#4. evaluating the metrics\n",
    "\n",
    "\n",
    "#5. predictions for new data"
   ]
  },
  {
   "cell_type": "code",
   "execution_count": 114,
   "id": "b1c4ece6",
   "metadata": {},
   "outputs": [
    {
     "name": "stdout",
     "output_type": "stream",
     "text": [
      "Epoch 1/45\n",
      "1/1 [==============================] - 1s 1s/step - loss: 13.5450 - mae: 13.5450\n",
      "Epoch 2/45\n",
      "1/1 [==============================] - 0s 7ms/step - loss: 8.2865 - mae: 8.2865\n",
      "Epoch 3/45\n",
      "1/1 [==============================] - 0s 10ms/step - loss: 12.3571 - mae: 12.3571\n",
      "Epoch 4/45\n",
      "1/1 [==============================] - 0s 9ms/step - loss: 5.8070 - mae: 5.8070\n",
      "Epoch 5/45\n",
      "1/1 [==============================] - 0s 9ms/step - loss: 6.9567 - mae: 6.9567\n",
      "Epoch 6/45\n",
      "1/1 [==============================] - 0s 7ms/step - loss: 7.9997 - mae: 7.9997\n",
      "Epoch 7/45\n",
      "1/1 [==============================] - 0s 11ms/step - loss: 6.6751 - mae: 6.6751\n",
      "Epoch 8/45\n",
      "1/1 [==============================] - 0s 10ms/step - loss: 3.8890 - mae: 3.8890\n",
      "Epoch 9/45\n",
      "1/1 [==============================] - 0s 8ms/step - loss: 4.8442 - mae: 4.8442\n",
      "Epoch 10/45\n",
      "1/1 [==============================] - 0s 7ms/step - loss: 5.1040 - mae: 5.1040\n",
      "Epoch 11/45\n",
      "1/1 [==============================] - 0s 8ms/step - loss: 3.9334 - mae: 3.9334\n",
      "Epoch 12/45\n",
      "1/1 [==============================] - 0s 7ms/step - loss: 3.7410 - mae: 3.7410\n",
      "Epoch 13/45\n",
      "1/1 [==============================] - 0s 8ms/step - loss: 3.7581 - mae: 3.7581\n",
      "Epoch 14/45\n",
      "1/1 [==============================] - 0s 7ms/step - loss: 3.0574 - mae: 3.0574\n",
      "Epoch 15/45\n",
      "1/1 [==============================] - 0s 4ms/step - loss: 3.3683 - mae: 3.3683\n",
      "Epoch 16/45\n",
      "1/1 [==============================] - 0s 6ms/step - loss: 2.7698 - mae: 2.7698\n",
      "Epoch 17/45\n",
      "1/1 [==============================] - 0s 7ms/step - loss: 2.6976 - mae: 2.6976\n",
      "Epoch 18/45\n",
      "1/1 [==============================] - 0s 8ms/step - loss: 2.1406 - mae: 2.1406\n",
      "Epoch 19/45\n",
      "1/1 [==============================] - 0s 8ms/step - loss: 2.3548 - mae: 2.3548\n",
      "Epoch 20/45\n",
      "1/1 [==============================] - 0s 13ms/step - loss: 1.8467 - mae: 1.8467\n",
      "Epoch 21/45\n",
      "1/1 [==============================] - 0s 9ms/step - loss: 1.6886 - mae: 1.6886\n",
      "Epoch 22/45\n",
      "1/1 [==============================] - 0s 8ms/step - loss: 1.1293 - mae: 1.1293\n",
      "Epoch 23/45\n",
      "1/1 [==============================] - 0s 5ms/step - loss: 0.8831 - mae: 0.8831\n",
      "Epoch 24/45\n",
      "1/1 [==============================] - 0s 6ms/step - loss: 0.5879 - mae: 0.5879\n",
      "Epoch 25/45\n",
      "1/1 [==============================] - 0s 6ms/step - loss: 1.7561 - mae: 1.7561\n",
      "Epoch 26/45\n",
      "1/1 [==============================] - 0s 7ms/step - loss: 0.5337 - mae: 0.5337\n",
      "Epoch 27/45\n",
      "1/1 [==============================] - 0s 6ms/step - loss: 2.8182 - mae: 2.8182\n",
      "Epoch 28/45\n",
      "1/1 [==============================] - 0s 5ms/step - loss: 3.6630 - mae: 3.6630\n",
      "Epoch 29/45\n",
      "1/1 [==============================] - 0s 5ms/step - loss: 3.2501 - mae: 3.2501\n",
      "Epoch 30/45\n",
      "1/1 [==============================] - 0s 7ms/step - loss: 1.6454 - mae: 1.6454\n",
      "Epoch 31/45\n",
      "1/1 [==============================] - 0s 6ms/step - loss: 1.6103 - mae: 1.6103\n",
      "Epoch 32/45\n",
      "1/1 [==============================] - 0s 5ms/step - loss: 2.3698 - mae: 2.3698\n",
      "Epoch 33/45\n",
      "1/1 [==============================] - 0s 7ms/step - loss: 0.9982 - mae: 0.9982\n",
      "Epoch 34/45\n",
      "1/1 [==============================] - 0s 7ms/step - loss: 1.6743 - mae: 1.6743\n",
      "Epoch 35/45\n",
      "1/1 [==============================] - 0s 7ms/step - loss: 2.3525 - mae: 2.3525\n",
      "Epoch 36/45\n",
      "1/1 [==============================] - 0s 6ms/step - loss: 1.7357 - mae: 1.7357\n",
      "Epoch 37/45\n",
      "1/1 [==============================] - 0s 8ms/step - loss: 1.1524 - mae: 1.1524\n",
      "Epoch 38/45\n",
      "1/1 [==============================] - 0s 8ms/step - loss: 1.0398 - mae: 1.0398\n",
      "Epoch 39/45\n",
      "1/1 [==============================] - 0s 6ms/step - loss: 0.7755 - mae: 0.7755\n",
      "Epoch 40/45\n",
      "1/1 [==============================] - 0s 4ms/step - loss: 0.6370 - mae: 0.6370\n",
      "Epoch 41/45\n",
      "1/1 [==============================] - 0s 7ms/step - loss: 1.2864 - mae: 1.2864\n",
      "Epoch 42/45\n",
      "1/1 [==============================] - 0s 5ms/step - loss: 1.2771 - mae: 1.2771\n",
      "Epoch 43/45\n",
      "1/1 [==============================] - 0s 7ms/step - loss: 0.3576 - mae: 0.3576\n",
      "Epoch 44/45\n",
      "1/1 [==============================] - 0s 5ms/step - loss: 0.3961 - mae: 0.3961\n",
      "Epoch 45/45\n",
      "1/1 [==============================] - 0s 8ms/step - loss: 0.8351 - mae: 0.8351\n"
     ]
    },
    {
     "data": {
      "text/plain": [
       "<keras.callbacks.History at 0x28d7d360c90>"
      ]
     },
     "execution_count": 114,
     "metadata": {},
     "output_type": "execute_result"
    }
   ],
   "source": [
    "tf.random.set_seed(42)\n",
    "model_4 = tf.keras.Sequential()\n",
    "model_4.add(tf.keras.layers.Dense(1, input_shape=[1])),\n",
    "model_4.add(tf.keras.layers.Dense(150 , activation='relu')),\n",
    "model_4.add(tf.keras.layers.Dense(150 , activation='relu')),\n",
    "model_4.add(tf.keras.layers.Dense(150 , activation='relu')),\n",
    "model_4.add(tf.keras.layers.Dense(1))\n",
    "\n",
    "\n",
    "model_4.compile(loss = tf.keras.losses.mae,\n",
    "                optimizer = tf.keras.optimizers.Adam(learning_rate=0.02),\n",
    "                metrics = [\"mae\"])\n",
    "model_4.fit(X , Y , epochs=45)"
   ]
  },
  {
   "cell_type": "code",
   "execution_count": 116,
   "id": "dd198640",
   "metadata": {},
   "outputs": [
    {
     "name": "stdout",
     "output_type": "stream",
     "text": [
      "1/1 [==============================] - 0s 31ms/step\n"
     ]
    },
    {
     "data": {
      "text/plain": [
       "array([[125.64337]], dtype=float32)"
      ]
     },
     "execution_count": 116,
     "metadata": {},
     "output_type": "execute_result"
    }
   ],
   "source": [
    "model_4.predict([100])"
   ]
  },
  {
   "cell_type": "code",
   "execution_count": null,
   "id": "43f4cb2a",
   "metadata": {},
   "outputs": [],
   "source": [
    "#Referrence : https://github.com/mrdbourke/tensorflow-deep-learning/blob/main/01_neural_network_regression_in_tensorflow.ipynb"
   ]
  }
 ],
 "metadata": {
  "kernelspec": {
   "display_name": "Python 3 (ipykernel)",
   "language": "python",
   "name": "python3"
  },
  "language_info": {
   "codemirror_mode": {
    "name": "ipython",
    "version": 3
   },
   "file_extension": ".py",
   "mimetype": "text/x-python",
   "name": "python",
   "nbconvert_exporter": "python",
   "pygments_lexer": "ipython3",
   "version": "3.11.0"
  }
 },
 "nbformat": 4,
 "nbformat_minor": 5
}
