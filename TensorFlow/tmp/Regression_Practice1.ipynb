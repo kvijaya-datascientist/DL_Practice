{
 "cells": [
  {
   "cell_type": "code",
   "execution_count": 3,
   "id": "6df0778c",
   "metadata": {},
   "outputs": [],
   "source": [
    "#import libraries\n",
    "import tensorflow as tf\n",
    "\n",
    "import matplotlib.pyplot as plt\n",
    "import numpy as np"
   ]
  },
  {
   "cell_type": "code",
   "execution_count": 6,
   "id": "9cf7a1e9",
   "metadata": {},
   "outputs": [],
   "source": [
    "# creating features & label\n",
    "X = np.array([-7.0, -4.0, -1.0, 2.0, 5.0, 8.0, 11.0, 14.0])\n",
    "\n",
    "# Create labels\n",
    "Y = np.array([3.0, 6.0, 9.0, 12.0, 15.0, 18.0, 21.0, 24.0])"
   ]
  },
  {
   "cell_type": "code",
   "execution_count": 7,
   "id": "1bcb20e0",
   "metadata": {},
   "outputs": [
    {
     "data": {
      "text/plain": [
       "<matplotlib.collections.PathCollection at 0x24ae908a650>"
      ]
     },
     "execution_count": 7,
     "metadata": {},
     "output_type": "execute_result"
    },
    {
     "data": {
      "image/png": "[encoded data removed]",
      "text/plain": [
       "<Figure size 640x480 with 1 Axes>"
      ]
     },
     "metadata": {},
     "output_type": "display_data"
    }
   ],
   "source": [
    "#plot the data\n",
    "plt.scatter(X,Y)"
   ]
  },
  {
   "cell_type": "raw",
   "id": "c60f5bf3",
   "metadata": {},
   "source": [
    "# In Neural N/W Regression, I/P,O/Ps should be in tensor form\n",
    "\n",
    "X = tf.constant([-7.0, -4.0, -1.0, 2.0, 5.0, 8.0, 11.0, 14.0])\n",
    "\n",
    "Y = tf.constant([3.0, 6.0, 9.0, 12.0, 15.0, 18.0, 21.0, 24.0])"
   ]
  },
  {
   "cell_type": "code",
   "execution_count": 8,
   "id": "1b853cc3",
   "metadata": {},
   "outputs": [
    {
     "data": {
      "text/plain": [
       "((8,), (8,))"
      ]
     },
     "execution_count": 8,
     "metadata": {},
     "output_type": "execute_result"
    }
   ],
   "source": [
    "X.shape  , Y.shape"
   ]
  },
  {
   "cell_type": "code",
   "execution_count": 9,
   "id": "6c9e3a7f",
   "metadata": {},
   "outputs": [
    {
     "data": {
      "text/plain": [
       "(1, 1)"
      ]
     },
     "execution_count": 9,
     "metadata": {},
     "output_type": "execute_result"
    }
   ],
   "source": [
    "X.ndim  , Y.ndim"
   ]
  },
  {
   "cell_type": "code",
   "execution_count": 11,
   "id": "0397bdd3",
   "metadata": {},
   "outputs": [
    {
     "data": {
      "text/plain": [
       "((), ())"
      ]
     },
     "execution_count": 11,
     "metadata": {},
     "output_type": "execute_result"
    }
   ],
   "source": [
    "X[0].shape  , Y[0].shape  # seems these are scalers"
   ]
  },
  {
   "cell_type": "markdown",
   "id": "22675f7c",
   "metadata": {},
   "source": [
    "# Regression Model"
   ]
  },
  {
   "cell_type": "code",
   "execution_count": 56,
   "id": "29c95975",
   "metadata": {},
   "outputs": [
    {
     "name": "stdout",
     "output_type": "stream",
     "text": [
      "Epoch 1/30\n",
      "1/1 [==============================] - 1s 760ms/step - loss: 12.6083 - mae: 12.6083\n",
      "Epoch 2/30\n",
      "1/1 [==============================] - 0s 8ms/step - loss: 12.0815 - mae: 12.0815\n",
      "Epoch 3/30\n",
      "1/1 [==============================] - 0s 11ms/step - loss: 11.5434 - mae: 11.5434\n",
      "Epoch 4/30\n",
      "1/1 [==============================] - 0s 10ms/step - loss: 10.9915 - mae: 10.9915\n",
      "Epoch 5/30\n",
      "1/1 [==============================] - 0s 12ms/step - loss: 10.4177 - mae: 10.4177\n",
      "Epoch 6/30\n",
      "1/1 [==============================] - 0s 13ms/step - loss: 9.8153 - mae: 9.8153\n",
      "Epoch 7/30\n",
      "1/1 [==============================] - 0s 11ms/step - loss: 9.1826 - mae: 9.1826\n",
      "Epoch 8/30\n",
      "1/1 [==============================] - 0s 11ms/step - loss: 8.5249 - mae: 8.5249\n",
      "Epoch 9/30\n",
      "1/1 [==============================] - 0s 12ms/step - loss: 7.8242 - mae: 7.8242\n",
      "Epoch 10/30\n",
      "1/1 [==============================] - 0s 11ms/step - loss: 7.0714 - mae: 7.0714\n",
      "Epoch 11/30\n",
      "1/1 [==============================] - 0s 10ms/step - loss: 6.2627 - mae: 6.2627\n",
      "Epoch 12/30\n",
      "1/1 [==============================] - 0s 12ms/step - loss: 5.3908 - mae: 5.3908\n",
      "Epoch 13/30\n",
      "1/1 [==============================] - 0s 13ms/step - loss: 4.4519 - mae: 4.4519\n",
      "Epoch 14/30\n",
      "1/1 [==============================] - 0s 11ms/step - loss: 3.9732 - mae: 3.9732\n",
      "Epoch 15/30\n",
      "1/1 [==============================] - 0s 12ms/step - loss: 3.9384 - mae: 3.9384\n",
      "Epoch 16/30\n",
      "1/1 [==============================] - 0s 11ms/step - loss: 3.9412 - mae: 3.9412\n",
      "Epoch 17/30\n",
      "1/1 [==============================] - 0s 10ms/step - loss: 3.9450 - mae: 3.9450\n",
      "Epoch 18/30\n",
      "1/1 [==============================] - 0s 14ms/step - loss: 3.9156 - mae: 3.9156\n",
      "Epoch 19/30\n",
      "1/1 [==============================] - 0s 11ms/step - loss: 3.9517 - mae: 3.9517\n",
      "Epoch 20/30\n",
      "1/1 [==============================] - 0s 10ms/step - loss: 3.8899 - mae: 3.8899\n",
      "Epoch 21/30\n",
      "1/1 [==============================] - 0s 10ms/step - loss: 3.9629 - mae: 3.9629\n",
      "Epoch 22/30\n",
      "1/1 [==============================] - 0s 10ms/step - loss: 3.8996 - mae: 3.8996\n",
      "Epoch 23/30\n",
      "1/1 [==============================] - 0s 13ms/step - loss: 3.9448 - mae: 3.9448\n",
      "Epoch 24/30\n",
      "1/1 [==============================] - 0s 10ms/step - loss: 3.9063 - mae: 3.9063\n",
      "Epoch 25/30\n",
      "1/1 [==============================] - 0s 10ms/step - loss: 3.9192 - mae: 3.9192\n",
      "Epoch 26/30\n",
      "1/1 [==============================] - 0s 11ms/step - loss: 3.9132 - mae: 3.9132\n",
      "Epoch 27/30\n",
      "1/1 [==============================] - 0s 11ms/step - loss: 3.8933 - mae: 3.8933\n",
      "Epoch 28/30\n",
      "1/1 [==============================] - 0s 11ms/step - loss: 3.9201 - mae: 3.9201\n",
      "Epoch 29/30\n",
      "1/1 [==============================] - 0s 10ms/step - loss: 3.8706 - mae: 3.8706\n",
      "Epoch 30/30\n",
      "1/1 [==============================] - 0s 10ms/step - loss: 3.9355 - mae: 3.9355\n"
     ]
    },
    {
     "data": {
      "text/plain": [
       "<keras.callbacks.History at 0x24afa764290>"
      ]
     },
     "execution_count": 56,
     "metadata": {},
     "output_type": "execute_result"
    }
   ],
   "source": [
    "#set random seed\n",
    "tf.random.set_seed(42)\n",
    "\n",
    "#create the model\n",
    "model = tf.keras.Sequential([\n",
    "       tf.keras.Input(shape=(1,)),\n",
    "        tf.keras.layers.Dense(100,activation='relu'),\n",
    "       # tf.keras.layers.Dense(100,activation='relu'),\n",
    "        tf.keras.layers.Dense(1)\n",
    "])\n",
    "\n",
    "#compile the model\n",
    "model.compile(loss= tf.keras.losses.mae,\n",
    "              optimizer = tf.keras.optimizers.SGD(),\n",
    "              metrics = [\"mae\"])\n",
    "#fit the model\n",
    "model.fit(X, Y, epochs=30)"
   ]
  },
  {
   "cell_type": "code",
   "execution_count": 48,
   "id": "54e8705f",
   "metadata": {},
   "outputs": [
    {
     "name": "stdout",
     "output_type": "stream",
     "text": [
      "1/1 [==============================] - 0s 160ms/step\n"
     ]
    },
    {
     "data": {
      "text/plain": [
       "array([[36.01415]], dtype=float32)"
      ]
     },
     "execution_count": 48,
     "metadata": {},
     "output_type": "execute_result"
    }
   ],
   "source": [
    "#prediction\n",
    "model.predict([18])"
   ]
  },
  {
   "cell_type": "code",
   "execution_count": null,
   "id": "b9637162",
   "metadata": {},
   "outputs": [],
   "source": []
  }
 ],
 "metadata": {
  "kernelspec": {
   "display_name": "Python 3 (ipykernel)",
   "language": "python",
   "name": "python3"
  },
  "language_info": {
   "codemirror_mode": {
    "name": "ipython",
    "version": 3
   },
   "file_extension": ".py",
   "mimetype": "text/x-python",
   "name": "python",
   "nbconvert_exporter": "python",
   "pygments_lexer": "ipython3",
   "version": "3.11.0"
  }
 },
 "nbformat": 4,
 "nbformat_minor": 5
}
