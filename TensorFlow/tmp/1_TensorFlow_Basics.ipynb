{
 "cells": [
  {
   "cell_type": "code",
   "execution_count": 5,
   "id": "98b46183",
   "metadata": {},
   "outputs": [],
   "source": [
    "import tensorflow as tf\n",
    "#import tensorflow_addons as tfa\n",
    "import tensorflow_probability as tfp\n",
    "\n",
    "import numpy as np"
   ]
  },
  {
   "cell_type": "code",
   "execution_count": 3,
   "id": "7e876c22",
   "metadata": {},
   "outputs": [
    {
     "name": "stdout",
     "output_type": "stream",
     "text": [
      "2.12.0\n",
      "0.19.0\n"
     ]
    }
   ],
   "source": [
    "print(tf.__version__)\n",
    "\n",
    "#print(tfa.__version__)\n",
    "\n",
    "print(tfp.__version__)"
   ]
  },
  {
   "cell_type": "code",
   "execution_count": 10,
   "id": "5b733009",
   "metadata": {},
   "outputs": [],
   "source": []
  },
  {
   "cell_type": "markdown",
   "id": "1246aa08",
   "metadata": {},
   "source": [
    "# creating tensor with tf.constant()"
   ]
  },
  {
   "cell_type": "code",
   "execution_count": 6,
   "id": "2b72ad53",
   "metadata": {},
   "outputs": [
    {
     "data": {
      "text/plain": [
       "<tf.Tensor: shape=(), dtype=int32, numpy=7>"
      ]
     },
     "execution_count": 6,
     "metadata": {},
     "output_type": "execute_result"
    }
   ],
   "source": [
    "#lets create tensor with tf.constant()\n",
    "\n",
    "scalar = tf.constant(7)  # here scalar is a number\n",
    "scalar"
   ]
  },
  {
   "cell_type": "code",
   "execution_count": 8,
   "id": "9f64c0bc",
   "metadata": {},
   "outputs": [
    {
     "data": {
      "text/plain": [
       "0"
      ]
     },
     "execution_count": 8,
     "metadata": {},
     "output_type": "execute_result"
    }
   ],
   "source": [
    "scalar.ndim  # Rank / No.of dimensions   # scaler has rank 0 , vector -1 , matrix-2 , tensor - n"
   ]
  },
  {
   "cell_type": "code",
   "execution_count": 10,
   "id": "2ee813e7",
   "metadata": {},
   "outputs": [
    {
     "data": {
      "text/plain": [
       "<tf.Tensor: shape=(3,), dtype=int32, numpy=array([1, 2, 3])>"
      ]
     },
     "execution_count": 10,
     "metadata": {},
     "output_type": "execute_result"
    }
   ],
   "source": [
    "#create a vector with 1 dimension\n",
    "vector = tf.constant([1,2,3])  # vector is a number with direction\n",
    "vector"
   ]
  },
  {
   "cell_type": "code",
   "execution_count": 11,
   "id": "703ba0c0",
   "metadata": {},
   "outputs": [
    {
     "data": {
      "text/plain": [
       "1"
      ]
     },
     "execution_count": 11,
     "metadata": {},
     "output_type": "execute_result"
    }
   ],
   "source": [
    "vector.ndim"
   ]
  },
  {
   "cell_type": "code",
   "execution_count": 14,
   "id": "778ca6bf",
   "metadata": {},
   "outputs": [
    {
     "data": {
      "text/plain": [
       "<tf.Tensor: shape=(2, 2), dtype=int32, numpy=\n",
       "array([[1, 2],\n",
       "       [4, 3]])>"
      ]
     },
     "execution_count": 14,
     "metadata": {},
     "output_type": "execute_result"
    }
   ],
   "source": [
    "#create a matrix more than 2 dimension\n",
    "matrix = tf.constant([[1,2],\n",
    "                     [4,3]])\n",
    "matrix"
   ]
  },
  {
   "cell_type": "code",
   "execution_count": 15,
   "id": "0c28e557",
   "metadata": {},
   "outputs": [
    {
     "data": {
      "text/plain": [
       "2"
      ]
     },
     "execution_count": 15,
     "metadata": {},
     "output_type": "execute_result"
    }
   ],
   "source": [
    "matrix.ndim"
   ]
  },
  {
   "cell_type": "code",
   "execution_count": 22,
   "id": "3906c9c9",
   "metadata": {},
   "outputs": [
    {
     "data": {
      "text/plain": [
       "<tf.Tensor: shape=(3, 4), dtype=int32, numpy=\n",
       "array([[1, 2, 3, 4],\n",
       "       [4, 3, 3, 1],\n",
       "       [3, 4, 3, 1]])>"
      ]
     },
     "execution_count": 22,
     "metadata": {},
     "output_type": "execute_result"
    }
   ],
   "source": [
    "#create a matrix more than 3 dimension\n",
    "matrix1 = tf.constant([[1,2,3,4],\n",
    "                     [4,3,3,1],\n",
    "                     [3,4,3,1]])\n",
    "matrix1"
   ]
  },
  {
   "cell_type": "code",
   "execution_count": 23,
   "id": "0edeac71",
   "metadata": {},
   "outputs": [
    {
     "data": {
      "text/plain": [
       "2"
      ]
     },
     "execution_count": 23,
     "metadata": {},
     "output_type": "execute_result"
    }
   ],
   "source": [
    "matrix1.ndim"
   ]
  },
  {
   "cell_type": "code",
   "execution_count": 26,
   "id": "694084ea",
   "metadata": {},
   "outputs": [
    {
     "data": {
      "text/plain": [
       "<tf.Tensor: shape=(3,), dtype=float16, numpy=array([1., 2., 2.], dtype=float16)>"
      ]
     },
     "execution_count": 26,
     "metadata": {},
     "output_type": "execute_result"
    }
   ],
   "source": [
    "#matrix with defined data type\n",
    "matrix2 = tf.constant([1,2,2] , dtype=tf.float16)\n",
    "\n",
    "matrix2"
   ]
  },
  {
   "cell_type": "markdown",
   "id": "c2973383",
   "metadata": {},
   "source": [
    "# creating tensor with tf.variable"
   ]
  },
  {
   "cell_type": "code",
   "execution_count": 35,
   "id": "21acaba6",
   "metadata": {},
   "outputs": [
    {
     "data": {
      "text/plain": [
       "<tf.Variable 'Variable:0' shape=(2,) dtype=int32, numpy=array([10,  7])>"
      ]
     },
     "execution_count": 35,
     "metadata": {},
     "output_type": "execute_result"
    }
   ],
   "source": [
    "#create the tensor with tf.constant() & tf.variable()\n",
    "changeble_tensor = tf.Variable([10,7])  # can assign new val\n",
    "unchangeble_tensor = tf.constant([3,7])  # we can't assign new val to constant tensor\n",
    "\n",
    "changeble_tensor"
   ]
  },
  {
   "cell_type": "code",
   "execution_count": 36,
   "id": "a603add5",
   "metadata": {},
   "outputs": [
    {
     "data": {
      "text/plain": [
       "<tf.Tensor: shape=(2,), dtype=int32, numpy=array([3, 7])>"
      ]
     },
     "execution_count": 36,
     "metadata": {},
     "output_type": "execute_result"
    }
   ],
   "source": [
    "unchangeble_tensor"
   ]
  },
  {
   "cell_type": "code",
   "execution_count": 37,
   "id": "47e7eace",
   "metadata": {},
   "outputs": [
    {
     "data": {
      "text/plain": [
       "<tf.Tensor: shape=(), dtype=int32, numpy=10>"
      ]
     },
     "execution_count": 37,
     "metadata": {},
     "output_type": "execute_result"
    }
   ],
   "source": [
    "changeble_tensor[0]"
   ]
  },
  {
   "cell_type": "code",
   "execution_count": 39,
   "id": "7575f9ae",
   "metadata": {},
   "outputs": [
    {
     "data": {
      "text/plain": [
       "<tf.Variable 'UnreadVariable' shape=(2,) dtype=int32, numpy=array([9, 7])>"
      ]
     },
     "execution_count": 39,
     "metadata": {},
     "output_type": "execute_result"
    }
   ],
   "source": [
    "changeble_tensor[0].assign(9)"
   ]
  },
  {
   "cell_type": "code",
   "execution_count": 41,
   "id": "a239a054",
   "metadata": {},
   "outputs": [
    {
     "data": {
      "text/plain": [
       "<tf.Tensor: shape=(), dtype=int32, numpy=9>"
      ]
     },
     "execution_count": 41,
     "metadata": {},
     "output_type": "execute_result"
    }
   ],
   "source": [
    "changeble_tensor[0]"
   ]
  },
  {
   "cell_type": "code",
   "execution_count": 42,
   "id": "01ab188f",
   "metadata": {},
   "outputs": [
    {
     "ename": "AttributeError",
     "evalue": "'tensorflow.python.framework.ops.EagerTensor' object has no attribute 'assign'",
     "output_type": "error",
     "traceback": [
      "\u001b[1;31m---------------------------------------------------------------------------\u001b[0m",
      "\u001b[1;31mAttributeError\u001b[0m                            Traceback (most recent call last)",
      "Cell \u001b[1;32mIn[42], line 1\u001b[0m\n\u001b[1;32m----> 1\u001b[0m \u001b[43munchangeble_tensor\u001b[49m\u001b[43m[\u001b[49m\u001b[38;5;241;43m0\u001b[39;49m\u001b[43m]\u001b[49m\u001b[38;5;241;43m.\u001b[39;49m\u001b[43massign\u001b[49m(\u001b[38;5;241m8\u001b[39m)\n",
      "File \u001b[1;32mC:\\miniconda3\\envs\\vijaya_nlp_practice\\lib\\site-packages\\tensorflow\\python\\framework\\ops.py:442\u001b[0m, in \u001b[0;36mTensor.__getattr__\u001b[1;34m(self, name)\u001b[0m\n\u001b[0;32m    434\u001b[0m \u001b[38;5;28;01mif\u001b[39;00m name \u001b[38;5;129;01min\u001b[39;00m {\u001b[38;5;124m\"\u001b[39m\u001b[38;5;124mT\u001b[39m\u001b[38;5;124m\"\u001b[39m, \u001b[38;5;124m\"\u001b[39m\u001b[38;5;124mastype\u001b[39m\u001b[38;5;124m\"\u001b[39m, \u001b[38;5;124m\"\u001b[39m\u001b[38;5;124mravel\u001b[39m\u001b[38;5;124m\"\u001b[39m, \u001b[38;5;124m\"\u001b[39m\u001b[38;5;124mtranspose\u001b[39m\u001b[38;5;124m\"\u001b[39m, \u001b[38;5;124m\"\u001b[39m\u001b[38;5;124mreshape\u001b[39m\u001b[38;5;124m\"\u001b[39m, \u001b[38;5;124m\"\u001b[39m\u001b[38;5;124mclip\u001b[39m\u001b[38;5;124m\"\u001b[39m, \u001b[38;5;124m\"\u001b[39m\u001b[38;5;124msize\u001b[39m\u001b[38;5;124m\"\u001b[39m,\n\u001b[0;32m    435\u001b[0m             \u001b[38;5;124m\"\u001b[39m\u001b[38;5;124mtolist\u001b[39m\u001b[38;5;124m\"\u001b[39m, \u001b[38;5;124m\"\u001b[39m\u001b[38;5;124mdata\u001b[39m\u001b[38;5;124m\"\u001b[39m}:\n\u001b[0;32m    436\u001b[0m   \u001b[38;5;66;03m# TODO(wangpeng): Export the enable_numpy_behavior knob\u001b[39;00m\n\u001b[0;32m    437\u001b[0m   \u001b[38;5;28;01mraise\u001b[39;00m \u001b[38;5;167;01mAttributeError\u001b[39;00m(\u001b[38;5;124m\"\"\"\u001b[39m\n\u001b[0;32m    438\u001b[0m \u001b[38;5;124m    \u001b[39m\u001b[38;5;124m'\u001b[39m\u001b[38;5;132;01m{}\u001b[39;00m\u001b[38;5;124m'\u001b[39m\u001b[38;5;124m object has no attribute \u001b[39m\u001b[38;5;124m'\u001b[39m\u001b[38;5;132;01m{}\u001b[39;00m\u001b[38;5;124m'\u001b[39m\u001b[38;5;124m.\u001b[39m\n\u001b[0;32m    439\u001b[0m \u001b[38;5;124m    If you are looking for numpy-related methods, please run the following:\u001b[39m\n\u001b[0;32m    440\u001b[0m \u001b[38;5;124m    from tensorflow.python.ops.numpy_ops import np_config\u001b[39m\n\u001b[0;32m    441\u001b[0m \u001b[38;5;124m    np_config.enable_numpy_behavior()\u001b[39m\u001b[38;5;124m\"\"\"\u001b[39m\u001b[38;5;241m.\u001b[39mformat(\u001b[38;5;28mtype\u001b[39m(\u001b[38;5;28mself\u001b[39m)\u001b[38;5;241m.\u001b[39m\u001b[38;5;18m__name__\u001b[39m, name))\n\u001b[1;32m--> 442\u001b[0m \u001b[38;5;28;43mself\u001b[39;49m\u001b[38;5;241;43m.\u001b[39;49m\u001b[38;5;21;43m__getattribute__\u001b[39;49m\u001b[43m(\u001b[49m\u001b[43mname\u001b[49m\u001b[43m)\u001b[49m\n",
      "\u001b[1;31mAttributeError\u001b[0m: 'tensorflow.python.framework.ops.EagerTensor' object has no attribute 'assign'"
     ]
    }
   ],
   "source": [
    "unchangeble_tensor[0].assign(8)  # can assign new value"
   ]
  },
  {
   "cell_type": "markdown",
   "id": "11e1ab5a",
   "metadata": {},
   "source": [
    "# creating random tensors"
   ]
  },
  {
   "cell_type": "code",
   "execution_count": 48,
   "id": "74b48c71",
   "metadata": {},
   "outputs": [
    {
     "data": {
      "text/plain": [
       "<tf.Tensor: shape=(2, 3), dtype=float32, numpy=\n",
       "array([[-0.7565803 , -0.06854702,  0.07595026],\n",
       "       [-1.2573844 , -0.23193763, -1.8107855 ]], dtype=float32)>"
      ]
     },
     "execution_count": 48,
     "metadata": {},
     "output_type": "execute_result"
    }
   ],
   "source": [
    "random1 = tf.random.Generator.from_seed(42)\n",
    "\n",
    "random1 = random1.normal(shape=(2,3))\n",
    "\n",
    "random1"
   ]
  },
  {
   "cell_type": "code",
   "execution_count": 3,
   "id": "3f02b20d",
   "metadata": {},
   "outputs": [
    {
     "data": {
      "text/plain": [
       "<tf.Tensor: shape=(2, 4), dtype=int32, numpy=\n",
       "array([[1, 2, 3, 4],\n",
       "       [2, 3, 1, 4]])>"
      ]
     },
     "execution_count": 3,
     "metadata": {},
     "output_type": "execute_result"
    }
   ],
   "source": [
    "#shuffle the tensor\n",
    "\n",
    "not_shuffled = tf.constant([[1,2,3,4],\n",
    "                           [2,3,1,4]])\n",
    "not_shuffled"
   ]
  },
  {
   "cell_type": "code",
   "execution_count": 53,
   "id": "63336ab1",
   "metadata": {},
   "outputs": [
    {
     "data": {
      "text/plain": [
       "<tf.Tensor: shape=(2, 4), dtype=int32, numpy=\n",
       "array([[2, 3, 1, 4],\n",
       "       [1, 2, 3, 4]])>"
      ]
     },
     "execution_count": 53,
     "metadata": {},
     "output_type": "execute_result"
    }
   ],
   "source": [
    "# shuffle our non shuffled tensor\n",
    "tf.random.shuffle(not_shuffled)"
   ]
  },
  {
   "cell_type": "code",
   "execution_count": 7,
   "id": "77b64209",
   "metadata": {},
   "outputs": [
    {
     "data": {
      "text/plain": [
       "<tf.Tensor: shape=(2, 4), dtype=int32, numpy=\n",
       "array([[2, 3, 1, 4],\n",
       "       [1, 2, 3, 4]])>"
      ]
     },
     "execution_count": 7,
     "metadata": {},
     "output_type": "execute_result"
    }
   ],
   "source": [
    "#  https://www.tensorflow.org/api_docs/python/tf/random/set_seed\n",
    "# 4. If both the global and the operation seed are set: Both seeds are used in conjunction to determine the random sequence.\n",
    "# If we want our shuffled tensors to be in the same order, we have to use the global level random seed as well as the operation level seed:\n",
    "tf.random.set_seed(23) # global level seed\n",
    "tf.random.shuffle(not_shuffled , seed=42) # operational level seed"
   ]
  },
  {
   "cell_type": "markdown",
   "id": "93e735ad",
   "metadata": {},
   "source": [
    "# Other ways to make Tensors"
   ]
  },
  {
   "cell_type": "code",
   "execution_count": 8,
   "id": "e0581f97",
   "metadata": {},
   "outputs": [
    {
     "data": {
      "text/plain": [
       "<tf.Tensor: shape=(2, 4), dtype=float32, numpy=\n",
       "array([[1., 1., 1., 1.],\n",
       "       [1., 1., 1., 1.]], dtype=float32)>"
      ]
     },
     "execution_count": 8,
     "metadata": {},
     "output_type": "execute_result"
    }
   ],
   "source": [
    "#create a tensor of all ones\n",
    "tf.ones([2,4])"
   ]
  },
  {
   "cell_type": "code",
   "execution_count": 10,
   "id": "029c074d",
   "metadata": {},
   "outputs": [
    {
     "data": {
      "text/plain": [
       "<tf.Tensor: shape=(2, 4), dtype=float32, numpy=\n",
       "array([[0., 0., 0., 0.],\n",
       "       [0., 0., 0., 0.]], dtype=float32)>"
      ]
     },
     "execution_count": 10,
     "metadata": {},
     "output_type": "execute_result"
    }
   ],
   "source": [
    "#create a tensor of all zeros\n",
    "\n",
    "#tf.zeros([2,4])\n",
    "\n",
    "tf.zeros(shape=(2,4))"
   ]
  },
  {
   "cell_type": "markdown",
   "id": "a7603966",
   "metadata": {},
   "source": [
    "# turning numPy arrays into tensors\n",
    "the main diff b/w numPy arrays and TensorFlow Tensors is that tensors can run on GPU(much faster for numerical computing)\n",
    "\n"
   ]
  },
  {
   "cell_type": "code",
   "execution_count": 22,
   "id": "0116fa5b",
   "metadata": {},
   "outputs": [
    {
     "data": {
      "text/plain": [
       "array([ 1,  2,  3,  4,  5,  6,  7,  8,  9, 10, 11, 12, 13, 14, 15, 16, 17,\n",
       "       18, 19, 20, 21, 22, 23, 24], dtype=int16)"
      ]
     },
     "execution_count": 22,
     "metadata": {},
     "output_type": "execute_result"
    }
   ],
   "source": [
    "import numpy as np\n",
    "\n",
    "numpy_A = np.arange(1,25,dtype = np.int16)\n",
    "numpy_A"
   ]
  },
  {
   "cell_type": "code",
   "execution_count": 23,
   "id": "c9f62bae",
   "metadata": {},
   "outputs": [
    {
     "data": {
      "text/plain": [
       "<tf.Tensor: shape=(24,), dtype=int16, numpy=\n",
       "array([ 1,  2,  3,  4,  5,  6,  7,  8,  9, 10, 11, 12, 13, 14, 15, 16, 17,\n",
       "       18, 19, 20, 21, 22, 23, 24], dtype=int16)>"
      ]
     },
     "execution_count": 23,
     "metadata": {},
     "output_type": "execute_result"
    }
   ],
   "source": [
    "tensor_A = tf.constant(numpy_A)\n",
    "tensor_A"
   ]
  },
  {
   "cell_type": "code",
   "execution_count": 41,
   "id": "8b1bea97",
   "metadata": {},
   "outputs": [
    {
     "data": {
      "text/plain": [
       "<tf.Tensor: shape=(4, 3, 2), dtype=int16, numpy=\n",
       "array([[[ 1,  2],\n",
       "        [ 3,  4],\n",
       "        [ 5,  6]],\n",
       "\n",
       "       [[ 7,  8],\n",
       "        [ 9, 10],\n",
       "        [11, 12]],\n",
       "\n",
       "       [[13, 14],\n",
       "        [15, 16],\n",
       "        [17, 18]],\n",
       "\n",
       "       [[19, 20],\n",
       "        [21, 22],\n",
       "        [23, 24]]], dtype=int16)>"
      ]
     },
     "execution_count": 41,
     "metadata": {},
     "output_type": "execute_result"
    }
   ],
   "source": [
    "tensor_B = tf.constant(numpy_A , shape=(4,3,2))  # 4*3*2  / 2*3*4 / 2*12 / 2*6*2 / 1*6*4\n",
    "tensor_B"
   ]
  },
  {
   "cell_type": "code",
   "execution_count": 42,
   "id": "d573779e",
   "metadata": {},
   "outputs": [
    {
     "data": {
      "text/plain": [
       "3"
      ]
     },
     "execution_count": 42,
     "metadata": {},
     "output_type": "execute_result"
    }
   ],
   "source": [
    "tensor_B.ndim    \n"
   ]
  },
  {
   "cell_type": "markdown",
   "id": "2056df81",
   "metadata": {},
   "source": [
    "# Getting information from tensors\n",
    "   shape, axis, rank, size"
   ]
  },
  {
   "cell_type": "code",
   "execution_count": 43,
   "id": "99374112",
   "metadata": {},
   "outputs": [
    {
     "data": {
      "text/plain": [
       "TensorShape([4, 3, 2])"
      ]
     },
     "execution_count": 43,
     "metadata": {},
     "output_type": "execute_result"
    }
   ],
   "source": [
    "tensor_B.shape"
   ]
  },
  {
   "cell_type": "code",
   "execution_count": 44,
   "id": "2d7a16ff",
   "metadata": {},
   "outputs": [
    {
     "data": {
      "text/plain": [
       "3"
      ]
     },
     "execution_count": 44,
     "metadata": {},
     "output_type": "execute_result"
    }
   ],
   "source": [
    "tensor_B.ndim # rank or dimension"
   ]
  },
  {
   "cell_type": "code",
   "execution_count": 45,
   "id": "f212c4d1",
   "metadata": {},
   "outputs": [
    {
     "data": {
      "text/plain": [
       "<tf.Tensor: shape=(), dtype=int32, numpy=24>"
      ]
     },
     "execution_count": 45,
     "metadata": {},
     "output_type": "execute_result"
    }
   ],
   "source": [
    "tf.size(tensor_B)"
   ]
  },
  {
   "cell_type": "code",
   "execution_count": 46,
   "id": "a46bb6ad",
   "metadata": {},
   "outputs": [
    {
     "data": {
      "text/plain": [
       "<tf.Tensor: shape=(3, 2), dtype=int16, numpy=\n",
       "array([[1, 2],\n",
       "       [3, 4],\n",
       "       [5, 6]], dtype=int16)>"
      ]
     },
     "execution_count": 46,
     "metadata": {},
     "output_type": "execute_result"
    }
   ],
   "source": [
    "tensor_B[0]"
   ]
  },
  {
   "cell_type": "code",
   "execution_count": 50,
   "id": "75e8ca7e",
   "metadata": {},
   "outputs": [
    {
     "name": "stdout",
     "output_type": "stream",
     "text": [
      "Datatype of every element: <dtype: 'int16'>\n",
      "No.of dimensions (Rank): 3\n",
      "Shape of tensor: (4, 3, 2)\n",
      "Elements along the 0 axis: 4\n",
      "Elements along the last axis: 2\n",
      "Total number of elements in our tensor: tf.Tensor(24, shape=(), dtype=int32)\n",
      "Total number of elements in our tensor: 24\n"
     ]
    }
   ],
   "source": [
    "print('Datatype of every element:',tensor_B.dtype)\n",
    "print('No.of dimensions (Rank):' , tensor_B.ndim)\n",
    "print('Shape of tensor:' , tensor_B.shape)\n",
    "print('Elements along the 0 axis:', tensor_B.shape[0])\n",
    "print('Elements along the last axis:',tensor_B.shape[-1])\n",
    "print('Total number of elements in our tensor:',tf.size(tensor_B))\n",
    "print('Total number of elements in our tensor:',tf.size(tensor_B).numpy())"
   ]
  },
  {
   "cell_type": "markdown",
   "id": "909decd0",
   "metadata": {},
   "source": [
    "# indexing tensors\n",
    "   tensors can indexed just like python lists"
   ]
  },
  {
   "cell_type": "code",
   "execution_count": 52,
   "id": "c6ffd727",
   "metadata": {},
   "outputs": [
    {
     "data": {
      "text/plain": [
       "<tf.Tensor: shape=(2, 2, 2), dtype=int16, numpy=\n",
       "array([[[ 1,  2],\n",
       "        [ 3,  4]],\n",
       "\n",
       "       [[ 7,  8],\n",
       "        [ 9, 10]]], dtype=int16)>"
      ]
     },
     "execution_count": 52,
     "metadata": {},
     "output_type": "execute_result"
    }
   ],
   "source": [
    "tensor_B[:2,:2,:2]  # get the first two elements of each dimension"
   ]
  },
  {
   "cell_type": "code",
   "execution_count": 54,
   "id": "61972b5e",
   "metadata": {},
   "outputs": [
    {
     "data": {
      "text/plain": [
       "<tf.Tensor: shape=(4, 3, 1), dtype=int16, numpy=\n",
       "array([[[ 1],\n",
       "        [ 3],\n",
       "        [ 5]],\n",
       "\n",
       "       [[ 7],\n",
       "        [ 9],\n",
       "        [11]],\n",
       "\n",
       "       [[13],\n",
       "        [15],\n",
       "        [17]],\n",
       "\n",
       "       [[19],\n",
       "        [21],\n",
       "        [23]]], dtype=int16)>"
      ]
     },
     "execution_count": 54,
     "metadata": {},
     "output_type": "execute_result"
    }
   ],
   "source": [
    "#get the first element from  each dimension from each index except the last one\n",
    "tensor_B[:,:,:-1]"
   ]
  },
  {
   "cell_type": "code",
   "execution_count": 68,
   "id": "c7765ec1",
   "metadata": {},
   "outputs": [
    {
     "data": {
      "text/plain": [
       "<tf.Tensor: shape=(2, 2), dtype=int32, numpy=\n",
       "array([[2, 3],\n",
       "       [4, 5]])>"
      ]
     },
     "execution_count": 68,
     "metadata": {},
     "output_type": "execute_result"
    }
   ],
   "source": [
    "#create a rank 2 tensor\n",
    "\n",
    "rank_2_tensor = tf.constant([[2,3],\n",
    "                            [4,5]])\n",
    "rank_2_tensor"
   ]
  },
  {
   "cell_type": "code",
   "execution_count": 63,
   "id": "491155a5",
   "metadata": {},
   "outputs": [
    {
     "data": {
      "text/plain": [
       "<tf.Tensor: shape=(2,), dtype=int32, numpy=array([3, 5])>"
      ]
     },
     "execution_count": 63,
     "metadata": {},
     "output_type": "execute_result"
    }
   ],
   "source": [
    "#get the last item of each row in above tensor\n",
    "rank_2_tensor[:,-1]"
   ]
  },
  {
   "cell_type": "code",
   "execution_count": 67,
   "id": "c7ab915c",
   "metadata": {},
   "outputs": [
    {
     "data": {
      "text/plain": [
       "<tf.Tensor: shape=(2, 2, 1), dtype=int32, numpy=\n",
       "array([[[2],\n",
       "        [3]],\n",
       "\n",
       "       [[4],\n",
       "        [5]]])>"
      ]
     },
     "execution_count": 67,
     "metadata": {},
     "output_type": "execute_result"
    }
   ],
   "source": [
    "# Add an extra dimension to the above rank 2 tensor\n",
    "\n",
    "rank_3_tensor = rank_2_tensor[... , tf.newaxis]\n",
    "rank_3_tensor"
   ]
  },
  {
   "cell_type": "code",
   "execution_count": 71,
   "id": "cfdd4cdb",
   "metadata": {},
   "outputs": [
    {
     "data": {
      "text/plain": [
       "<tf.Tensor: shape=(2, 2, 1), dtype=int32, numpy=\n",
       "array([[[2],\n",
       "        [3]],\n",
       "\n",
       "       [[4],\n",
       "        [5]]])>"
      ]
     },
     "execution_count": 71,
     "metadata": {},
     "output_type": "execute_result"
    }
   ],
   "source": [
    "# alternative to tf.newaxis\n",
    "tf.expand_dims(rank_2_tensor , axis=-1)  # -1 means expands the final axis"
   ]
  },
  {
   "cell_type": "code",
   "execution_count": 72,
   "id": "4fd029db",
   "metadata": {},
   "outputs": [
    {
     "data": {
      "text/plain": [
       "<tf.Tensor: shape=(1, 2, 2), dtype=int32, numpy=\n",
       "array([[[2, 3],\n",
       "        [4, 5]]])>"
      ]
     },
     "execution_count": 72,
     "metadata": {},
     "output_type": "execute_result"
    }
   ],
   "source": [
    "#expand the 0 axis\n",
    "\n",
    "tf.expand_dims(rank_2_tensor , axis=0)"
   ]
  },
  {
   "cell_type": "code",
   "execution_count": 74,
   "id": "7877931b",
   "metadata": {},
   "outputs": [
    {
     "data": {
      "text/plain": [
       "<tf.Tensor: shape=(2, 1, 2), dtype=int32, numpy=\n",
       "array([[[2, 3]],\n",
       "\n",
       "       [[4, 5]]])>"
      ]
     },
     "execution_count": 74,
     "metadata": {},
     "output_type": "execute_result"
    }
   ],
   "source": [
    "#expand the 1 axis\n",
    "tf.expand_dims(rank_2_tensor , axis=1)"
   ]
  },
  {
   "cell_type": "markdown",
   "id": "c849719b",
   "metadata": {},
   "source": [
    "# manuplating tensor (tensor operations)\n",
    "\n",
    "Basic operations:     + , - , * , /"
   ]
  },
  {
   "cell_type": "code",
   "execution_count": 75,
   "id": "70684d65",
   "metadata": {},
   "outputs": [
    {
     "data": {
      "text/plain": [
       "<tf.Tensor: shape=(2, 2), dtype=int32, numpy=\n",
       "array([[10,  7],\n",
       "       [ 3,  7]])>"
      ]
     },
     "execution_count": 75,
     "metadata": {},
     "output_type": "execute_result"
    }
   ],
   "source": [
    "tensor = tf.constant([[10,7],\n",
    "                     [3,7]])\n",
    "tensor"
   ]
  },
  {
   "cell_type": "code",
   "execution_count": 76,
   "id": "b0a40de1",
   "metadata": {},
   "outputs": [
    {
     "data": {
      "text/plain": [
       "<tf.Tensor: shape=(2, 2), dtype=int32, numpy=\n",
       "array([[20, 17],\n",
       "       [13, 17]])>"
      ]
     },
     "execution_count": 76,
     "metadata": {},
     "output_type": "execute_result"
    }
   ],
   "source": [
    "tensor + 10   # Addition"
   ]
  },
  {
   "cell_type": "code",
   "execution_count": 77,
   "id": "dc2cfef5",
   "metadata": {},
   "outputs": [
    {
     "data": {
      "text/plain": [
       "<tf.Tensor: shape=(2, 2), dtype=int32, numpy=\n",
       "array([[100,  70],\n",
       "       [ 30,  70]])>"
      ]
     },
     "execution_count": 77,
     "metadata": {},
     "output_type": "execute_result"
    }
   ],
   "source": [
    "tensor * 10   #multiplication"
   ]
  },
  {
   "cell_type": "code",
   "execution_count": 78,
   "id": "2c160daf",
   "metadata": {},
   "outputs": [
    {
     "data": {
      "text/plain": [
       "<tf.Tensor: shape=(2, 2), dtype=int32, numpy=\n",
       "array([[ 1, -2],\n",
       "       [-6, -2]])>"
      ]
     },
     "execution_count": 78,
     "metadata": {},
     "output_type": "execute_result"
    }
   ],
   "source": [
    "tensor-9 # subtraction"
   ]
  },
  {
   "cell_type": "code",
   "execution_count": 80,
   "id": "2126985b",
   "metadata": {},
   "outputs": [
    {
     "data": {
      "text/plain": [
       "<tf.Tensor: shape=(2, 2), dtype=float64, numpy=\n",
       "array([[5. , 3.5],\n",
       "       [1.5, 3.5]])>"
      ]
     },
     "execution_count": 80,
     "metadata": {},
     "output_type": "execute_result"
    }
   ],
   "source": [
    "tensor / 2  # division"
   ]
  },
  {
   "cell_type": "code",
   "execution_count": 81,
   "id": "bc04f5ef",
   "metadata": {},
   "outputs": [
    {
     "data": {
      "text/plain": [
       "<tf.Tensor: shape=(2, 2), dtype=int32, numpy=\n",
       "array([[20, 17],\n",
       "       [13, 17]])>"
      ]
     },
     "execution_count": 81,
     "metadata": {},
     "output_type": "execute_result"
    }
   ],
   "source": [
    "# tensorFlow built-in methods for basic operations\n",
    "\n",
    "tf.add(tensor , 10)"
   ]
  },
  {
   "cell_type": "code",
   "execution_count": 83,
   "id": "95263289",
   "metadata": {},
   "outputs": [
    {
     "data": {
      "text/plain": [
       "<tf.Tensor: shape=(2, 2), dtype=int32, numpy=\n",
       "array([[100,  70],\n",
       "       [ 30,  70]])>"
      ]
     },
     "execution_count": 83,
     "metadata": {},
     "output_type": "execute_result"
    }
   ],
   "source": [
    "tf.multiply(tensor , 10)"
   ]
  },
  {
   "cell_type": "code",
   "execution_count": 82,
   "id": "8f71e607",
   "metadata": {},
   "outputs": [
    {
     "data": {
      "text/plain": [
       "<tf.Tensor: shape=(2, 2), dtype=int32, numpy=\n",
       "array([[ 1, -2],\n",
       "       [-6, -2]])>"
      ]
     },
     "execution_count": 82,
     "metadata": {},
     "output_type": "execute_result"
    }
   ],
   "source": [
    "tf.subtract(tensor , 9)"
   ]
  },
  {
   "cell_type": "code",
   "execution_count": 84,
   "id": "051d34e4",
   "metadata": {},
   "outputs": [
    {
     "data": {
      "text/plain": [
       "<tf.Tensor: shape=(2, 2), dtype=float64, numpy=\n",
       "array([[5. , 3.5],\n",
       "       [1.5, 3.5]])>"
      ]
     },
     "execution_count": 84,
     "metadata": {},
     "output_type": "execute_result"
    }
   ],
   "source": [
    "tf.divide(tensor , 2)"
   ]
  },
  {
   "cell_type": "markdown",
   "id": "e139c436",
   "metadata": {},
   "source": [
    "# matrix multiplication\n",
    "\n",
    "In ML, matrix multiplication is one of the common tensor operation\n",
    "\n",
    "There are 2 rules our tensors(or matrices) need to fulfill, if we're going to matrix multiplication:\n",
    "\n",
    "1. The inner dimensions must match\n",
    "2. The resulting matrix has the shape of the inner dimensions\n",
    "\n",
    "http://matrixmultiplication.xyz/\n",
    "\n",
    "https://www.tensorflow.org/api_docs/python/tf/linalg/matmul"
   ]
  },
  {
   "cell_type": "code",
   "execution_count": 85,
   "id": "b0755ac6",
   "metadata": {},
   "outputs": [
    {
     "name": "stdout",
     "output_type": "stream",
     "text": [
      "tf.Tensor(\n",
      "[[10  7]\n",
      " [ 3  7]], shape=(2, 2), dtype=int32)\n"
     ]
    }
   ],
   "source": [
    "print(tensor)"
   ]
  },
  {
   "cell_type": "code",
   "execution_count": 88,
   "id": "1f496ecc",
   "metadata": {},
   "outputs": [
    {
     "data": {
      "text/plain": [
       "<tf.Tensor: shape=(2, 2), dtype=int32, numpy=\n",
       "array([[121, 119],\n",
       "       [ 51,  70]])>"
      ]
     },
     "execution_count": 88,
     "metadata": {},
     "output_type": "execute_result"
    }
   ],
   "source": [
    "#matrix multiplication in tensorFlow\n",
    "tf.matmul(tensor , tensor)"
   ]
  },
  {
   "cell_type": "code",
   "execution_count": 89,
   "id": "20e72081",
   "metadata": {},
   "outputs": [
    {
     "data": {
      "text/plain": [
       "<tf.Tensor: shape=(2, 2), dtype=int32, numpy=\n",
       "array([[121, 119],\n",
       "       [ 51,  70]])>"
      ]
     },
     "execution_count": 89,
     "metadata": {},
     "output_type": "execute_result"
    }
   ],
   "source": [
    "# matrix multiplication with python operator '@'\n",
    "\n",
    "tensor @ tensor"
   ]
  },
  {
   "cell_type": "code",
   "execution_count": 90,
   "id": "fdf7ed81",
   "metadata": {},
   "outputs": [
    {
     "data": {
      "text/plain": [
       "<tf.Tensor: shape=(2, 2), dtype=int32, numpy=\n",
       "array([[100,  49],\n",
       "       [  9,  49]])>"
      ]
     },
     "execution_count": 90,
     "metadata": {},
     "output_type": "execute_result"
    }
   ],
   "source": [
    "tensor * tensor   # this is wrong approach"
   ]
  },
  {
   "cell_type": "code",
   "execution_count": 96,
   "id": "4c9ef591",
   "metadata": {},
   "outputs": [
    {
     "data": {
      "text/plain": [
       "<tf.Tensor: shape=(3, 2), dtype=int32, numpy=\n",
       "array([[20, 26],\n",
       "       [29, 38],\n",
       "       [38, 50]])>"
      ]
     },
     "execution_count": 96,
     "metadata": {},
     "output_type": "execute_result"
    }
   ],
   "source": [
    "# create tensor1 with shape(3,3) & tensor2 with shape (3,2)\n",
    "\n",
    "tensor_1 = tf.constant([ [1,2,3],\n",
    "                         [2,3,4],\n",
    "                         [3,4,5] ])\n",
    "\n",
    "tensor_2 = tf.constant([ [2,3],\n",
    "                         [3,4],\n",
    "                         [4,5] ])\n",
    "\n",
    "tensor_1.shape , tensor_2.shape\n",
    "\n",
    "tf.matmul(tensor_1,tensor_2)"
   ]
  },
  {
   "cell_type": "code",
   "execution_count": 101,
   "id": "076b40f5",
   "metadata": {},
   "outputs": [
    {
     "data": {
      "text/plain": [
       "<tf.Tensor: shape=(2, 3, 1), dtype=int32, numpy=\n",
       "array([[[2],\n",
       "        [3],\n",
       "        [3]],\n",
       "\n",
       "       [[4],\n",
       "        [4],\n",
       "        [5]]])>"
      ]
     },
     "execution_count": 101,
     "metadata": {},
     "output_type": "execute_result"
    }
   ],
   "source": [
    "tf.reshape(tensor_2 , shape=(2,3,1))"
   ]
  },
  {
   "cell_type": "code",
   "execution_count": 102,
   "id": "f724ed85",
   "metadata": {},
   "outputs": [
    {
     "data": {
      "text/plain": [
       "<tf.Tensor: shape=(2, 3, 1), dtype=int32, numpy=\n",
       "array([[[17],\n",
       "        [25],\n",
       "        [33]],\n",
       "\n",
       "       [[27],\n",
       "        [40],\n",
       "        [53]]])>"
      ]
     },
     "execution_count": 102,
     "metadata": {},
     "output_type": "execute_result"
    }
   ],
   "source": [
    "tensor_1 @ tf.reshape(tensor_2,shape=(2,3,1))  # tensor matrix multiplication"
   ]
  },
  {
   "cell_type": "code",
   "execution_count": 103,
   "id": "1405d9c9",
   "metadata": {},
   "outputs": [
    {
     "data": {
      "text/plain": [
       "<tf.Tensor: shape=(2, 3, 1), dtype=int32, numpy=\n",
       "array([[[17],\n",
       "        [25],\n",
       "        [33]],\n",
       "\n",
       "       [[27],\n",
       "        [40],\n",
       "        [53]]])>"
      ]
     },
     "execution_count": 103,
     "metadata": {},
     "output_type": "execute_result"
    }
   ],
   "source": [
    "tf.matmul(tensor_1, tf.reshape(tensor_2 , shape=(2,3,1)))"
   ]
  },
  {
   "cell_type": "code",
   "execution_count": 104,
   "id": "5f5b28e8",
   "metadata": {},
   "outputs": [
    {
     "data": {
      "text/plain": [
       "<tf.Tensor: shape=(3, 3), dtype=int32, numpy=\n",
       "array([[1, 2, 3],\n",
       "       [2, 3, 4],\n",
       "       [3, 4, 5]])>"
      ]
     },
     "execution_count": 104,
     "metadata": {},
     "output_type": "execute_result"
    }
   ],
   "source": [
    "# matrix transpose\n",
    "tf.transpose(tensor_1)"
   ]
  },
  {
   "cell_type": "code",
   "execution_count": 109,
   "id": "699a55c0",
   "metadata": {},
   "outputs": [
    {
     "data": {
      "text/plain": [
       "<tf.Tensor: shape=(2, 3, 1), dtype=int32, numpy=\n",
       "array([[[17],\n",
       "        [25],\n",
       "        [33]],\n",
       "\n",
       "       [[27],\n",
       "        [40],\n",
       "        [53]]])>"
      ]
     },
     "execution_count": 109,
     "metadata": {},
     "output_type": "execute_result"
    }
   ],
   "source": [
    "tf.matmul(tensor_1 , tf.reshape(tensor_2,shape=(2,3,1)))"
   ]
  },
  {
   "cell_type": "markdown",
   "id": "def94434",
   "metadata": {},
   "source": [
    "# Matrix multiplication is also referred to as the dot product.\n",
    "\n",
    "you can perform matrix multiplication using:\n",
    "\n",
    "tf.matmul()\n",
    "\n",
    "tf.tensordot()\n",
    "\n",
    "https://www.tensorflow.org/api_docs/python/tf/tensordot#:~:text=Tensordot%20(also%20known%20as%20tensor,is%20equivalent%20to%20matrix%20multiplication."
   ]
  },
  {
   "cell_type": "code",
   "execution_count": 111,
   "id": "f79089ca",
   "metadata": {},
   "outputs": [
    {
     "data": {
      "text/plain": [
       "<tf.Tensor: shape=(3, 2), dtype=int32, numpy=\n",
       "array([[20, 26],\n",
       "       [29, 38],\n",
       "       [38, 50]])>"
      ]
     },
     "execution_count": 111,
     "metadata": {},
     "output_type": "execute_result"
    }
   ],
   "source": [
    "tf.tensordot(tensor_1 , tensor_2 , axes=1)"
   ]
  },
  {
   "cell_type": "markdown",
   "id": "ecc971f9",
   "metadata": {},
   "source": [
    "#  Matrix multiplication Note\n",
    "\n",
    "Generally,when performing matrix multiplication on two tensors and one of the axes doesn't line up, you will transpose(rather than reshape) one of the tensor to get satisfy matrix multiplication rule."
   ]
  },
  {
   "cell_type": "markdown",
   "id": "333d319e",
   "metadata": {},
   "source": [
    "# changing tensor data type"
   ]
  },
  {
   "cell_type": "code",
   "execution_count": 116,
   "id": "5d9b9809",
   "metadata": {},
   "outputs": [
    {
     "data": {
      "text/plain": [
       "<tf.Tensor: shape=(3,), dtype=float16, numpy=array([2.2, 3.2, 4. ], dtype=float16)>"
      ]
     },
     "execution_count": 116,
     "metadata": {},
     "output_type": "execute_result"
    }
   ],
   "source": [
    "\n",
    "#  https://www.tensorflow.org/guide/mixed_precision\n",
    "\n",
    "tensor_3 = tf.constant([2.2,3.2,4.0])  # models use the float32 dtype, which takes 32 bits of memory. \n",
    "tensor_3.dtype\n",
    "\n",
    "tensor_3 = tf.cast(tensor_3 , dtype= tf.float16) # float16 and bfloat16, each which take 16 bits of memory instead\n",
    "tensor_3\n",
    "\n",
    "#Modern accelerators can run operations faster in the 16-bit dtypes, as they have specialized hardware to run 16-bit computations and 16-bit dtypes can be read from memory faster."
   ]
  },
  {
   "cell_type": "code",
   "execution_count": 118,
   "id": "dc737697",
   "metadata": {},
   "outputs": [
    {
     "data": {
      "text/plain": [
       "tf.float16"
      ]
     },
     "execution_count": 118,
     "metadata": {},
     "output_type": "execute_result"
    }
   ],
   "source": [
    "tensor_4 = tf.constant([2,4])\n",
    "tensor_4.dtype\n",
    "\n",
    "# changing dtype of int32 to float16\n",
    "\n",
    "tensor_4 = tf.cast(tensor_4 , dtype= tf.float16)\n",
    "tensor_4.dtype"
   ]
  },
  {
   "cell_type": "markdown",
   "id": "00d2840f",
   "metadata": {},
   "source": [
    "# Aggregating tensors\n",
    "\n",
    "Aggregating tensors = condensing them from multiple values down to a smaller amount of values"
   ]
  },
  {
   "cell_type": "code",
   "execution_count": 119,
   "id": "fe6ed6af",
   "metadata": {},
   "outputs": [
    {
     "data": {
      "text/plain": [
       "<tf.Tensor: shape=(2,), dtype=int32, numpy=array([-7, -9])>"
      ]
     },
     "execution_count": 119,
     "metadata": {},
     "output_type": "execute_result"
    }
   ],
   "source": [
    "tensor_5 = tf.constant([-7,-9])\n",
    "tensor_5"
   ]
  },
  {
   "cell_type": "code",
   "execution_count": 120,
   "id": "210eaf9c",
   "metadata": {},
   "outputs": [
    {
     "data": {
      "text/plain": [
       "<tf.Tensor: shape=(2,), dtype=int32, numpy=array([7, 9])>"
      ]
     },
     "execution_count": 120,
     "metadata": {},
     "output_type": "execute_result"
    }
   ],
   "source": [
    "# get the absolute value\n",
    "\n",
    "tf.abs(tensor_5)"
   ]
  },
  {
   "cell_type": "markdown",
   "id": "af5a3e64",
   "metadata": {},
   "source": [
    "# Let's go through the following forms of aggregation:\n",
    "\n",
    "Get the minimum\n",
    "\n",
    "Get the maximum\n",
    "\n",
    "Get the mean of a tensor\n",
    "\n",
    "Get the sum of a tensor\n"
   ]
  },
  {
   "cell_type": "code",
   "execution_count": 6,
   "id": "b51f0064",
   "metadata": {},
   "outputs": [
    {
     "data": {
      "text/plain": [
       "<tf.Tensor: shape=(50,), dtype=int32, numpy=\n",
       "array([24, 73, 30, 72, 79, 76, 56,  7, 28,  3, 46, 56, 17, 46, 84, 27, 73,\n",
       "       54, 23, 15, 15, 37,  6, 26, 75, 12, 37, 77, 32, 18, 28, 16, 36, 84,\n",
       "       51,  2, 51, 74, 86, 27, 81, 39, 93, 59, 49, 64, 65, 92, 22, 48])>"
      ]
     },
     "execution_count": 6,
     "metadata": {},
     "output_type": "execute_result"
    }
   ],
   "source": [
    "# create a random tensor with the values between 0 and 100 with size 50\n",
    "\n",
    "random_tensor_1 = tf.constant(np.random.randint(0,100 ,size=50))\n",
    "random_tensor_1"
   ]
  },
  {
   "cell_type": "code",
   "execution_count": 127,
   "id": "5b04af0f",
   "metadata": {},
   "outputs": [
    {
     "data": {
      "text/plain": [
       "(<tf.Tensor: shape=(1,), dtype=int32, numpy=array([50])>, TensorShape([50]), 1)"
      ]
     },
     "execution_count": 127,
     "metadata": {},
     "output_type": "execute_result"
    }
   ],
   "source": [
    "tf.shape(random_tensor_1)  , random_tensor_1.shape  , random_tensor_1.ndim"
   ]
  },
  {
   "cell_type": "code",
   "execution_count": 128,
   "id": "7f994d46",
   "metadata": {},
   "outputs": [
    {
     "data": {
      "text/plain": [
       "<tf.Tensor: shape=(), dtype=int32, numpy=1>"
      ]
     },
     "execution_count": 128,
     "metadata": {},
     "output_type": "execute_result"
    }
   ],
   "source": [
    "# find the minimum\n",
    "tf.reduce_min(random_tensor_1)"
   ]
  },
  {
   "cell_type": "code",
   "execution_count": 129,
   "id": "254519ef",
   "metadata": {},
   "outputs": [
    {
     "data": {
      "text/plain": [
       "<tf.Tensor: shape=(), dtype=int32, numpy=97>"
      ]
     },
     "execution_count": 129,
     "metadata": {},
     "output_type": "execute_result"
    }
   ],
   "source": [
    "# find the maximum\n",
    "tf.reduce_max(random_tensor_1)"
   ]
  },
  {
   "cell_type": "code",
   "execution_count": 130,
   "id": "38cf04fd",
   "metadata": {},
   "outputs": [
    {
     "data": {
      "text/plain": [
       "<tf.Tensor: shape=(), dtype=int32, numpy=52>"
      ]
     },
     "execution_count": 130,
     "metadata": {},
     "output_type": "execute_result"
    }
   ],
   "source": [
    "# find the mean of a tensor\n",
    "tf.reduce_mean(random_tensor_1)"
   ]
  },
  {
   "cell_type": "code",
   "execution_count": 131,
   "id": "2247f727",
   "metadata": {},
   "outputs": [
    {
     "data": {
      "text/plain": [
       "<tf.Tensor: shape=(), dtype=int32, numpy=2606>"
      ]
     },
     "execution_count": 131,
     "metadata": {},
     "output_type": "execute_result"
    }
   ],
   "source": [
    "#find the sum of a tensor\n",
    "\n",
    "tf.reduce_sum(random_tensor_1)"
   ]
  },
  {
   "cell_type": "code",
   "execution_count": 132,
   "id": "cf3e0b97",
   "metadata": {},
   "outputs": [
    {
     "data": {
      "text/plain": [
       "<tf.Tensor: shape=(), dtype=int32, numpy=0>"
      ]
     },
     "execution_count": 132,
     "metadata": {},
     "output_type": "execute_result"
    }
   ],
   "source": [
    "tf.reduce_prod(random_tensor_1)"
   ]
  },
  {
   "cell_type": "code",
   "execution_count": 134,
   "id": "2e8e33ab",
   "metadata": {},
   "outputs": [
    {
     "data": {
      "text/plain": [
       "<tf.Tensor: shape=(50,), dtype=int32, numpy=\n",
       "array([63, 79, 95, 58, 79, 61, 85,  1, 30, 17, 92, 74, 51, 32, 81, 15, 79,\n",
       "       88, 46, 57, 32, 58, 70, 29, 24, 71, 66, 56, 25,  7, 52, 30, 53, 97,\n",
       "       62, 40, 15, 93, 79, 69, 39, 78, 41, 19, 43, 50, 48, 20, 19, 38])>"
      ]
     },
     "execution_count": 134,
     "metadata": {},
     "output_type": "execute_result"
    }
   ],
   "source": [
    "random_tensor_1"
   ]
  },
  {
   "cell_type": "code",
   "execution_count": 13,
   "id": "d400e65a",
   "metadata": {},
   "outputs": [
    {
     "data": {
      "text/plain": [
       "<tf.Tensor: shape=(), dtype=float32, numpy=691.1476>"
      ]
     },
     "execution_count": 13,
     "metadata": {},
     "output_type": "execute_result"
    }
   ],
   "source": [
    "# find the variance of a tensor\n",
    "\n",
    "# https://www.tensorflow.org/probability/api_docs/python/tfp/stats/variance\n",
    "\n",
    "tf.math.reduce_variance(tf.cast(random_tensor_1 , dtype=tf.float32))\n",
    "\n",
    "tfp.stats.variance(random_tensor_1)"
   ]
  },
  {
   "cell_type": "code",
   "execution_count": 17,
   "id": "7e792b34",
   "metadata": {},
   "outputs": [
    {
     "data": {
      "text/plain": [
       "<tf.Tensor: shape=(), dtype=float32, numpy=26.289686>"
      ]
     },
     "execution_count": 17,
     "metadata": {},
     "output_type": "execute_result"
    }
   ],
   "source": [
    "# find the standard variance of a tensor\n",
    "\n",
    "tensor_6 = tf.random.normal(shape=(100,2,3))\n",
    "\n",
    "tf.math.reduce_std(tf.cast(random_tensor_1 , dtype= tf.float32))\n",
    "\n",
    "#tfp.stats.stddev(tensor_6)"
   ]
  },
  {
   "cell_type": "markdown",
   "id": "7e845832",
   "metadata": {},
   "source": [
    "# Find the positional Minimum and Maximum"
   ]
  },
  {
   "cell_type": "code",
   "execution_count": 20,
   "id": "9b196a61",
   "metadata": {},
   "outputs": [
    {
     "data": {
      "text/plain": [
       "<tf.Tensor: shape=(50,), dtype=float32, numpy=\n",
       "array([0.41821814, 0.8851683 , 0.22972286, 0.95261645, 0.00649953,\n",
       "       0.77357376, 0.8214545 , 0.573673  , 0.1333561 , 0.3601544 ,\n",
       "       0.43876314, 0.975327  , 0.99357545, 0.89346254, 0.22383165,\n",
       "       0.16433656, 0.6880901 , 0.36315453, 0.01203835, 0.69435513,\n",
       "       0.2423842 , 0.57816565, 0.050524  , 0.56450534, 0.48467195,\n",
       "       0.89573073, 0.8530854 , 0.43903565, 0.27312076, 0.39780796,\n",
       "       0.14325964, 0.8905915 , 0.46033573, 0.79400754, 0.8357674 ,\n",
       "       0.1267842 , 0.62312126, 0.28557754, 0.37455547, 0.6385808 ,\n",
       "       0.5814065 , 0.8142139 , 0.9333322 , 0.8590255 , 0.07352245,\n",
       "       0.4363153 , 0.8062762 , 0.16935265, 0.94184196, 0.0899446 ],\n",
       "      dtype=float32)>"
      ]
     },
     "execution_count": 20,
     "metadata": {},
     "output_type": "execute_result"
    }
   ],
   "source": [
    "tensor_7 = tf.random.uniform(shape=[50])\n",
    "\n",
    "tensor_7"
   ]
  },
  {
   "cell_type": "code",
   "execution_count": null,
   "id": "11dd41e0",
   "metadata": {},
   "outputs": [],
   "source": []
  }
 ],
 "metadata": {
  "kernelspec": {
   "display_name": "Python 3 (ipykernel)",
   "language": "python",
   "name": "python3"
  },
  "language_info": {
   "codemirror_mode": {
    "name": "ipython",
    "version": 3
   },
   "file_extension": ".py",
   "mimetype": "text/x-python",
   "name": "python",
   "nbconvert_exporter": "python",
   "pygments_lexer": "ipython3",
   "version": "3.11.0"
  }
 },
 "nbformat": 4,
 "nbformat_minor": 5
}
