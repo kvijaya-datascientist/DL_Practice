{
 "cells": [
  {
   "cell_type": "code",
   "execution_count": 21,
   "id": "62c92774",
   "metadata": {},
   "outputs": [],
   "source": [
    "#Ref :  https://github.com/mrdbourke/tensorflow-deep-learning/blob/main/01_neural_network_regression_in_tensorflow.ipynb "
   ]
  },
  {
   "cell_type": "code",
   "execution_count": null,
   "id": "18f16ddc",
   "metadata": {},
   "outputs": [],
   "source": [
    "#import standard libraries\n",
    "import tensorflow as tf\n",
    "\n",
    "import numpy as np\n",
    "import matplotlib.pyplot as plt"
   ]
  },
  {
   "cell_type": "code",
   "execution_count": 2,
   "id": "080ebb27",
   "metadata": {},
   "outputs": [
    {
     "name": "stdout",
     "output_type": "stream",
     "text": [
      "2.12.0\n"
     ]
    }
   ],
   "source": [
    "print(tf.__version__)"
   ]
  },
  {
   "cell_type": "markdown",
   "id": "b0b6c6f1",
   "metadata": {},
   "source": [
    "# creating data to view & fit"
   ]
  },
  {
   "cell_type": "code",
   "execution_count": 3,
   "id": "0e8ee895",
   "metadata": {},
   "outputs": [
    {
     "data": {
      "text/plain": [
       "<matplotlib.collections.PathCollection at 0x1bd9b430750>"
      ]
     },
     "execution_count": 3,
     "metadata": {},
     "output_type": "execute_result"
    },
    {
     "data": {
      "image/png": "[encoded data removed]",
      "text/plain": [
       "<Figure size 640x480 with 1 Axes>"
      ]
     },
     "metadata": {},
     "output_type": "display_data"
    }
   ],
   "source": [
    "import numpy as np\n",
    "import matplotlib.pyplot as plt\n",
    "\n",
    "#create features\n",
    "X = np.array([-7.0, -4.0, -1.0, 2.0, 5.0, 8.0, 11.0, 14.0])\n",
    "\n",
    "#create labels\n",
    "Y = np.array([3.0, 6.0, 9.0, 12.0, 15.0, 18.0, 21.0, 24.0])\n",
    "\n",
    "#visualize the data\n",
    "\n",
    "plt.scatter(X , Y)\n"
   ]
  },
  {
   "cell_type": "code",
   "execution_count": 4,
   "id": "ed03c547",
   "metadata": {},
   "outputs": [
    {
     "data": {
      "text/plain": [
       "array([ True,  True,  True,  True,  True,  True,  True,  True])"
      ]
     },
     "execution_count": 4,
     "metadata": {},
     "output_type": "execute_result"
    }
   ],
   "source": [
    "# observations from  data set\n",
    "Y == X + 10"
   ]
  },
  {
   "cell_type": "markdown",
   "id": "ff03ab6c",
   "metadata": {},
   "source": [
    "# input and output shape"
   ]
  },
  {
   "cell_type": "code",
   "execution_count": 6,
   "id": "0f9e8a6d",
   "metadata": {},
   "outputs": [
    {
     "data": {
      "text/plain": [
       "(<tf.Tensor: shape=(3,), dtype=string, numpy=array([b'bedroom', b'bathroom', b'garage'], dtype=object)>,\n",
       " <tf.Tensor: shape=(1,), dtype=int32, numpy=array([934000])>)"
      ]
     },
     "execution_count": 6,
     "metadata": {},
     "output_type": "execute_result"
    }
   ],
   "source": [
    "#create a demo tensor for our housing price prediction model\n",
    "\n",
    "house_info = tf.constant([\"bedroom\" , \"bathroom\" , \"garage\"])\n",
    "house_price = tf.constant([934000])\n",
    "\n",
    "house_info , house_price\n"
   ]
  },
  {
   "cell_type": "code",
   "execution_count": 6,
   "id": "091c9a4a",
   "metadata": {},
   "outputs": [
    {
     "data": {
      "text/plain": [
       "((8,), (8,))"
      ]
     },
     "execution_count": 6,
     "metadata": {},
     "output_type": "execute_result"
    }
   ],
   "source": [
    "input_shape = X.shape\n",
    "output_shape = Y.shape\n",
    "\n",
    "input_shape , output_shape"
   ]
  },
  {
   "cell_type": "code",
   "execution_count": 5,
   "id": "559cc4d7",
   "metadata": {},
   "outputs": [
    {
     "data": {
      "text/plain": [
       "(array([-7., -4., -1.,  2.,  5.,  8., 11., 14.]),\n",
       " array([ 3.,  6.,  9., 12., 15., 18., 21., 24.]))"
      ]
     },
     "execution_count": 5,
     "metadata": {},
     "output_type": "execute_result"
    }
   ],
   "source": [
    "X, Y"
   ]
  },
  {
   "cell_type": "code",
   "execution_count": 6,
   "id": "82e93050",
   "metadata": {},
   "outputs": [
    {
     "data": {
      "text/plain": [
       "(-7.0, 3.0)"
      ]
     },
     "execution_count": 6,
     "metadata": {},
     "output_type": "execute_result"
    }
   ],
   "source": [
    "X[0]  , Y[0]"
   ]
  },
  {
   "cell_type": "code",
   "execution_count": 4,
   "id": "ef7d487b",
   "metadata": {},
   "outputs": [
    {
     "data": {
      "text/plain": [
       "(<tf.Tensor: shape=(8,), dtype=float32, numpy=array([-7., -4., -1.,  2.,  5.,  8., 11., 14.], dtype=float32)>,\n",
       " <tf.Tensor: shape=(8,), dtype=float32, numpy=array([ 3.,  6.,  9., 12., 15., 18., 21., 24.], dtype=float32)>)"
      ]
     },
     "execution_count": 4,
     "metadata": {},
     "output_type": "execute_result"
    }
   ],
   "source": [
    "#convert numpy arrays into tensors\n",
    "X = tf.constant([-7., -4., -1.,  2.,  5.,  8., 11., 14.])\n",
    "Y = tf.constant([ 3.,  6.,  9., 12., 15., 18., 21., 24.])\n",
    "X  , Y"
   ]
  },
  {
   "cell_type": "code",
   "execution_count": 5,
   "id": "59bf5e3c",
   "metadata": {},
   "outputs": [
    {
     "data": {
      "text/plain": [
       "(1, 1)"
      ]
     },
     "execution_count": 5,
     "metadata": {},
     "output_type": "execute_result"
    }
   ],
   "source": [
    "X.ndim  , Y.ndim"
   ]
  },
  {
   "cell_type": "code",
   "execution_count": 9,
   "id": "ab94d67d",
   "metadata": {},
   "outputs": [
    {
     "data": {
      "text/plain": [
       "(tf.float32, tf.float32)"
      ]
     },
     "execution_count": 9,
     "metadata": {},
     "output_type": "execute_result"
    }
   ],
   "source": [
    "X.dtype , Y.dtype"
   ]
  },
  {
   "cell_type": "code",
   "execution_count": 6,
   "id": "e55815cb",
   "metadata": {},
   "outputs": [
    {
     "data": {
      "text/plain": [
       "(tf.float16, tf.float16)"
      ]
     },
     "execution_count": 6,
     "metadata": {},
     "output_type": "execute_result"
    }
   ],
   "source": [
    "# converting dtype from float64 to float16 for better optimization in tensorflow\n",
    "X = tf.cast(X, dtype= tf.float16)\n",
    "Y = tf.cast(Y, dtype= tf.float16)\n",
    "\n",
    "X.dtype  , Y.dtype"
   ]
  },
  {
   "cell_type": "code",
   "execution_count": 11,
   "id": "fcd794b1",
   "metadata": {},
   "outputs": [
    {
     "data": {
      "text/plain": [
       "<matplotlib.collections.PathCollection at 0x1b4d3e65dd0>"
      ]
     },
     "execution_count": 11,
     "metadata": {},
     "output_type": "execute_result"
    },
    {
     "data": {
      "image/png": "[encoded data removed]",
      "text/plain": [
       "<Figure size 640x480 with 1 Axes>"
      ]
     },
     "metadata": {},
     "output_type": "display_data"
    }
   ],
   "source": [
    "plt.scatter(X , Y)  # visualing the data"
   ]
  },
  {
   "cell_type": "markdown",
   "id": "1c127b3d",
   "metadata": {},
   "source": [
    "# Steps in modeling with TensorFlow\n",
    "\n",
    "creating a model\n",
    "\n",
    "compiling a model\n",
    "\n",
    "fitting the model\n",
    "\n",
    "\n",
    "\n",
    "1. Construct or import a pretrained model relevant to your problem.\n",
    "\n",
    "2. Compile the model(prepare it to be used with data)\n",
    "\n",
    "        Loss: how wrong you model's predictions are compared to the truth labels(you want to minimise this).\n",
    "\n",
    "        Optimizer: how your model should update its internal patterns to better its predictions.\n",
    "\n",
    "        Metrics: human interpretable values for how well your model is doing.\n",
    "\n",
    "3. Fit the model to the training data so it can discover patterns\n",
    "\n",
    "        Epochs: how many times the model will go through all of the training examples.\n",
    "        \n",
    "4. Evaluate the model on the test data(how reliable are our model's predictions)."
   ]
  },
  {
   "cell_type": "code",
   "execution_count": 15,
   "id": "acffcede",
   "metadata": {},
   "outputs": [
    {
     "name": "stdout",
     "output_type": "stream",
     "text": [
      "Epoch 1/17\n",
      "1/1 [==============================] - 0s 346ms/step - loss: 13.1933 - mae: 13.1933\n",
      "Epoch 2/17\n",
      "1/1 [==============================] - 0s 7ms/step - loss: 13.0608 - mae: 13.0608\n",
      "Epoch 3/17\n",
      "1/1 [==============================] - 0s 6ms/step - loss: 12.9283 - mae: 12.9283\n",
      "Epoch 4/17\n",
      "1/1 [==============================] - 0s 6ms/step - loss: 12.7958 - mae: 12.7958\n",
      "Epoch 5/17\n",
      "1/1 [==============================] - 0s 5ms/step - loss: 12.6633 - mae: 12.6633\n",
      "Epoch 6/17\n",
      "1/1 [==============================] - 0s 6ms/step - loss: 12.5308 - mae: 12.5308\n",
      "Epoch 7/17\n",
      "1/1 [==============================] - 0s 4ms/step - loss: 12.3983 - mae: 12.3983\n",
      "Epoch 8/17\n",
      "1/1 [==============================] - 0s 5ms/step - loss: 12.2658 - mae: 12.2658\n",
      "Epoch 9/17\n",
      "1/1 [==============================] - 0s 5ms/step - loss: 12.1333 - mae: 12.1333\n",
      "Epoch 10/17\n",
      "1/1 [==============================] - 0s 8ms/step - loss: 12.0008 - mae: 12.0008\n",
      "Epoch 11/17\n",
      "1/1 [==============================] - 0s 4ms/step - loss: 11.8683 - mae: 11.8683\n",
      "Epoch 12/17\n",
      "1/1 [==============================] - 0s 8ms/step - loss: 11.7358 - mae: 11.7358\n",
      "Epoch 13/17\n",
      "1/1 [==============================] - 0s 4ms/step - loss: 11.6033 - mae: 11.6033\n",
      "Epoch 14/17\n",
      "1/1 [==============================] - 0s 8ms/step - loss: 11.4708 - mae: 11.4708\n",
      "Epoch 15/17\n",
      "1/1 [==============================] - 0s 4ms/step - loss: 11.3383 - mae: 11.3383\n",
      "Epoch 16/17\n",
      "1/1 [==============================] - 0s 6ms/step - loss: 11.2058 - mae: 11.2058\n",
      "Epoch 17/17\n",
      "1/1 [==============================] - 0s 6ms/step - loss: 11.0733 - mae: 11.0733\n"
     ]
    },
    {
     "data": {
      "text/plain": [
       "<keras.callbacks.History at 0x1bda05f5690>"
      ]
     },
     "execution_count": 15,
     "metadata": {},
     "output_type": "execute_result"
    }
   ],
   "source": [
    "# set random seed\n",
    "tf.random.set_seed(42)\n",
    "\n",
    "#creating model using Sequential API\n",
    "model = tf.keras.Sequential([        # https://www.tensorflow.org/api_docs/python/tf/keras/Sequential\n",
    "    tf.keras.layers.Dense(1)\n",
    "    ])\n",
    "\n",
    "#compiling the model\n",
    "model.compile(loss = tf.keras.losses.mae,   # mean absolute error\n",
    "              optimizer = tf.keras.optimizers.SGD(),\n",
    "              metrics = ['mae']\n",
    "             )\n",
    "#fit the model\n",
    "model.fit(tf.expand_dims(X, axis=-1),Y,epochs=17)\n"
   ]
  },
  {
   "cell_type": "code",
   "execution_count": 16,
   "id": "c3e84492",
   "metadata": {},
   "outputs": [
    {
     "name": "stdout",
     "output_type": "stream",
     "text": [
      "1/1 [==============================] - 0s 57ms/step\n"
     ]
    },
    {
     "data": {
      "text/plain": [
       "array([[11.774583]], dtype=float32)"
      ]
     },
     "execution_count": 16,
     "metadata": {},
     "output_type": "execute_result"
    }
   ],
   "source": [
    "#try and make a prediction using our model\n",
    "model.predict([17.0])"
   ]
  },
  {
   "cell_type": "markdown",
   "id": "743c4db8",
   "metadata": {},
   "source": [
    "# Improving our model:\n",
    "\n",
    "we can improve our model, by altering the steps we took to create a model.\n",
    "\n",
    "1) Creating a model: here we might add more layers, increase the number of hidden units(called neurons) within each of the hidden layers, change the activation function of each layer.\n",
    "\n",
    "2) Compiling a model: here we might change the optimization function or perhaps the learning rate of the optimization function\n",
    "\n",
    "3) Fitting a model: here we might fit a model for more epochs(leave it training for longer) or on more data(give the model more examples to learn from)."
   ]
  },
  {
   "cell_type": "markdown",
   "id": "ad5bc2f9",
   "metadata": {},
   "source": [
    "# Common ways to improve a deep model:\n",
    "adding layers\n",
    "\n",
    "increase the number of hidden layers\n",
    "\n",
    "changing activation function\n",
    "\n",
    "changing/adding the learning rate (very important)\n",
    "\n",
    "changing optimization function\n",
    "\n",
    "fitting more data\n",
    "\n",
    "fitting for longer(epochs)"
   ]
  },
  {
   "cell_type": "markdown",
   "id": "79784cd2",
   "metadata": {},
   "source": [
    "#  Theory\n",
    "\n",
    "In TF.Keras there are basically three-way we can define a neural network, namely\n",
    "\n",
    "Sequential API\n",
    "\n",
    "Functional API\n",
    "\n",
    "Model Subclassing API\n",
    "\n",
    "is the easiest way to implement but comes with certain limitations. For example, with this API, we can’t create a model that shares feature information with another layer except to its subsequent layer. In addition, multiple input and output are not possible to implement either.\n",
    "\n",
    "Functional API does solve these issues greatly. A model like Inception or ResNet is feasible to implement in Functional API. But often deep learning researcher wants to have more control over every nuance of the network and on the training pipelines and that’s exactly what Model Subclassing API serves.\n",
    "\n",
    "Model Sub-Classing is a fully customizable way to implement the feed-forward mechanism for the custom-designed deep neural network in an object-oriented fashion."
   ]
  },
  {
   "cell_type": "code",
   "execution_count": 69,
   "id": "f6c9d7de",
   "metadata": {},
   "outputs": [
    {
     "name": "stdout",
     "output_type": "stream",
     "text": [
      "Epoch 1/27\n",
      "1/1 [==============================] - 1s 1s/step - loss: 13.1088 - mae: 13.1088\n",
      "Epoch 2/27\n",
      "1/1 [==============================] - 0s 7ms/step - loss: 7.1466 - mae: 7.1466\n",
      "Epoch 3/27\n",
      "1/1 [==============================] - 0s 7ms/step - loss: 12.1570 - mae: 12.1570\n",
      "Epoch 4/27\n",
      "1/1 [==============================] - 0s 5ms/step - loss: 5.1022 - mae: 5.1022\n",
      "Epoch 5/27\n",
      "1/1 [==============================] - 0s 8ms/step - loss: 6.6224 - mae: 6.6224\n",
      "Epoch 6/27\n",
      "1/1 [==============================] - 0s 6ms/step - loss: 8.0591 - mae: 8.0591\n",
      "Epoch 7/27\n",
      "1/1 [==============================] - 0s 8ms/step - loss: 7.7109 - mae: 7.7109\n",
      "Epoch 8/27\n",
      "1/1 [==============================] - 0s 10ms/step - loss: 6.4503 - mae: 6.4503\n",
      "Epoch 9/27\n",
      "1/1 [==============================] - 0s 6ms/step - loss: 3.8356 - mae: 3.8356\n",
      "Epoch 10/27\n",
      "1/1 [==============================] - 0s 9ms/step - loss: 5.2584 - mae: 5.2584\n",
      "Epoch 11/27\n",
      "1/1 [==============================] - 0s 5ms/step - loss: 7.7987 - mae: 7.7987\n",
      "Epoch 12/27\n",
      "1/1 [==============================] - 0s 5ms/step - loss: 6.3172 - mae: 6.3172\n",
      "Epoch 13/27\n",
      "1/1 [==============================] - 0s 5ms/step - loss: 3.6723 - mae: 3.6723\n",
      "Epoch 14/27\n",
      "1/1 [==============================] - 0s 7ms/step - loss: 3.9041 - mae: 3.9041\n",
      "Epoch 15/27\n",
      "1/1 [==============================] - 0s 9ms/step - loss: 5.1090 - mae: 5.1090\n",
      "Epoch 16/27\n",
      "1/1 [==============================] - 0s 5ms/step - loss: 5.2192 - mae: 5.2192\n",
      "Epoch 17/27\n",
      "1/1 [==============================] - 0s 8ms/step - loss: 4.4567 - mae: 4.4567\n",
      "Epoch 18/27\n",
      "1/1 [==============================] - 0s 5ms/step - loss: 2.7137 - mae: 2.7137\n",
      "Epoch 19/27\n",
      "1/1 [==============================] - 0s 9ms/step - loss: 3.2737 - mae: 3.2737\n",
      "Epoch 20/27\n",
      "1/1 [==============================] - 0s 6ms/step - loss: 4.7191 - mae: 4.7191\n",
      "Epoch 21/27\n",
      "1/1 [==============================] - 0s 5ms/step - loss: 4.4255 - mae: 4.4255\n",
      "Epoch 22/27\n",
      "1/1 [==============================] - 0s 5ms/step - loss: 2.7673 - mae: 2.7673\n",
      "Epoch 23/27\n",
      "1/1 [==============================] - 0s 5ms/step - loss: 1.5671 - mae: 1.5671\n",
      "Epoch 24/27\n",
      "1/1 [==============================] - 0s 8ms/step - loss: 2.6620 - mae: 2.6620\n",
      "Epoch 25/27\n",
      "1/1 [==============================] - 0s 5ms/step - loss: 1.8010 - mae: 1.8010\n",
      "Epoch 26/27\n",
      "1/1 [==============================] - 0s 7ms/step - loss: 1.6263 - mae: 1.6263\n",
      "Epoch 27/27\n",
      "1/1 [==============================] - 0s 3ms/step - loss: 1.4268 - mae: 1.4268\n"
     ]
    },
    {
     "data": {
      "text/plain": [
       "<keras.callbacks.History at 0x1bdbaa5ac10>"
      ]
     },
     "execution_count": 69,
     "metadata": {},
     "output_type": "execute_result"
    }
   ],
   "source": [
    "# set random seed\n",
    "tf.random.set_seed(42)\n",
    "\n",
    "#creating model using Sequential API\n",
    "model = tf.keras.Sequential([     #  We can't build complex networks such as multi-input or multi-output networks using this API.\n",
    "    tf.keras.layers.Dense(100, activation='relu'),\n",
    "    tf.keras.layers.Dense(100, activation='relu'),\n",
    "    tf.keras.layers.Dense(100, activation='relu'),\n",
    "    tf.keras.layers.Dense(100, activation='relu'),\n",
    "    tf.keras.layers.Dense(100, activation=None),\n",
    "    tf.keras.layers.Dense(1)\n",
    "])\n",
    "\n",
    "#compile the model\n",
    "model.compile(loss = tf.keras.losses.mae,\n",
    "              optimizer = tf.keras.optimizers.Adam(learning_rate=0.01),\n",
    "              metrics = ['mae'])\n",
    "\n",
    "#fit the model\n",
    "model.fit(tf.expand_dims(X,axis=-1), Y , epochs=27)"
   ]
  },
  {
   "cell_type": "code",
   "execution_count": 74,
   "id": "4c8b38ea",
   "metadata": {},
   "outputs": [
    {
     "name": "stdout",
     "output_type": "stream",
     "text": [
      "1/1 [==============================] - 0s 151ms/step\n"
     ]
    },
    {
     "data": {
      "text/plain": [
       "array([[26.649143]], dtype=float32)"
      ]
     },
     "execution_count": 74,
     "metadata": {},
     "output_type": "execute_result"
    }
   ],
   "source": [
    "model.predict([17.0])"
   ]
  },
  {
   "cell_type": "markdown",
   "id": "7a958428",
   "metadata": {},
   "source": [
    "# Evaluating a model\n",
    "\n",
    "A typical workflow you'll go through when building neural networks is:\n",
    "\n",
    "Build a model -> evaluate it -> build (tweak) a model -> evaulate it -> build (tweak) a model -> evaluate it...\n",
    "The tweaking comes from maybe not building a model from scratch but adjusting an existing one.\n",
    "\n",
    "Visualize, visualize, visualize\n",
    "When it comes to evaluation, you'll want to remember the words: \"visualize, visualize, visualize.\"\n",
    "\n",
    "This is because you're probably better looking at something (doing) than you are thinking about something.\n",
    "\n",
    "It's a good idea to visualize:\n",
    "\n",
    "The data - what data are you working with? What does it look like?\n",
    "The model itself - what does the architecture look like? What are the different shapes?\n",
    "The training of a model - how does a model perform while it learns?\n",
    "The predictions of a model - how do the predictions of a model line up against the ground truth (the original labels)?\n",
    "Let's start by visualizing the model.\n",
    "\n",
    "But first, we'll create a little bit of a bigger dataset and a new model we can use (it'll be the same as before, but the more practice the better)."
   ]
  },
  {
   "cell_type": "markdown",
   "id": "28a09cbf",
   "metadata": {},
   "source": [
    "# For bigger dataset"
   ]
  },
  {
   "cell_type": "code",
   "execution_count": 2,
   "id": "364ddc87",
   "metadata": {},
   "outputs": [
    {
     "data": {
      "text/plain": [
       "array([-100,  -96,  -92,  -88,  -84,  -80,  -76,  -72,  -68,  -64,  -60,\n",
       "        -56,  -52,  -48,  -44,  -40,  -36,  -32,  -28,  -24,  -20,  -16,\n",
       "        -12,   -8,   -4,    0,    4,    8,   12,   16,   20,   24,   28,\n",
       "         32,   36,   40,   44,   48,   52,   56,   60,   64,   68,   72,\n",
       "         76,   80,   84,   88,   92,   96])"
      ]
     },
     "execution_count": 2,
     "metadata": {},
     "output_type": "execute_result"
    }
   ],
   "source": [
    "\n",
    "# Make a bigger dataset\n",
    "X = np.arange(-100, 100, 4)\n",
    "X"
   ]
  },
  {
   "cell_type": "code",
   "execution_count": 3,
   "id": "6828e554",
   "metadata": {},
   "outputs": [
    {
     "data": {
      "text/plain": [
       "array([-90, -86, -82, -78, -74, -70, -66, -62, -58, -54, -50, -46, -42,\n",
       "       -38, -34, -30, -26, -22, -18, -14, -10,  -6,  -2,   2,   6,  10,\n",
       "        14,  18,  22,  26,  30,  34,  38,  42,  46,  50,  54,  58,  62,\n",
       "        66,  70,  74,  78,  82,  86,  90,  94,  98, 102, 106])"
      ]
     },
     "execution_count": 3,
     "metadata": {},
     "output_type": "execute_result"
    }
   ],
   "source": [
    "# Make labels for the dataset (adhering to the same pattern as before)\n",
    "Y = np.arange(-90, 110, 4)\n",
    "Y"
   ]
  },
  {
   "cell_type": "code",
   "execution_count": 82,
   "id": "57929f51",
   "metadata": {},
   "outputs": [
    {
     "data": {
      "text/plain": [
       "array([ True,  True,  True,  True,  True,  True,  True,  True,  True,\n",
       "        True,  True,  True,  True,  True,  True,  True,  True,  True,\n",
       "        True,  True,  True,  True,  True,  True,  True,  True,  True,\n",
       "        True,  True,  True,  True,  True,  True,  True,  True,  True,\n",
       "        True,  True,  True,  True,  True,  True,  True,  True,  True,\n",
       "        True,  True,  True,  True,  True])"
      ]
     },
     "execution_count": 82,
     "metadata": {},
     "output_type": "execute_result"
    }
   ],
   "source": [
    "# observations from the data set:\n",
    "#     y = x + 10\n",
    "Y == X+10"
   ]
  },
  {
   "cell_type": "code",
   "execution_count": 83,
   "id": "07a16abb",
   "metadata": {},
   "outputs": [
    {
     "data": {
      "text/plain": [
       "<matplotlib.collections.PathCollection at 0x1bdbd0fbe50>"
      ]
     },
     "execution_count": 83,
     "metadata": {},
     "output_type": "execute_result"
    },
    {
     "data": {
      "image/png": "[encoded data removed]",
      "text/plain": [
       "<Figure size 640x480 with 1 Axes>"
      ]
     },
     "metadata": {},
     "output_type": "display_data"
    }
   ],
   "source": [
    "plt.scatter(X,Y)"
   ]
  },
  {
   "cell_type": "code",
   "execution_count": 84,
   "id": "b053693f",
   "metadata": {},
   "outputs": [
    {
     "data": {
      "text/plain": [
       "50"
      ]
     },
     "execution_count": 84,
     "metadata": {},
     "output_type": "execute_result"
    }
   ],
   "source": [
    "len(X)"
   ]
  },
  {
   "cell_type": "code",
   "execution_count": 14,
   "id": "364f4776",
   "metadata": {},
   "outputs": [
    {
     "data": {
      "text/plain": [
       "(10,)"
      ]
     },
     "execution_count": 14,
     "metadata": {},
     "output_type": "execute_result"
    }
   ],
   "source": [
    "#splitting the data into train & test set\n",
    "\n",
    "x_train1 = X[:40]\n",
    "y_train1 = Y[:40]\n",
    "\n",
    "x_test1 = X[40:]\n",
    "y_test1 = Y[40:]\n",
    "\n",
    "# here , we are taking full data set for training(bcoz of data set size & we know the pattern)\n",
    "x_test1.shape"
   ]
  },
  {
   "cell_type": "code",
   "execution_count": 15,
   "id": "254458bd",
   "metadata": {},
   "outputs": [
    {
     "data": {
      "text/plain": [
       "<matplotlib.legend.Legend at 0x287571fbcd0>"
      ]
     },
     "execution_count": 15,
     "metadata": {},
     "output_type": "execute_result"
    },
    {
     "data": {
      "image/png": "[encoded data removed]",
      "text/plain": [
       "<Figure size 1000x700 with 1 Axes>"
      ]
     },
     "metadata": {},
     "output_type": "display_data"
    }
   ],
   "source": [
    "# visualizing the data sets(train,test)\n",
    "plt.figure(figsize=(10, 7))\n",
    "plt.scatter(x_train1 , y_train1 , c='b' , label=\"Training data\")\n",
    "plt.scatter(x_test1 , y_test1 , c='r',label=\"Testing data\")\n",
    "plt.legend()"
   ]
  },
  {
   "cell_type": "code",
   "execution_count": 16,
   "id": "19c05c93",
   "metadata": {},
   "outputs": [],
   "source": [
    "# creating the model\n",
    "model = tf.keras.Sequential([\n",
    "    tf.keras.layers.Dense(30 , input_shape=[1]) # define the input_shape to our model\n",
    "])\n",
    "#compile the model\n",
    "model.compile(loss= tf.keras.losses.mae,\n",
    "             optimizer= tf.keras.optimizers.SGD(),\n",
    "             metrics = ['mae'])"
   ]
  },
  {
   "cell_type": "code",
   "execution_count": 6,
   "id": "a2316af4",
   "metadata": {},
   "outputs": [
    {
     "name": "stdout",
     "output_type": "stream",
     "text": [
      "Model: \"sequential\"\n",
      "_________________________________________________________________\n",
      " Layer (type)                Output Shape              Param #   \n",
      "=================================================================\n",
      " dense (Dense)               (None, 30)                60        \n",
      "                                                                 \n",
      "=================================================================\n",
      "Total params: 60\n",
      "Trainable params: 60\n",
      "Non-trainable params: 0\n",
      "_________________________________________________________________\n"
     ]
    }
   ],
   "source": [
    "model.summary()"
   ]
  },
  {
   "cell_type": "markdown",
   "id": "aa3df38a",
   "metadata": {},
   "source": [
    "# Calling summary() on our model shows us the layers it contains, the output shape and the number of parameters.\n",
    "\n",
    "Total params - total number of parameters in the model.\n",
    "\n",
    "Trainable parameters - these are the parameters (patterns) the model can update as it trains.\n",
    "\n",
    "Non-trainable parameters - these parameters aren't updated during training (this is typical when you bring in the already learned patterns from other models during transfer learning).\n",
    "\n",
    "Learning Resource :  https://www.google.com/search?q=mit+introduction+to+deep+learning&rlz=1C1CHBF_enIN1003IN1003&oq=mit+introdu&aqs=chrome.0.0i512l3j69i57j0i512l6.3434j0j4&sourceid=chrome&ie=UTF-8#fpstate=ive&vld=cid:267ead53,vid:7sB052Pz0sQ\n",
    "\n",
    "Exercise: Try playing around with the number of hidden units in the Dense layer (e.g. Dense(2), Dense(3)). How does this change the Total/Trainable params? Investigate what's causing the change."
   ]
  },
  {
   "cell_type": "code",
   "execution_count": 18,
   "id": "ef5380cb",
   "metadata": {},
   "outputs": [
    {
     "data": {
      "text/plain": [
       "<keras.callbacks.History at 0x2875b3f1cd0>"
      ]
     },
     "execution_count": 18,
     "metadata": {},
     "output_type": "execute_result"
    }
   ],
   "source": [
    "#let's fit the model\n",
    "model.fit(x_train1 , y_train1 , epochs=100, verbose=0) # verbose = 0 i.e. it don't show below logs(verbose=1)"
   ]
  },
  {
   "cell_type": "code",
   "execution_count": 9,
   "id": "5c3d0a19",
   "metadata": {},
   "outputs": [
    {
     "data": {
      "image/png": "[encoded data removed]",
      "text/plain": [
       "<IPython.core.display.Image object>"
      ]
     },
     "execution_count": 9,
     "metadata": {},
     "output_type": "execute_result"
    }
   ],
   "source": [
    "from tensorflow.keras.utils import plot_model\n",
    "\n",
    "plot_model(model=model , show_shapes=True)"
   ]
  },
  {
   "cell_type": "markdown",
   "id": "9a1256cc",
   "metadata": {},
   "source": [
    "# Visualize the model predictions\n",
    "\n",
    "To visualize predictions, it's always a good idea to plot them against the ground truth labels."
   ]
  },
  {
   "cell_type": "code",
   "execution_count": 20,
   "id": "7ef782b0",
   "metadata": {},
   "outputs": [
    {
     "name": "stdout",
     "output_type": "stream",
     "text": [
      "1/1 [==============================] - 0s 22ms/step\n"
     ]
    },
    {
     "data": {
      "text/plain": [
       "(10, 30)"
      ]
     },
     "execution_count": 20,
     "metadata": {},
     "output_type": "execute_result"
    }
   ],
   "source": [
    "# making predictions\n",
    "y_pred = model.predict(x_test1)\n",
    "\n",
    "y_pred.shape"
   ]
  },
  {
   "cell_type": "code",
   "execution_count": null,
   "id": "387b3105",
   "metadata": {},
   "outputs": [],
   "source": []
  }
 ],
 "metadata": {
  "kernelspec": {
   "display_name": "Python 3 (ipykernel)",
   "language": "python",
   "name": "python3"
  },
  "language_info": {
   "codemirror_mode": {
    "name": "ipython",
    "version": 3
   },
   "file_extension": ".py",
   "mimetype": "text/x-python",
   "name": "python",
   "nbconvert_exporter": "python",
   "pygments_lexer": "ipython3",
   "version": "3.11.0"
  }
 },
 "nbformat": 4,
 "nbformat_minor": 5
}
