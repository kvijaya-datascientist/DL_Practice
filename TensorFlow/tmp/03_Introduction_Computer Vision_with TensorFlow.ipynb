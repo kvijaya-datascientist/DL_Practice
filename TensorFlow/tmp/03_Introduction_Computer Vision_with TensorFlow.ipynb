{
 "cells": [
  {
   "cell_type": "code",
   "execution_count": 1,
   "id": "31fd9115",
   "metadata": {},
   "outputs": [],
   "source": [
    "import zipfile"
   ]
  },
  {
   "cell_type": "code",
   "execution_count": 2,
   "id": "1853e7ae",
   "metadata": {},
   "outputs": [
    {
     "name": "stderr",
     "output_type": "stream",
     "text": [
      "'wget' is not recognized as an internal or external command,\n",
      "operable program or batch file.\n"
     ]
    }
   ],
   "source": [
    "!wget https://storage.googleapis.com/ztm_tf_course/food_vision/pizza_steak.zip"
   ]
  },
  {
   "cell_type": "code",
   "execution_count": 7,
   "id": "710d10c6",
   "metadata": {},
   "outputs": [],
   "source": [
    "zipfile_ref = zipfile.ZipFile('data/pizza_steak.zip')\n",
    "zipfile_ref.extractall('data/')\n",
    "zipfile_ref.close()"
   ]
  },
  {
   "cell_type": "code",
   "execution_count": null,
   "id": "f73b3b4d",
   "metadata": {},
   "outputs": [],
   "source": []
  }
 ],
 "metadata": {
  "kernelspec": {
   "display_name": "Python 3 (ipykernel)",
   "language": "python",
   "name": "python3"
  },
  "language_info": {
   "codemirror_mode": {
    "name": "ipython",
    "version": 3
   },
   "file_extension": ".py",
   "mimetype": "text/x-python",
   "name": "python",
   "nbconvert_exporter": "python",
   "pygments_lexer": "ipython3",
   "version": "3.11.0"
  }
 },
 "nbformat": 4,
 "nbformat_minor": 5
}
