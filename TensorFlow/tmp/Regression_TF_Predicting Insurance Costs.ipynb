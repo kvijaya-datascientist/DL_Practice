{
 "cells": [
  {
   "cell_type": "code",
   "execution_count": 1,
   "id": "cf6a2cce",
   "metadata": {},
   "outputs": [],
   "source": [
    "# Target:  Can you accurately predict insurance costs?"
   ]
  },
  {
   "cell_type": "code",
   "execution_count": 25,
   "id": "82ee0f7d",
   "metadata": {},
   "outputs": [],
   "source": [
    "import tensorflow as tf\n",
    "\n",
    "import matplotlib.pyplot as plt\n",
    "import numpy as np\n",
    "import pandas as pd "
   ]
  },
  {
   "cell_type": "code",
   "execution_count": 26,
   "id": "af345e20",
   "metadata": {},
   "outputs": [
    {
     "data": {
      "text/plain": [
       "(1338, 7)"
      ]
     },
     "execution_count": 26,
     "metadata": {},
     "output_type": "execute_result"
    }
   ],
   "source": [
    "insurance_info = pd.read_csv(\"data/insurance.csv\")\n",
    "\n",
    "insurance_info.shape"
   ]
  },
  {
   "cell_type": "markdown",
   "id": "33618101",
   "metadata": {},
   "source": [
    "# data profiling"
   ]
  },
  {
   "cell_type": "code",
   "execution_count": 4,
   "id": "ec4d63cd",
   "metadata": {},
   "outputs": [
    {
     "data": {
      "text/html": [
       "<div>\n",
       "<style scoped>\n",
       "    .dataframe tbody tr th:only-of-type {\n",
       "        vertical-align: middle;\n",
       "    }\n",
       "\n",
       "    .dataframe tbody tr th {\n",
       "        vertical-align: top;\n",
       "    }\n",
       "\n",
       "    .dataframe thead th {\n",
       "        text-align: right;\n",
       "    }\n",
       "</style>\n",
       "<table border=\"1\" class=\"dataframe\">\n",
       "  <thead>\n",
       "    <tr style=\"text-align: right;\">\n",
       "      <th></th>\n",
       "      <th>age</th>\n",
       "      <th>bmi</th>\n",
       "      <th>children</th>\n",
       "      <th>charges</th>\n",
       "    </tr>\n",
       "  </thead>\n",
       "  <tbody>\n",
       "    <tr>\n",
       "      <th>count</th>\n",
       "      <td>1338.000000</td>\n",
       "      <td>1338.000000</td>\n",
       "      <td>1338.000000</td>\n",
       "      <td>1338.000000</td>\n",
       "    </tr>\n",
       "    <tr>\n",
       "      <th>mean</th>\n",
       "      <td>39.207025</td>\n",
       "      <td>30.663397</td>\n",
       "      <td>1.094918</td>\n",
       "      <td>13270.422265</td>\n",
       "    </tr>\n",
       "    <tr>\n",
       "      <th>std</th>\n",
       "      <td>14.049960</td>\n",
       "      <td>6.098187</td>\n",
       "      <td>1.205493</td>\n",
       "      <td>12110.011237</td>\n",
       "    </tr>\n",
       "    <tr>\n",
       "      <th>min</th>\n",
       "      <td>18.000000</td>\n",
       "      <td>15.960000</td>\n",
       "      <td>0.000000</td>\n",
       "      <td>1121.873900</td>\n",
       "    </tr>\n",
       "    <tr>\n",
       "      <th>25%</th>\n",
       "      <td>27.000000</td>\n",
       "      <td>26.296250</td>\n",
       "      <td>0.000000</td>\n",
       "      <td>4740.287150</td>\n",
       "    </tr>\n",
       "    <tr>\n",
       "      <th>50%</th>\n",
       "      <td>39.000000</td>\n",
       "      <td>30.400000</td>\n",
       "      <td>1.000000</td>\n",
       "      <td>9382.033000</td>\n",
       "    </tr>\n",
       "    <tr>\n",
       "      <th>75%</th>\n",
       "      <td>51.000000</td>\n",
       "      <td>34.693750</td>\n",
       "      <td>2.000000</td>\n",
       "      <td>16639.912515</td>\n",
       "    </tr>\n",
       "    <tr>\n",
       "      <th>max</th>\n",
       "      <td>64.000000</td>\n",
       "      <td>53.130000</td>\n",
       "      <td>5.000000</td>\n",
       "      <td>63770.428010</td>\n",
       "    </tr>\n",
       "  </tbody>\n",
       "</table>\n",
       "</div>"
      ],
      "text/plain": [
       "               age          bmi     children       charges\n",
       "count  1338.000000  1338.000000  1338.000000   1338.000000\n",
       "mean     39.207025    30.663397     1.094918  13270.422265\n",
       "std      14.049960     6.098187     1.205493  12110.011237\n",
       "min      18.000000    15.960000     0.000000   1121.873900\n",
       "25%      27.000000    26.296250     0.000000   4740.287150\n",
       "50%      39.000000    30.400000     1.000000   9382.033000\n",
       "75%      51.000000    34.693750     2.000000  16639.912515\n",
       "max      64.000000    53.130000     5.000000  63770.428010"
      ]
     },
     "execution_count": 4,
     "metadata": {},
     "output_type": "execute_result"
    }
   ],
   "source": [
    "insurance_info.describe()"
   ]
  },
  {
   "cell_type": "code",
   "execution_count": 5,
   "id": "dd86b7ea",
   "metadata": {},
   "outputs": [
    {
     "data": {
      "text/html": [
       "<div>\n",
       "<style scoped>\n",
       "    .dataframe tbody tr th:only-of-type {\n",
       "        vertical-align: middle;\n",
       "    }\n",
       "\n",
       "    .dataframe tbody tr th {\n",
       "        vertical-align: top;\n",
       "    }\n",
       "\n",
       "    .dataframe thead th {\n",
       "        text-align: right;\n",
       "    }\n",
       "</style>\n",
       "<table border=\"1\" class=\"dataframe\">\n",
       "  <thead>\n",
       "    <tr style=\"text-align: right;\">\n",
       "      <th></th>\n",
       "      <th>age</th>\n",
       "      <th>sex</th>\n",
       "      <th>bmi</th>\n",
       "      <th>children</th>\n",
       "      <th>smoker</th>\n",
       "      <th>region</th>\n",
       "      <th>charges</th>\n",
       "    </tr>\n",
       "  </thead>\n",
       "  <tbody>\n",
       "    <tr>\n",
       "      <th>0</th>\n",
       "      <td>19</td>\n",
       "      <td>female</td>\n",
       "      <td>27.90</td>\n",
       "      <td>0</td>\n",
       "      <td>yes</td>\n",
       "      <td>southwest</td>\n",
       "      <td>16884.9240</td>\n",
       "    </tr>\n",
       "    <tr>\n",
       "      <th>1</th>\n",
       "      <td>18</td>\n",
       "      <td>male</td>\n",
       "      <td>33.77</td>\n",
       "      <td>1</td>\n",
       "      <td>no</td>\n",
       "      <td>southeast</td>\n",
       "      <td>1725.5523</td>\n",
       "    </tr>\n",
       "    <tr>\n",
       "      <th>2</th>\n",
       "      <td>28</td>\n",
       "      <td>male</td>\n",
       "      <td>33.00</td>\n",
       "      <td>3</td>\n",
       "      <td>no</td>\n",
       "      <td>southeast</td>\n",
       "      <td>4449.4620</td>\n",
       "    </tr>\n",
       "  </tbody>\n",
       "</table>\n",
       "</div>"
      ],
      "text/plain": [
       "   age     sex    bmi  children smoker     region     charges\n",
       "0   19  female  27.90         0    yes  southwest  16884.9240\n",
       "1   18    male  33.77         1     no  southeast   1725.5523\n",
       "2   28    male  33.00         3     no  southeast   4449.4620"
      ]
     },
     "execution_count": 5,
     "metadata": {},
     "output_type": "execute_result"
    }
   ],
   "source": [
    "insurance_info.head(3)"
   ]
  },
  {
   "cell_type": "code",
   "execution_count": 6,
   "id": "195f8ac4",
   "metadata": {},
   "outputs": [
    {
     "name": "stdout",
     "output_type": "stream",
     "text": [
      "<class 'pandas.core.frame.DataFrame'>\n",
      "RangeIndex: 1338 entries, 0 to 1337\n",
      "Data columns (total 7 columns):\n",
      " #   Column    Non-Null Count  Dtype  \n",
      "---  ------    --------------  -----  \n",
      " 0   age       1338 non-null   int64  \n",
      " 1   sex       1338 non-null   object \n",
      " 2   bmi       1338 non-null   float64\n",
      " 3   children  1338 non-null   int64  \n",
      " 4   smoker    1338 non-null   object \n",
      " 5   region    1338 non-null   object \n",
      " 6   charges   1338 non-null   float64\n",
      "dtypes: float64(2), int64(2), object(3)\n",
      "memory usage: 73.3+ KB\n"
     ]
    }
   ],
   "source": [
    "insurance_info.info()"
   ]
  },
  {
   "cell_type": "code",
   "execution_count": 8,
   "id": "4c25a4d1",
   "metadata": {},
   "outputs": [
    {
     "data": {
      "text/plain": [
       "array(['female', 'male'], dtype=object)"
      ]
     },
     "execution_count": 8,
     "metadata": {},
     "output_type": "execute_result"
    }
   ],
   "source": [
    "insurance_info['sex'].unique()"
   ]
  },
  {
   "cell_type": "code",
   "execution_count": 9,
   "id": "5602ad4e",
   "metadata": {},
   "outputs": [
    {
     "data": {
      "text/plain": [
       "array(['yes', 'no'], dtype=object)"
      ]
     },
     "execution_count": 9,
     "metadata": {},
     "output_type": "execute_result"
    }
   ],
   "source": [
    "insurance_info['smoker'].unique()"
   ]
  },
  {
   "cell_type": "code",
   "execution_count": 10,
   "id": "cfab2168",
   "metadata": {},
   "outputs": [
    {
     "data": {
      "text/plain": [
       "array(['southwest', 'southeast', 'northwest', 'northeast'], dtype=object)"
      ]
     },
     "execution_count": 10,
     "metadata": {},
     "output_type": "execute_result"
    }
   ],
   "source": [
    "insurance_info['region'].unique()"
   ]
  },
  {
   "cell_type": "code",
   "execution_count": 15,
   "id": "702ea45d",
   "metadata": {},
   "outputs": [
    {
     "data": {
      "text/plain": [
       "age         0\n",
       "sex         0\n",
       "bmi         0\n",
       "children    0\n",
       "smoker      0\n",
       "region      0\n",
       "charges     0\n",
       "dtype: int64"
      ]
     },
     "execution_count": 15,
     "metadata": {},
     "output_type": "execute_result"
    }
   ],
   "source": [
    "insurance_info.isna().sum()  # 'isnull' is an alias for 'isna'"
   ]
  },
  {
   "cell_type": "markdown",
   "id": "8ae08bd5",
   "metadata": {},
   "source": [
    "# Feature Engineering"
   ]
  },
  {
   "cell_type": "code",
   "execution_count": 27,
   "id": "e5818455",
   "metadata": {},
   "outputs": [
    {
     "data": {
      "text/html": [
       "<div>\n",
       "<style scoped>\n",
       "    .dataframe tbody tr th:only-of-type {\n",
       "        vertical-align: middle;\n",
       "    }\n",
       "\n",
       "    .dataframe tbody tr th {\n",
       "        vertical-align: top;\n",
       "    }\n",
       "\n",
       "    .dataframe thead th {\n",
       "        text-align: right;\n",
       "    }\n",
       "</style>\n",
       "<table border=\"1\" class=\"dataframe\">\n",
       "  <thead>\n",
       "    <tr style=\"text-align: right;\">\n",
       "      <th></th>\n",
       "      <th>age</th>\n",
       "      <th>bmi</th>\n",
       "      <th>children</th>\n",
       "      <th>charges</th>\n",
       "      <th>sex_female</th>\n",
       "      <th>sex_male</th>\n",
       "      <th>smoker_no</th>\n",
       "      <th>smoker_yes</th>\n",
       "      <th>region_northeast</th>\n",
       "      <th>region_northwest</th>\n",
       "      <th>region_southeast</th>\n",
       "      <th>region_southwest</th>\n",
       "    </tr>\n",
       "  </thead>\n",
       "  <tbody>\n",
       "    <tr>\n",
       "      <th>0</th>\n",
       "      <td>19</td>\n",
       "      <td>27.90</td>\n",
       "      <td>0</td>\n",
       "      <td>16884.9240</td>\n",
       "      <td>True</td>\n",
       "      <td>False</td>\n",
       "      <td>False</td>\n",
       "      <td>True</td>\n",
       "      <td>False</td>\n",
       "      <td>False</td>\n",
       "      <td>False</td>\n",
       "      <td>True</td>\n",
       "    </tr>\n",
       "    <tr>\n",
       "      <th>1</th>\n",
       "      <td>18</td>\n",
       "      <td>33.77</td>\n",
       "      <td>1</td>\n",
       "      <td>1725.5523</td>\n",
       "      <td>False</td>\n",
       "      <td>True</td>\n",
       "      <td>True</td>\n",
       "      <td>False</td>\n",
       "      <td>False</td>\n",
       "      <td>False</td>\n",
       "      <td>True</td>\n",
       "      <td>False</td>\n",
       "    </tr>\n",
       "  </tbody>\n",
       "</table>\n",
       "</div>"
      ],
      "text/plain": [
       "   age    bmi  children     charges  sex_female  sex_male  smoker_no   \n",
       "0   19  27.90         0  16884.9240        True     False      False  \\\n",
       "1   18  33.77         1   1725.5523       False      True       True   \n",
       "\n",
       "   smoker_yes  region_northeast  region_northwest  region_southeast   \n",
       "0        True             False             False             False  \\\n",
       "1       False             False             False              True   \n",
       "\n",
       "   region_southwest  \n",
       "0              True  \n",
       "1             False  "
      ]
     },
     "execution_count": 27,
     "metadata": {},
     "output_type": "execute_result"
    }
   ],
   "source": [
    "#Let's try one-hot encoding for our dataframe. so,it's all numbers\n",
    "ins = pd.get_dummies(insurance_info,columns=['sex','smoker','region'],sparse=False)  # this method not converting to numerical\n",
    "\n",
    "ins.head(2)"
   ]
  },
  {
   "cell_type": "code",
   "execution_count": 28,
   "id": "6aa788f7",
   "metadata": {},
   "outputs": [
    {
     "data": {
      "text/html": [
       "<div>\n",
       "<style scoped>\n",
       "    .dataframe tbody tr th:only-of-type {\n",
       "        vertical-align: middle;\n",
       "    }\n",
       "\n",
       "    .dataframe tbody tr th {\n",
       "        vertical-align: top;\n",
       "    }\n",
       "\n",
       "    .dataframe thead th {\n",
       "        text-align: right;\n",
       "    }\n",
       "</style>\n",
       "<table border=\"1\" class=\"dataframe\">\n",
       "  <thead>\n",
       "    <tr style=\"text-align: right;\">\n",
       "      <th></th>\n",
       "      <th>age</th>\n",
       "      <th>sex</th>\n",
       "      <th>bmi</th>\n",
       "      <th>children</th>\n",
       "      <th>smoker</th>\n",
       "      <th>region</th>\n",
       "      <th>charges</th>\n",
       "      <th>sex_female</th>\n",
       "      <th>sex_male</th>\n",
       "      <th>smoker_no</th>\n",
       "      <th>smoker_yes</th>\n",
       "      <th>region_northeast</th>\n",
       "      <th>region_northwest</th>\n",
       "      <th>region_southeast</th>\n",
       "      <th>region_southwest</th>\n",
       "    </tr>\n",
       "  </thead>\n",
       "  <tbody>\n",
       "    <tr>\n",
       "      <th>0</th>\n",
       "      <td>19</td>\n",
       "      <td>female</td>\n",
       "      <td>27.90</td>\n",
       "      <td>0</td>\n",
       "      <td>yes</td>\n",
       "      <td>southwest</td>\n",
       "      <td>16884.9240</td>\n",
       "      <td>1</td>\n",
       "      <td>0</td>\n",
       "      <td>0</td>\n",
       "      <td>1</td>\n",
       "      <td>0</td>\n",
       "      <td>0</td>\n",
       "      <td>0</td>\n",
       "      <td>1</td>\n",
       "    </tr>\n",
       "    <tr>\n",
       "      <th>1</th>\n",
       "      <td>18</td>\n",
       "      <td>male</td>\n",
       "      <td>33.77</td>\n",
       "      <td>1</td>\n",
       "      <td>no</td>\n",
       "      <td>southeast</td>\n",
       "      <td>1725.5523</td>\n",
       "      <td>0</td>\n",
       "      <td>1</td>\n",
       "      <td>1</td>\n",
       "      <td>0</td>\n",
       "      <td>0</td>\n",
       "      <td>0</td>\n",
       "      <td>1</td>\n",
       "      <td>0</td>\n",
       "    </tr>\n",
       "  </tbody>\n",
       "</table>\n",
       "</div>"
      ],
      "text/plain": [
       "   age     sex    bmi  children smoker     region     charges  sex_female   \n",
       "0   19  female  27.90         0    yes  southwest  16884.9240           1  \\\n",
       "1   18    male  33.77         1     no  southeast   1725.5523           0   \n",
       "\n",
       "   sex_male  smoker_no  smoker_yes  region_northeast  region_northwest   \n",
       "0         0          0           1                 0                 0  \\\n",
       "1         1          1           0                 0                 0   \n",
       "\n",
       "   region_southeast  region_southwest  \n",
       "0                 0                 1  \n",
       "1                 1                 0  "
      ]
     },
     "execution_count": 28,
     "metadata": {},
     "output_type": "execute_result"
    }
   ],
   "source": [
    "from sklearn.preprocessing import OneHotEncoder\n",
    "\n",
    "enc = OneHotEncoder(categories='auto' , handle_unknown='ignore')\n",
    "data = enc.fit_transform(insurance_info[['sex','smoker','region']])\n",
    "df1 = pd.DataFrame(data.toarray(), columns=enc.get_feature_names_out(), dtype=int)\n",
    "ins_df = insurance_info.join(df1)\n",
    "ins_df.head(2)"
   ]
  },
  {
   "cell_type": "code",
   "execution_count": 52,
   "id": "d4fb5083",
   "metadata": {},
   "outputs": [
    {
     "data": {
      "text/plain": [
       "(1338, 15)"
      ]
     },
     "execution_count": 52,
     "metadata": {},
     "output_type": "execute_result"
    }
   ],
   "source": [
    "ins_df.shape"
   ]
  },
  {
   "cell_type": "code",
   "execution_count": 29,
   "id": "186e1961",
   "metadata": {},
   "outputs": [
    {
     "data": {
      "text/plain": [
       "(1338, 12)"
      ]
     },
     "execution_count": 29,
     "metadata": {},
     "output_type": "execute_result"
    }
   ],
   "source": [
    "ins_df_final = ins_df.drop(['sex','smoker','region'],axis=1)\n",
    "\n",
    "ins_df_final.shape"
   ]
  },
  {
   "cell_type": "code",
   "execution_count": 65,
   "id": "958c0753",
   "metadata": {},
   "outputs": [
    {
     "data": {
      "text/html": [
       "<div>\n",
       "<style scoped>\n",
       "    .dataframe tbody tr th:only-of-type {\n",
       "        vertical-align: middle;\n",
       "    }\n",
       "\n",
       "    .dataframe tbody tr th {\n",
       "        vertical-align: top;\n",
       "    }\n",
       "\n",
       "    .dataframe thead th {\n",
       "        text-align: right;\n",
       "    }\n",
       "</style>\n",
       "<table border=\"1\" class=\"dataframe\">\n",
       "  <thead>\n",
       "    <tr style=\"text-align: right;\">\n",
       "      <th></th>\n",
       "      <th>age</th>\n",
       "      <th>bmi</th>\n",
       "      <th>children</th>\n",
       "      <th>charges</th>\n",
       "      <th>sex_female</th>\n",
       "      <th>sex_male</th>\n",
       "      <th>smoker_no</th>\n",
       "      <th>smoker_yes</th>\n",
       "      <th>region_northeast</th>\n",
       "      <th>region_northwest</th>\n",
       "      <th>region_southeast</th>\n",
       "      <th>region_southwest</th>\n",
       "    </tr>\n",
       "  </thead>\n",
       "  <tbody>\n",
       "    <tr>\n",
       "      <th>0</th>\n",
       "      <td>19</td>\n",
       "      <td>27.90</td>\n",
       "      <td>0</td>\n",
       "      <td>16884.9240</td>\n",
       "      <td>1</td>\n",
       "      <td>0</td>\n",
       "      <td>0</td>\n",
       "      <td>1</td>\n",
       "      <td>0</td>\n",
       "      <td>0</td>\n",
       "      <td>0</td>\n",
       "      <td>1</td>\n",
       "    </tr>\n",
       "    <tr>\n",
       "      <th>1</th>\n",
       "      <td>18</td>\n",
       "      <td>33.77</td>\n",
       "      <td>1</td>\n",
       "      <td>1725.5523</td>\n",
       "      <td>0</td>\n",
       "      <td>1</td>\n",
       "      <td>1</td>\n",
       "      <td>0</td>\n",
       "      <td>0</td>\n",
       "      <td>0</td>\n",
       "      <td>1</td>\n",
       "      <td>0</td>\n",
       "    </tr>\n",
       "  </tbody>\n",
       "</table>\n",
       "</div>"
      ],
      "text/plain": [
       "   age    bmi  children     charges  sex_female  sex_male  smoker_no   \n",
       "0   19  27.90         0  16884.9240           1         0          0  \\\n",
       "1   18  33.77         1   1725.5523           0         1          1   \n",
       "\n",
       "   smoker_yes  region_northeast  region_northwest  region_southeast   \n",
       "0           1                 0                 0                 0  \\\n",
       "1           0                 0                 0                 1   \n",
       "\n",
       "   region_southwest  \n",
       "0                 1  \n",
       "1                 0  "
      ]
     },
     "execution_count": 65,
     "metadata": {},
     "output_type": "execute_result"
    }
   ],
   "source": [
    "ins_df_final.head(2)"
   ]
  },
  {
   "cell_type": "code",
   "execution_count": 67,
   "id": "a7175c8c",
   "metadata": {},
   "outputs": [
    {
     "name": "stdout",
     "output_type": "stream",
     "text": [
      "<class 'pandas.core.frame.DataFrame'>\n",
      "RangeIndex: 1338 entries, 0 to 1337\n",
      "Data columns (total 12 columns):\n",
      " #   Column            Non-Null Count  Dtype  \n",
      "---  ------            --------------  -----  \n",
      " 0   age               1338 non-null   int64  \n",
      " 1   bmi               1338 non-null   float64\n",
      " 2   children          1338 non-null   int64  \n",
      " 3   charges           1338 non-null   float64\n",
      " 4   sex_female        1338 non-null   int32  \n",
      " 5   sex_male          1338 non-null   int32  \n",
      " 6   smoker_no         1338 non-null   int32  \n",
      " 7   smoker_yes        1338 non-null   int32  \n",
      " 8   region_northeast  1338 non-null   int32  \n",
      " 9   region_northwest  1338 non-null   int32  \n",
      " 10  region_southeast  1338 non-null   int32  \n",
      " 11  region_southwest  1338 non-null   int32  \n",
      "dtypes: float64(2), int32(8), int64(2)\n",
      "memory usage: 83.8 KB\n"
     ]
    }
   ],
   "source": [
    "ins_df_final.info()"
   ]
  },
  {
   "cell_type": "markdown",
   "id": "0c46148b",
   "metadata": {},
   "source": [
    "# dividing data into features & labels\n",
    "\n",
    "Create X & Y values(features and labels)\n",
    "\n",
    "Create training and test sets\n",
    "\n",
    "Build a neural network (regression)"
   ]
  },
  {
   "cell_type": "code",
   "execution_count": 30,
   "id": "8c06a63e",
   "metadata": {},
   "outputs": [
    {
     "data": {
      "text/plain": [
       "((1338, 11), (1338,))"
      ]
     },
     "execution_count": 30,
     "metadata": {},
     "output_type": "execute_result"
    }
   ],
   "source": [
    "# create X & Y values\n",
    "X = ins_df_final.drop('charges',axis=1)\n",
    "\n",
    "Y = ins_df_final['charges']\n",
    "\n",
    "X.shape  , Y.shape"
   ]
  },
  {
   "cell_type": "code",
   "execution_count": 90,
   "id": "e1df4ff7",
   "metadata": {},
   "outputs": [
    {
     "data": {
      "text/html": [
       "<div>\n",
       "<style scoped>\n",
       "    .dataframe tbody tr th:only-of-type {\n",
       "        vertical-align: middle;\n",
       "    }\n",
       "\n",
       "    .dataframe tbody tr th {\n",
       "        vertical-align: top;\n",
       "    }\n",
       "\n",
       "    .dataframe thead th {\n",
       "        text-align: right;\n",
       "    }\n",
       "</style>\n",
       "<table border=\"1\" class=\"dataframe\">\n",
       "  <thead>\n",
       "    <tr style=\"text-align: right;\">\n",
       "      <th></th>\n",
       "      <th>age</th>\n",
       "      <th>bmi</th>\n",
       "      <th>children</th>\n",
       "      <th>sex_female</th>\n",
       "      <th>sex_male</th>\n",
       "      <th>smoker_no</th>\n",
       "      <th>smoker_yes</th>\n",
       "      <th>region_northeast</th>\n",
       "      <th>region_northwest</th>\n",
       "      <th>region_southeast</th>\n",
       "      <th>region_southwest</th>\n",
       "    </tr>\n",
       "  </thead>\n",
       "  <tbody>\n",
       "    <tr>\n",
       "      <th>0</th>\n",
       "      <td>19</td>\n",
       "      <td>27.90</td>\n",
       "      <td>0</td>\n",
       "      <td>1</td>\n",
       "      <td>0</td>\n",
       "      <td>0</td>\n",
       "      <td>1</td>\n",
       "      <td>0</td>\n",
       "      <td>0</td>\n",
       "      <td>0</td>\n",
       "      <td>1</td>\n",
       "    </tr>\n",
       "    <tr>\n",
       "      <th>1</th>\n",
       "      <td>18</td>\n",
       "      <td>33.77</td>\n",
       "      <td>1</td>\n",
       "      <td>0</td>\n",
       "      <td>1</td>\n",
       "      <td>1</td>\n",
       "      <td>0</td>\n",
       "      <td>0</td>\n",
       "      <td>0</td>\n",
       "      <td>1</td>\n",
       "      <td>0</td>\n",
       "    </tr>\n",
       "  </tbody>\n",
       "</table>\n",
       "</div>"
      ],
      "text/plain": [
       "   age    bmi  children  sex_female  sex_male  smoker_no  smoker_yes   \n",
       "0   19  27.90         0           1         0          0           1  \\\n",
       "1   18  33.77         1           0         1          1           0   \n",
       "\n",
       "   region_northeast  region_northwest  region_southeast  region_southwest  \n",
       "0                 0                 0                 0                 1  \n",
       "1                 0                 0                 1                 0  "
      ]
     },
     "execution_count": 90,
     "metadata": {},
     "output_type": "execute_result"
    }
   ],
   "source": [
    "X.head(2)"
   ]
  },
  {
   "cell_type": "code",
   "execution_count": 91,
   "id": "5322384c",
   "metadata": {},
   "outputs": [
    {
     "data": {
      "text/plain": [
       "0    16884.9240\n",
       "1     1725.5523\n",
       "Name: charges, dtype: float64"
      ]
     },
     "execution_count": 91,
     "metadata": {},
     "output_type": "execute_result"
    }
   ],
   "source": [
    "Y.head(2)"
   ]
  },
  {
   "cell_type": "code",
   "execution_count": 31,
   "id": "59471154",
   "metadata": {},
   "outputs": [
    {
     "data": {
      "text/plain": [
       "(1338, 1070, 268)"
      ]
     },
     "execution_count": 31,
     "metadata": {},
     "output_type": "execute_result"
    }
   ],
   "source": [
    "# create training & test datasets\n",
    "from sklearn.model_selection import train_test_split\n",
    "\n",
    "x_train,x_test,y_train,y_test = train_test_split(X,Y,test_size=0.2 , random_state=42)\n",
    "\n",
    "len(X) , len(x_train) , len(x_test)"
   ]
  },
  {
   "cell_type": "code",
   "execution_count": 80,
   "id": "04881e15",
   "metadata": {},
   "outputs": [
    {
     "data": {
      "text/plain": [
       "(1338, 1070, 268)"
      ]
     },
     "execution_count": 80,
     "metadata": {},
     "output_type": "execute_result"
    }
   ],
   "source": [
    "len(Y) , len(y_train) , len(y_test)"
   ]
  },
  {
   "cell_type": "code",
   "execution_count": 83,
   "id": "a557540a",
   "metadata": {},
   "outputs": [
    {
     "data": {
      "text/plain": [
       "(1070, 11)"
      ]
     },
     "execution_count": 83,
     "metadata": {},
     "output_type": "execute_result"
    }
   ],
   "source": [
    "x_train.shape"
   ]
  },
  {
   "cell_type": "code",
   "execution_count": null,
   "id": "e8ea337e",
   "metadata": {},
   "outputs": [],
   "source": []
  },
  {
   "cell_type": "markdown",
   "id": "9412e14a",
   "metadata": {},
   "source": [
    "# Building Model\n",
    "\n",
    "1. creating a model\n",
    "\n",
    "2. compiling the model\n",
    "\n",
    "3. fitting the model\n",
    "\n",
    "4. Evaluating metrics\n",
    "\n",
    "5. predictions on new data"
   ]
  },
  {
   "cell_type": "code",
   "execution_count": 32,
   "id": "741e5eab",
   "metadata": {},
   "outputs": [
    {
     "name": "stdout",
     "output_type": "stream",
     "text": [
      "Epoch 1/100\n",
      "34/34 [==============================] - 1s 3ms/step - loss: 12949.1621 - mae: 12949.1621\n",
      "Epoch 2/100\n",
      "34/34 [==============================] - 0s 3ms/step - loss: 10571.3525 - mae: 10571.3525\n",
      "Epoch 3/100\n",
      "34/34 [==============================] - 0s 2ms/step - loss: 7695.5088 - mae: 7695.5088\n",
      "Epoch 4/100\n",
      "34/34 [==============================] - 0s 3ms/step - loss: 7439.7612 - mae: 7439.7612\n",
      "Epoch 5/100\n",
      "34/34 [==============================] - 0s 3ms/step - loss: 7361.5317 - mae: 7361.5317\n",
      "Epoch 6/100\n",
      "34/34 [==============================] - 0s 3ms/step - loss: 7296.4478 - mae: 7296.4478\n",
      "Epoch 7/100\n",
      "34/34 [==============================] - 0s 3ms/step - loss: 7210.7393 - mae: 7210.7393\n",
      "Epoch 8/100\n",
      "34/34 [==============================] - 0s 3ms/step - loss: 7132.7900 - mae: 7132.7900\n",
      "Epoch 9/100\n",
      "34/34 [==============================] - 0s 3ms/step - loss: 7047.9224 - mae: 7047.9224\n",
      "Epoch 10/100\n",
      "34/34 [==============================] - 0s 3ms/step - loss: 6959.1689 - mae: 6959.1689\n",
      "Epoch 11/100\n",
      "34/34 [==============================] - 0s 3ms/step - loss: 6861.3623 - mae: 6861.3623\n",
      "Epoch 12/100\n",
      "34/34 [==============================] - 0s 3ms/step - loss: 6752.3154 - mae: 6752.3154\n",
      "Epoch 13/100\n",
      "34/34 [==============================] - 0s 3ms/step - loss: 6640.3037 - mae: 6640.3037\n",
      "Epoch 14/100\n",
      "34/34 [==============================] - 0s 3ms/step - loss: 6539.4902 - mae: 6539.4902\n",
      "Epoch 15/100\n",
      "34/34 [==============================] - 0s 3ms/step - loss: 6459.5435 - mae: 6459.5435\n",
      "Epoch 16/100\n",
      "34/34 [==============================] - 0s 3ms/step - loss: 6408.9897 - mae: 6408.9897\n",
      "Epoch 17/100\n",
      "34/34 [==============================] - 0s 3ms/step - loss: 6362.2729 - mae: 6362.2729\n",
      "Epoch 18/100\n",
      "34/34 [==============================] - 0s 3ms/step - loss: 6324.4795 - mae: 6324.4795\n",
      "Epoch 19/100\n",
      "34/34 [==============================] - 0s 3ms/step - loss: 6276.2012 - mae: 6276.2012\n",
      "Epoch 20/100\n",
      "34/34 [==============================] - 0s 3ms/step - loss: 6233.1343 - mae: 6233.1343\n",
      "Epoch 21/100\n",
      "34/34 [==============================] - 0s 3ms/step - loss: 6182.9521 - mae: 6182.9521\n",
      "Epoch 22/100\n",
      "34/34 [==============================] - 0s 3ms/step - loss: 6139.3096 - mae: 6139.3096\n",
      "Epoch 23/100\n",
      "34/34 [==============================] - 0s 3ms/step - loss: 6087.3271 - mae: 6087.3271\n",
      "Epoch 24/100\n",
      "34/34 [==============================] - 0s 3ms/step - loss: 6036.9648 - mae: 6036.9648\n",
      "Epoch 25/100\n",
      "34/34 [==============================] - 0s 3ms/step - loss: 5980.7944 - mae: 5980.7944\n",
      "Epoch 26/100\n",
      "34/34 [==============================] - 0s 3ms/step - loss: 5915.1582 - mae: 5915.1582\n",
      "Epoch 27/100\n",
      "34/34 [==============================] - 0s 3ms/step - loss: 5854.1880 - mae: 5854.1880\n",
      "Epoch 28/100\n",
      "34/34 [==============================] - 0s 3ms/step - loss: 5784.4165 - mae: 5784.4165\n",
      "Epoch 29/100\n",
      "34/34 [==============================] - 0s 3ms/step - loss: 5714.6685 - mae: 5714.6685\n",
      "Epoch 30/100\n",
      "34/34 [==============================] - 0s 3ms/step - loss: 5646.5391 - mae: 5646.5391\n",
      "Epoch 31/100\n",
      "34/34 [==============================] - 0s 3ms/step - loss: 5557.7876 - mae: 5557.7876\n",
      "Epoch 32/100\n",
      "34/34 [==============================] - 0s 3ms/step - loss: 5480.3555 - mae: 5480.3555\n",
      "Epoch 33/100\n",
      "34/34 [==============================] - 0s 3ms/step - loss: 5384.8574 - mae: 5384.8574\n",
      "Epoch 34/100\n",
      "34/34 [==============================] - 0s 3ms/step - loss: 5282.6206 - mae: 5282.6206\n",
      "Epoch 35/100\n",
      "34/34 [==============================] - 0s 4ms/step - loss: 5199.2695 - mae: 5199.2695\n",
      "Epoch 36/100\n",
      "34/34 [==============================] - 0s 3ms/step - loss: 5094.1802 - mae: 5094.1802\n",
      "Epoch 37/100\n",
      "34/34 [==============================] - 0s 3ms/step - loss: 4975.0215 - mae: 4975.0215\n",
      "Epoch 38/100\n",
      "34/34 [==============================] - 0s 3ms/step - loss: 4875.4106 - mae: 4875.4106\n",
      "Epoch 39/100\n",
      "34/34 [==============================] - 0s 3ms/step - loss: 4725.6265 - mae: 4725.6265\n",
      "Epoch 40/100\n",
      "34/34 [==============================] - 0s 2ms/step - loss: 4596.8936 - mae: 4596.8936\n",
      "Epoch 41/100\n",
      "34/34 [==============================] - 0s 3ms/step - loss: 4462.5840 - mae: 4462.5840\n",
      "Epoch 42/100\n",
      "34/34 [==============================] - 0s 3ms/step - loss: 4321.7129 - mae: 4321.7129\n",
      "Epoch 43/100\n",
      "34/34 [==============================] - 0s 3ms/step - loss: 4205.5698 - mae: 4205.5698\n",
      "Epoch 44/100\n",
      "34/34 [==============================] - 0s 3ms/step - loss: 4090.6135 - mae: 4090.6135\n",
      "Epoch 45/100\n",
      "34/34 [==============================] - 0s 3ms/step - loss: 3993.1177 - mae: 3993.1177\n",
      "Epoch 46/100\n",
      "34/34 [==============================] - 0s 3ms/step - loss: 3931.7556 - mae: 3931.7556\n",
      "Epoch 47/100\n",
      "34/34 [==============================] - 0s 3ms/step - loss: 3909.2317 - mae: 3909.2317\n",
      "Epoch 48/100\n",
      "34/34 [==============================] - 0s 3ms/step - loss: 3842.7341 - mae: 3842.7341\n",
      "Epoch 49/100\n",
      "34/34 [==============================] - 0s 3ms/step - loss: 3823.9043 - mae: 3823.9043\n",
      "Epoch 50/100\n",
      "34/34 [==============================] - 0s 3ms/step - loss: 3807.9653 - mae: 3807.9653\n",
      "Epoch 51/100\n",
      "34/34 [==============================] - 0s 3ms/step - loss: 3782.6663 - mae: 3782.6663\n",
      "Epoch 52/100\n",
      "34/34 [==============================] - 0s 3ms/step - loss: 3777.8835 - mae: 3777.8835\n",
      "Epoch 53/100\n",
      "34/34 [==============================] - 0s 3ms/step - loss: 3786.1218 - mae: 3786.1218\n",
      "Epoch 54/100\n",
      "34/34 [==============================] - 0s 3ms/step - loss: 3768.8877 - mae: 3768.8877\n",
      "Epoch 55/100\n",
      "34/34 [==============================] - 0s 3ms/step - loss: 3757.2285 - mae: 3757.2285\n",
      "Epoch 56/100\n",
      "34/34 [==============================] - 0s 3ms/step - loss: 3745.6919 - mae: 3745.6919\n",
      "Epoch 57/100\n",
      "34/34 [==============================] - 0s 2ms/step - loss: 3745.8174 - mae: 3745.8174\n",
      "Epoch 58/100\n",
      "34/34 [==============================] - 0s 3ms/step - loss: 3752.9663 - mae: 3752.9663\n",
      "Epoch 59/100\n",
      "34/34 [==============================] - 0s 3ms/step - loss: 3736.4355 - mae: 3736.4355\n",
      "Epoch 60/100\n",
      "34/34 [==============================] - 0s 3ms/step - loss: 3745.0906 - mae: 3745.0906\n",
      "Epoch 61/100\n",
      "34/34 [==============================] - 0s 3ms/step - loss: 3739.7009 - mae: 3739.7009\n",
      "Epoch 62/100\n",
      "34/34 [==============================] - 0s 3ms/step - loss: 3742.3906 - mae: 3742.3906\n",
      "Epoch 63/100\n",
      "34/34 [==============================] - 0s 3ms/step - loss: 3737.8564 - mae: 3737.8564\n",
      "Epoch 64/100\n",
      "34/34 [==============================] - 0s 3ms/step - loss: 3726.6052 - mae: 3726.6052\n",
      "Epoch 65/100\n",
      "34/34 [==============================] - 0s 3ms/step - loss: 3723.7581 - mae: 3723.7581\n",
      "Epoch 66/100\n",
      "34/34 [==============================] - 0s 3ms/step - loss: 3724.0715 - mae: 3724.0715\n",
      "Epoch 67/100\n",
      "34/34 [==============================] - 0s 3ms/step - loss: 3739.2451 - mae: 3739.2451\n",
      "Epoch 68/100\n",
      "34/34 [==============================] - 0s 3ms/step - loss: 3718.4854 - mae: 3718.4854\n",
      "Epoch 69/100\n",
      "34/34 [==============================] - 0s 3ms/step - loss: 3714.7974 - mae: 3714.7974\n",
      "Epoch 70/100\n",
      "34/34 [==============================] - 0s 3ms/step - loss: 3708.1914 - mae: 3708.1914\n",
      "Epoch 71/100\n",
      "34/34 [==============================] - 0s 3ms/step - loss: 3706.8396 - mae: 3706.8396\n",
      "Epoch 72/100\n",
      "34/34 [==============================] - 0s 3ms/step - loss: 3709.6584 - mae: 3709.6584\n",
      "Epoch 73/100\n",
      "34/34 [==============================] - 0s 3ms/step - loss: 3709.7869 - mae: 3709.7869\n",
      "Epoch 74/100\n",
      "34/34 [==============================] - 0s 3ms/step - loss: 3726.7827 - mae: 3726.7827\n",
      "Epoch 75/100\n",
      "34/34 [==============================] - 0s 3ms/step - loss: 3700.1565 - mae: 3700.1565\n",
      "Epoch 76/100\n",
      "34/34 [==============================] - 0s 3ms/step - loss: 3698.7917 - mae: 3698.7917\n",
      "Epoch 77/100\n",
      "34/34 [==============================] - 0s 3ms/step - loss: 3713.1301 - mae: 3713.1301\n",
      "Epoch 78/100\n",
      "34/34 [==============================] - 0s 3ms/step - loss: 3691.1401 - mae: 3691.1401\n",
      "Epoch 79/100\n",
      "34/34 [==============================] - 0s 3ms/step - loss: 3697.6555 - mae: 3697.6555\n",
      "Epoch 80/100\n",
      "34/34 [==============================] - 0s 3ms/step - loss: 3708.6350 - mae: 3708.6350\n",
      "Epoch 81/100\n",
      "34/34 [==============================] - 0s 3ms/step - loss: 3685.2783 - mae: 3685.2783\n",
      "Epoch 82/100\n"
     ]
    },
    {
     "name": "stdout",
     "output_type": "stream",
     "text": [
      "34/34 [==============================] - 0s 3ms/step - loss: 3689.1648 - mae: 3689.1648\n",
      "Epoch 83/100\n",
      "34/34 [==============================] - 0s 3ms/step - loss: 3688.7280 - mae: 3688.7280\n",
      "Epoch 84/100\n",
      "34/34 [==============================] - 0s 3ms/step - loss: 3726.8979 - mae: 3726.8979\n",
      "Epoch 85/100\n",
      "34/34 [==============================] - 0s 3ms/step - loss: 3677.2590 - mae: 3677.2590\n",
      "Epoch 86/100\n",
      "34/34 [==============================] - 0s 3ms/step - loss: 3678.8445 - mae: 3678.8445\n",
      "Epoch 87/100\n",
      "34/34 [==============================] - 0s 3ms/step - loss: 3677.2571 - mae: 3677.2571\n",
      "Epoch 88/100\n",
      "34/34 [==============================] - 0s 3ms/step - loss: 3667.8110 - mae: 3667.8110\n",
      "Epoch 89/100\n",
      "34/34 [==============================] - 0s 3ms/step - loss: 3679.9431 - mae: 3679.9431\n",
      "Epoch 90/100\n",
      "34/34 [==============================] - 0s 3ms/step - loss: 3656.1663 - mae: 3656.1663\n",
      "Epoch 91/100\n",
      "34/34 [==============================] - 0s 3ms/step - loss: 3654.2788 - mae: 3654.2788\n",
      "Epoch 92/100\n",
      "34/34 [==============================] - 0s 3ms/step - loss: 3662.4937 - mae: 3662.4937\n",
      "Epoch 93/100\n",
      "34/34 [==============================] - 0s 3ms/step - loss: 3655.9453 - mae: 3655.9453\n",
      "Epoch 94/100\n",
      "34/34 [==============================] - 0s 3ms/step - loss: 3657.3721 - mae: 3657.3721\n",
      "Epoch 95/100\n",
      "34/34 [==============================] - 0s 3ms/step - loss: 3645.2581 - mae: 3645.2581\n",
      "Epoch 96/100\n",
      "34/34 [==============================] - 0s 3ms/step - loss: 3658.4072 - mae: 3658.4072\n",
      "Epoch 97/100\n",
      "34/34 [==============================] - 0s 3ms/step - loss: 3640.3508 - mae: 3640.3508\n",
      "Epoch 98/100\n",
      "34/34 [==============================] - 0s 3ms/step - loss: 3646.4124 - mae: 3646.4124\n",
      "Epoch 99/100\n",
      "34/34 [==============================] - 0s 3ms/step - loss: 3660.9270 - mae: 3660.9270\n",
      "Epoch 100/100\n",
      "34/34 [==============================] - 0s 3ms/step - loss: 3653.1216 - mae: 3653.1216\n"
     ]
    },
    {
     "data": {
      "text/plain": [
       "<keras.callbacks.History at 0x182c150ddd0>"
      ]
     },
     "execution_count": 32,
     "metadata": {},
     "output_type": "execute_result"
    }
   ],
   "source": [
    "#Building Regression Nueral network model\n",
    "tf.random.set_seed(42)\n",
    "#1. creating a model\n",
    "ins_model_1 = tf.keras.Sequential()\n",
    "ins_model_1.add(tf.keras.layers.Dense(100)),\n",
    "ins_model_1.add(tf.keras.layers.Dense(1))\n",
    "#2. compiling the model\n",
    "ins_model_1.compile(loss = tf.keras.losses.mae,\n",
    "              optimizer = tf.keras.optimizers.Adam(learning_rate=0.01),\n",
    "              metrics = [\"mae\"])\n",
    "#3. fitting the model\n",
    "ins_model_1.fit(x_train , y_train , epochs=100 , verbose=1)"
   ]
  },
  {
   "cell_type": "code",
   "execution_count": 33,
   "id": "78897164",
   "metadata": {},
   "outputs": [
    {
     "name": "stdout",
     "output_type": "stream",
     "text": [
      "9/9 [==============================] - 0s 3ms/step - loss: 3435.9766 - mae: 3435.9766\n"
     ]
    },
    {
     "data": {
      "text/plain": [
       "[3435.9765625, 3435.9765625]"
      ]
     },
     "execution_count": 33,
     "metadata": {},
     "output_type": "execute_result"
    }
   ],
   "source": [
    "#4. Evaluating metrics\n",
    "ins_model_1.evaluate(x_test,y_test)"
   ]
  },
  {
   "cell_type": "code",
   "execution_count": 34,
   "id": "fc73c242",
   "metadata": {},
   "outputs": [
    {
     "data": {
      "text/plain": [
       "(13346.089736364485, 9575.4421)"
      ]
     },
     "execution_count": 34,
     "metadata": {},
     "output_type": "execute_result"
    }
   ],
   "source": [
    "y_train.mean()  ,  y_train.median() "
   ]
  },
  {
   "cell_type": "code",
   "execution_count": 40,
   "id": "6672b4dc",
   "metadata": {},
   "outputs": [
    {
     "name": "stdout",
     "output_type": "stream",
     "text": [
      "9/9 [==============================] - 0s 2ms/step\n"
     ]
    }
   ],
   "source": [
    "y1_pred = ins_model_1.predict(x_test)"
   ]
  },
  {
   "cell_type": "code",
   "execution_count": 41,
   "id": "f761474c",
   "metadata": {},
   "outputs": [],
   "source": [
    "ins_mae_1 = tf.metrics.mean_absolute_error(y_test , y1_pred)"
   ]
  },
  {
   "cell_type": "code",
   "execution_count": 46,
   "id": "d47864e7",
   "metadata": {},
   "outputs": [],
   "source": [
    "ins_mse_1 = tf.metrics.mean_squared_error(y_test , y1_pred)"
   ]
  },
  {
   "cell_type": "markdown",
   "id": "cf8a7d87",
   "metadata": {},
   "source": [
    "# improving the model"
   ]
  },
  {
   "cell_type": "code",
   "execution_count": 35,
   "id": "e22476bd",
   "metadata": {},
   "outputs": [
    {
     "name": "stdout",
     "output_type": "stream",
     "text": [
      "Epoch 1/200\n",
      "34/34 [==============================] - 2s 4ms/step - loss: 8681.9658 - mae: 8681.9658\n",
      "Epoch 2/200\n",
      "34/34 [==============================] - 0s 3ms/step - loss: 6755.2856 - mae: 6755.2856\n",
      "Epoch 3/200\n",
      "34/34 [==============================] - 0s 4ms/step - loss: 6372.6182 - mae: 6372.6182\n",
      "Epoch 4/200\n",
      "34/34 [==============================] - 0s 4ms/step - loss: 5781.1250 - mae: 5781.1250\n",
      "Epoch 5/200\n",
      "34/34 [==============================] - 0s 3ms/step - loss: 4449.2651 - mae: 4449.2651\n",
      "Epoch 6/200\n",
      "34/34 [==============================] - 0s 3ms/step - loss: 3909.4160 - mae: 3909.4160\n",
      "Epoch 7/200\n",
      "34/34 [==============================] - 0s 4ms/step - loss: 4327.3677 - mae: 4327.3677\n",
      "Epoch 8/200\n",
      "34/34 [==============================] - 0s 3ms/step - loss: 4013.0789 - mae: 4013.0789\n",
      "Epoch 9/200\n",
      "34/34 [==============================] - 0s 4ms/step - loss: 3920.2854 - mae: 3920.2854\n",
      "Epoch 10/200\n",
      "34/34 [==============================] - 0s 3ms/step - loss: 3908.3940 - mae: 3908.3940\n",
      "Epoch 11/200\n",
      "34/34 [==============================] - 0s 4ms/step - loss: 3777.4009 - mae: 3777.4009\n",
      "Epoch 12/200\n",
      "34/34 [==============================] - 0s 4ms/step - loss: 3870.5493 - mae: 3870.5493\n",
      "Epoch 13/200\n",
      "34/34 [==============================] - 0s 3ms/step - loss: 4069.4570 - mae: 4069.4570\n",
      "Epoch 14/200\n",
      "34/34 [==============================] - 0s 3ms/step - loss: 3919.3110 - mae: 3919.3110\n",
      "Epoch 15/200\n",
      "34/34 [==============================] - 0s 3ms/step - loss: 3778.9668 - mae: 3778.9668\n",
      "Epoch 16/200\n",
      "34/34 [==============================] - 0s 3ms/step - loss: 3718.7021 - mae: 3718.7021\n",
      "Epoch 17/200\n",
      "34/34 [==============================] - 0s 4ms/step - loss: 3842.5435 - mae: 3842.5435\n",
      "Epoch 18/200\n",
      "34/34 [==============================] - 0s 3ms/step - loss: 3832.9128 - mae: 3832.9128\n",
      "Epoch 19/200\n",
      "34/34 [==============================] - 0s 3ms/step - loss: 3744.8765 - mae: 3744.8765\n",
      "Epoch 20/200\n",
      "34/34 [==============================] - 0s 4ms/step - loss: 3743.2756 - mae: 3743.2756\n",
      "Epoch 21/200\n",
      "34/34 [==============================] - 0s 3ms/step - loss: 4106.4092 - mae: 4106.4092\n",
      "Epoch 22/200\n",
      "34/34 [==============================] - 0s 3ms/step - loss: 3670.8450 - mae: 3670.8450\n",
      "Epoch 23/200\n",
      "34/34 [==============================] - 0s 4ms/step - loss: 3752.8323 - mae: 3752.8323\n",
      "Epoch 24/200\n",
      "34/34 [==============================] - 0s 3ms/step - loss: 3764.9331 - mae: 3764.9331\n",
      "Epoch 25/200\n",
      "34/34 [==============================] - 0s 4ms/step - loss: 3861.1072 - mae: 3861.1072\n",
      "Epoch 26/200\n",
      "34/34 [==============================] - 0s 3ms/step - loss: 3982.7178 - mae: 3982.7178\n",
      "Epoch 27/200\n",
      "34/34 [==============================] - 0s 3ms/step - loss: 3656.4189 - mae: 3656.4189\n",
      "Epoch 28/200\n",
      "34/34 [==============================] - 0s 4ms/step - loss: 3758.9529 - mae: 3758.9529\n",
      "Epoch 29/200\n",
      "34/34 [==============================] - 0s 3ms/step - loss: 3605.6917 - mae: 3605.6917\n",
      "Epoch 30/200\n",
      "34/34 [==============================] - 0s 3ms/step - loss: 3679.6326 - mae: 3679.6326\n",
      "Epoch 31/200\n",
      "34/34 [==============================] - 0s 4ms/step - loss: 3731.7976 - mae: 3731.7976\n",
      "Epoch 32/200\n",
      "34/34 [==============================] - 0s 4ms/step - loss: 3894.4653 - mae: 3894.4653\n",
      "Epoch 33/200\n",
      "34/34 [==============================] - 0s 3ms/step - loss: 3986.5598 - mae: 3986.5598\n",
      "Epoch 34/200\n",
      "34/34 [==============================] - 0s 3ms/step - loss: 3860.9343 - mae: 3860.9343\n",
      "Epoch 35/200\n",
      "34/34 [==============================] - 0s 3ms/step - loss: 3609.9995 - mae: 3609.9995\n",
      "Epoch 36/200\n",
      "34/34 [==============================] - 0s 4ms/step - loss: 3773.3594 - mae: 3773.3594\n",
      "Epoch 37/200\n",
      "34/34 [==============================] - 0s 3ms/step - loss: 3644.3323 - mae: 3644.3323\n",
      "Epoch 38/200\n",
      "34/34 [==============================] - 0s 3ms/step - loss: 3625.6553 - mae: 3625.6553\n",
      "Epoch 39/200\n",
      "34/34 [==============================] - 0s 3ms/step - loss: 3566.8179 - mae: 3566.8179\n",
      "Epoch 40/200\n",
      "34/34 [==============================] - 0s 3ms/step - loss: 3655.9756 - mae: 3655.9756\n",
      "Epoch 41/200\n",
      "34/34 [==============================] - 0s 3ms/step - loss: 3646.6106 - mae: 3646.6106\n",
      "Epoch 42/200\n",
      "34/34 [==============================] - 0s 3ms/step - loss: 3730.2654 - mae: 3730.2654\n",
      "Epoch 43/200\n",
      "34/34 [==============================] - 0s 3ms/step - loss: 3584.0232 - mae: 3584.0232\n",
      "Epoch 44/200\n",
      "34/34 [==============================] - 0s 3ms/step - loss: 3610.1113 - mae: 3610.1113\n",
      "Epoch 45/200\n",
      "34/34 [==============================] - 0s 3ms/step - loss: 3655.0020 - mae: 3655.0020\n",
      "Epoch 46/200\n",
      "34/34 [==============================] - 0s 3ms/step - loss: 3715.7214 - mae: 3715.7214\n",
      "Epoch 47/200\n",
      "34/34 [==============================] - 0s 3ms/step - loss: 3698.3618 - mae: 3698.3618\n",
      "Epoch 48/200\n",
      "34/34 [==============================] - 0s 3ms/step - loss: 3719.1572 - mae: 3719.1572\n",
      "Epoch 49/200\n",
      "34/34 [==============================] - 0s 3ms/step - loss: 3618.1262 - mae: 3618.1262\n",
      "Epoch 50/200\n",
      "34/34 [==============================] - 0s 3ms/step - loss: 3719.8230 - mae: 3719.8230\n",
      "Epoch 51/200\n",
      "34/34 [==============================] - 0s 3ms/step - loss: 3656.8164 - mae: 3656.8164\n",
      "Epoch 52/200\n",
      "34/34 [==============================] - 0s 3ms/step - loss: 3605.2307 - mae: 3605.2307\n",
      "Epoch 53/200\n",
      "34/34 [==============================] - 0s 4ms/step - loss: 3612.6711 - mae: 3612.6711\n",
      "Epoch 54/200\n",
      "34/34 [==============================] - 0s 4ms/step - loss: 3627.0183 - mae: 3627.0183\n",
      "Epoch 55/200\n",
      "34/34 [==============================] - 0s 3ms/step - loss: 3756.8081 - mae: 3756.8081\n",
      "Epoch 56/200\n",
      "34/34 [==============================] - 0s 3ms/step - loss: 3635.5083 - mae: 3635.5083\n",
      "Epoch 57/200\n",
      "34/34 [==============================] - 0s 4ms/step - loss: 3672.6462 - mae: 3672.6462\n",
      "Epoch 58/200\n",
      "34/34 [==============================] - 0s 4ms/step - loss: 3607.5876 - mae: 3607.5876\n",
      "Epoch 59/200\n",
      "34/34 [==============================] - 0s 3ms/step - loss: 3569.9353 - mae: 3569.9353\n",
      "Epoch 60/200\n",
      "34/34 [==============================] - 0s 4ms/step - loss: 3622.4929 - mae: 3622.4929\n",
      "Epoch 61/200\n",
      "34/34 [==============================] - 0s 4ms/step - loss: 3724.0686 - mae: 3724.0686\n",
      "Epoch 62/200\n",
      "34/34 [==============================] - 0s 3ms/step - loss: 3602.5415 - mae: 3602.5415\n",
      "Epoch 63/200\n",
      "34/34 [==============================] - 0s 3ms/step - loss: 3573.8062 - mae: 3573.8062\n",
      "Epoch 64/200\n",
      "34/34 [==============================] - 0s 3ms/step - loss: 3581.2136 - mae: 3581.2136\n",
      "Epoch 65/200\n",
      "34/34 [==============================] - 0s 3ms/step - loss: 3591.2966 - mae: 3591.2966\n",
      "Epoch 66/200\n",
      "34/34 [==============================] - 0s 4ms/step - loss: 3805.6504 - mae: 3805.6504\n",
      "Epoch 67/200\n",
      "34/34 [==============================] - 0s 3ms/step - loss: 3543.0369 - mae: 3543.0369\n",
      "Epoch 68/200\n",
      "34/34 [==============================] - 0s 3ms/step - loss: 3879.4382 - mae: 3879.4382\n",
      "Epoch 69/200\n",
      "34/34 [==============================] - 0s 4ms/step - loss: 3665.6216 - mae: 3665.6216\n",
      "Epoch 70/200\n",
      "34/34 [==============================] - 0s 4ms/step - loss: 3774.2517 - mae: 3774.2517\n",
      "Epoch 71/200\n",
      "34/34 [==============================] - 0s 3ms/step - loss: 3672.2698 - mae: 3672.2698\n",
      "Epoch 72/200\n",
      "34/34 [==============================] - 0s 4ms/step - loss: 3726.2866 - mae: 3726.2866\n",
      "Epoch 73/200\n",
      "34/34 [==============================] - 0s 3ms/step - loss: 3661.7346 - mae: 3661.7346\n",
      "Epoch 74/200\n",
      "34/34 [==============================] - 0s 4ms/step - loss: 3607.1494 - mae: 3607.1494\n",
      "Epoch 75/200\n",
      "34/34 [==============================] - 0s 3ms/step - loss: 3600.0491 - mae: 3600.0491\n",
      "Epoch 76/200\n",
      "34/34 [==============================] - 0s 3ms/step - loss: 3610.3606 - mae: 3610.3606\n",
      "Epoch 77/200\n",
      "34/34 [==============================] - 0s 3ms/step - loss: 3576.1575 - mae: 3576.1575\n",
      "Epoch 78/200\n",
      "34/34 [==============================] - 0s 3ms/step - loss: 3859.7224 - mae: 3859.7224\n",
      "Epoch 79/200\n",
      "34/34 [==============================] - 0s 3ms/step - loss: 3924.1113 - mae: 3924.1113\n",
      "Epoch 80/200\n",
      "34/34 [==============================] - 0s 3ms/step - loss: 3736.1743 - mae: 3736.1743\n",
      "Epoch 81/200\n",
      "34/34 [==============================] - 0s 3ms/step - loss: 3665.9041 - mae: 3665.9043\n",
      "Epoch 82/200\n"
     ]
    },
    {
     "name": "stdout",
     "output_type": "stream",
     "text": [
      "34/34 [==============================] - 0s 4ms/step - loss: 3760.3118 - mae: 3760.3118\n",
      "Epoch 83/200\n",
      "34/34 [==============================] - 0s 3ms/step - loss: 3790.9497 - mae: 3790.9497\n",
      "Epoch 84/200\n",
      "34/34 [==============================] - 0s 3ms/step - loss: 3679.7964 - mae: 3679.7964\n",
      "Epoch 85/200\n",
      "34/34 [==============================] - 0s 3ms/step - loss: 3608.3169 - mae: 3608.3169\n",
      "Epoch 86/200\n",
      "34/34 [==============================] - 0s 3ms/step - loss: 3624.6609 - mae: 3624.6609\n",
      "Epoch 87/200\n",
      "34/34 [==============================] - 0s 4ms/step - loss: 3871.5977 - mae: 3871.5977\n",
      "Epoch 88/200\n",
      "34/34 [==============================] - 0s 3ms/step - loss: 3586.3989 - mae: 3586.3989\n",
      "Epoch 89/200\n",
      "34/34 [==============================] - 0s 3ms/step - loss: 3622.8669 - mae: 3622.8669\n",
      "Epoch 90/200\n",
      "34/34 [==============================] - 0s 3ms/step - loss: 3654.7314 - mae: 3654.7314\n",
      "Epoch 91/200\n",
      "34/34 [==============================] - 0s 4ms/step - loss: 3537.2310 - mae: 3537.2310\n",
      "Epoch 92/200\n",
      "34/34 [==============================] - 0s 4ms/step - loss: 3727.3293 - mae: 3727.3293\n",
      "Epoch 93/200\n",
      "34/34 [==============================] - 0s 3ms/step - loss: 3937.6865 - mae: 3937.6865\n",
      "Epoch 94/200\n",
      "34/34 [==============================] - 0s 4ms/step - loss: 3960.9019 - mae: 3960.9019\n",
      "Epoch 95/200\n",
      "34/34 [==============================] - 0s 4ms/step - loss: 3657.7588 - mae: 3657.7588\n",
      "Epoch 96/200\n",
      "34/34 [==============================] - 0s 4ms/step - loss: 3590.2659 - mae: 3590.2659\n",
      "Epoch 97/200\n",
      "34/34 [==============================] - 0s 4ms/step - loss: 3699.1494 - mae: 3699.1494\n",
      "Epoch 98/200\n",
      "34/34 [==============================] - 0s 3ms/step - loss: 3564.2632 - mae: 3564.2632\n",
      "Epoch 99/200\n",
      "34/34 [==============================] - 0s 4ms/step - loss: 3734.9358 - mae: 3734.9358\n",
      "Epoch 100/200\n",
      "34/34 [==============================] - 0s 4ms/step - loss: 3582.2332 - mae: 3582.2332\n",
      "Epoch 101/200\n",
      "34/34 [==============================] - 0s 4ms/step - loss: 3577.4421 - mae: 3577.4421\n",
      "Epoch 102/200\n",
      "34/34 [==============================] - 0s 4ms/step - loss: 3623.1523 - mae: 3623.1523\n",
      "Epoch 103/200\n",
      "34/34 [==============================] - 0s 4ms/step - loss: 3650.8081 - mae: 3650.8081\n",
      "Epoch 104/200\n",
      "34/34 [==============================] - 0s 3ms/step - loss: 3626.4932 - mae: 3626.4932\n",
      "Epoch 105/200\n",
      "34/34 [==============================] - 0s 3ms/step - loss: 3728.7830 - mae: 3728.7830\n",
      "Epoch 106/200\n",
      "34/34 [==============================] - 0s 3ms/step - loss: 3585.3979 - mae: 3585.3979\n",
      "Epoch 107/200\n",
      "34/34 [==============================] - 0s 4ms/step - loss: 3591.9612 - mae: 3591.9612\n",
      "Epoch 108/200\n",
      "34/34 [==============================] - 0s 3ms/step - loss: 3546.0127 - mae: 3546.0127\n",
      "Epoch 109/200\n",
      "34/34 [==============================] - 0s 3ms/step - loss: 3581.0298 - mae: 3581.0298\n",
      "Epoch 110/200\n",
      "34/34 [==============================] - 0s 3ms/step - loss: 3764.0457 - mae: 3764.0457\n",
      "Epoch 111/200\n",
      "34/34 [==============================] - 0s 3ms/step - loss: 3783.7334 - mae: 3783.7334\n",
      "Epoch 112/200\n",
      "34/34 [==============================] - 0s 3ms/step - loss: 3696.0891 - mae: 3696.0891\n",
      "Epoch 113/200\n",
      "34/34 [==============================] - 0s 3ms/step - loss: 3638.7871 - mae: 3638.7871\n",
      "Epoch 114/200\n",
      "34/34 [==============================] - 0s 3ms/step - loss: 3671.8003 - mae: 3671.8003\n",
      "Epoch 115/200\n",
      "34/34 [==============================] - 0s 3ms/step - loss: 3723.9314 - mae: 3723.9314\n",
      "Epoch 116/200\n",
      "34/34 [==============================] - 0s 4ms/step - loss: 3620.0000 - mae: 3620.0000\n",
      "Epoch 117/200\n",
      "34/34 [==============================] - 0s 4ms/step - loss: 3687.4473 - mae: 3687.4473\n",
      "Epoch 118/200\n",
      "34/34 [==============================] - 0s 4ms/step - loss: 3529.3979 - mae: 3529.3979\n",
      "Epoch 119/200\n",
      "34/34 [==============================] - 0s 3ms/step - loss: 3581.0999 - mae: 3581.0999\n",
      "Epoch 120/200\n",
      "34/34 [==============================] - 0s 3ms/step - loss: 3670.6641 - mae: 3670.6641\n",
      "Epoch 121/200\n",
      "34/34 [==============================] - 0s 4ms/step - loss: 3657.0537 - mae: 3657.0537\n",
      "Epoch 122/200\n",
      "34/34 [==============================] - 0s 3ms/step - loss: 3536.4934 - mae: 3536.4934\n",
      "Epoch 123/200\n",
      "34/34 [==============================] - 0s 3ms/step - loss: 3577.0825 - mae: 3577.0825\n",
      "Epoch 124/200\n",
      "34/34 [==============================] - 0s 3ms/step - loss: 3554.3130 - mae: 3554.3130\n",
      "Epoch 125/200\n",
      "34/34 [==============================] - 0s 3ms/step - loss: 3563.6099 - mae: 3563.6099\n",
      "Epoch 126/200\n",
      "34/34 [==============================] - 0s 3ms/step - loss: 3679.0244 - mae: 3679.0244\n",
      "Epoch 127/200\n",
      "34/34 [==============================] - 0s 3ms/step - loss: 3618.8279 - mae: 3618.8279\n",
      "Epoch 128/200\n",
      "34/34 [==============================] - 0s 3ms/step - loss: 3708.2935 - mae: 3708.2935\n",
      "Epoch 129/200\n",
      "34/34 [==============================] - 0s 4ms/step - loss: 3645.1375 - mae: 3645.1375\n",
      "Epoch 130/200\n",
      "34/34 [==============================] - 0s 3ms/step - loss: 3597.4099 - mae: 3597.4099\n",
      "Epoch 131/200\n",
      "34/34 [==============================] - 0s 4ms/step - loss: 3562.2300 - mae: 3562.2300\n",
      "Epoch 132/200\n",
      "34/34 [==============================] - 0s 4ms/step - loss: 3767.0076 - mae: 3767.0076\n",
      "Epoch 133/200\n",
      "34/34 [==============================] - 0s 3ms/step - loss: 3629.0078 - mae: 3629.0078\n",
      "Epoch 134/200\n",
      "34/34 [==============================] - 0s 3ms/step - loss: 3611.8513 - mae: 3611.8513\n",
      "Epoch 135/200\n",
      "34/34 [==============================] - 0s 3ms/step - loss: 3551.3022 - mae: 3551.3022\n",
      "Epoch 136/200\n",
      "34/34 [==============================] - 0s 3ms/step - loss: 3561.8103 - mae: 3561.8103\n",
      "Epoch 137/200\n",
      "34/34 [==============================] - 0s 3ms/step - loss: 3822.7656 - mae: 3822.7656\n",
      "Epoch 138/200\n",
      "34/34 [==============================] - 0s 3ms/step - loss: 3867.9172 - mae: 3867.9172\n",
      "Epoch 139/200\n",
      "34/34 [==============================] - 0s 3ms/step - loss: 3750.1335 - mae: 3750.1335\n",
      "Epoch 140/200\n",
      "34/34 [==============================] - 0s 3ms/step - loss: 3609.5305 - mae: 3609.5305\n",
      "Epoch 141/200\n",
      "34/34 [==============================] - 0s 3ms/step - loss: 3653.1470 - mae: 3653.1470\n",
      "Epoch 142/200\n",
      "34/34 [==============================] - 0s 3ms/step - loss: 3698.4556 - mae: 3698.4556\n",
      "Epoch 143/200\n",
      "34/34 [==============================] - 0s 3ms/step - loss: 3626.6426 - mae: 3626.6426\n",
      "Epoch 144/200\n",
      "34/34 [==============================] - 0s 3ms/step - loss: 3605.8479 - mae: 3605.8479\n",
      "Epoch 145/200\n",
      "34/34 [==============================] - 0s 3ms/step - loss: 3701.0818 - mae: 3701.0818\n",
      "Epoch 146/200\n",
      "34/34 [==============================] - 0s 3ms/step - loss: 3729.3362 - mae: 3729.3362\n",
      "Epoch 147/200\n",
      "34/34 [==============================] - 0s 3ms/step - loss: 3679.2126 - mae: 3679.2126\n",
      "Epoch 148/200\n",
      "34/34 [==============================] - 0s 3ms/step - loss: 3619.4585 - mae: 3619.4585\n",
      "Epoch 149/200\n",
      "34/34 [==============================] - 0s 3ms/step - loss: 3606.9971 - mae: 3606.9971\n",
      "Epoch 150/200\n",
      "34/34 [==============================] - 0s 3ms/step - loss: 3536.1753 - mae: 3536.1753\n",
      "Epoch 151/200\n",
      "34/34 [==============================] - 0s 3ms/step - loss: 3556.5688 - mae: 3556.5688\n",
      "Epoch 152/200\n",
      "34/34 [==============================] - 0s 3ms/step - loss: 3590.7424 - mae: 3590.7424\n",
      "Epoch 153/200\n",
      "34/34 [==============================] - 0s 4ms/step - loss: 3659.0842 - mae: 3659.0842\n",
      "Epoch 154/200\n",
      "34/34 [==============================] - 0s 4ms/step - loss: 3799.2627 - mae: 3799.2627\n",
      "Epoch 155/200\n",
      "34/34 [==============================] - 0s 3ms/step - loss: 3616.7454 - mae: 3616.7454\n",
      "Epoch 156/200\n",
      "34/34 [==============================] - 0s 4ms/step - loss: 3631.6230 - mae: 3631.6230\n",
      "Epoch 157/200\n",
      "34/34 [==============================] - 0s 4ms/step - loss: 3560.0815 - mae: 3560.0815\n",
      "Epoch 158/200\n",
      "34/34 [==============================] - 0s 4ms/step - loss: 3572.8538 - mae: 3572.8538\n",
      "Epoch 159/200\n",
      "34/34 [==============================] - 0s 4ms/step - loss: 3524.7363 - mae: 3524.7363\n",
      "Epoch 160/200\n",
      "34/34 [==============================] - 0s 4ms/step - loss: 3636.9041 - mae: 3636.9041\n",
      "Epoch 161/200\n",
      "34/34 [==============================] - 0s 4ms/step - loss: 3530.8767 - mae: 3530.8767\n",
      "Epoch 162/200\n"
     ]
    },
    {
     "name": "stdout",
     "output_type": "stream",
     "text": [
      "34/34 [==============================] - 0s 4ms/step - loss: 3582.4634 - mae: 3582.4634\n",
      "Epoch 163/200\n",
      "34/34 [==============================] - 0s 3ms/step - loss: 3655.5237 - mae: 3655.5237\n",
      "Epoch 164/200\n",
      "34/34 [==============================] - 0s 3ms/step - loss: 3599.8501 - mae: 3599.8501\n",
      "Epoch 165/200\n",
      "34/34 [==============================] - 0s 4ms/step - loss: 3601.8459 - mae: 3601.8459\n",
      "Epoch 166/200\n",
      "34/34 [==============================] - 0s 3ms/step - loss: 3571.0303 - mae: 3571.0303\n",
      "Epoch 167/200\n",
      "34/34 [==============================] - 0s 3ms/step - loss: 3641.5886 - mae: 3641.5886\n",
      "Epoch 168/200\n",
      "34/34 [==============================] - 0s 3ms/step - loss: 3599.6238 - mae: 3599.6238\n",
      "Epoch 169/200\n",
      "34/34 [==============================] - 0s 3ms/step - loss: 3764.2388 - mae: 3764.2388\n",
      "Epoch 170/200\n",
      "34/34 [==============================] - 0s 3ms/step - loss: 3650.9109 - mae: 3650.9109\n",
      "Epoch 171/200\n",
      "34/34 [==============================] - 0s 4ms/step - loss: 3637.8792 - mae: 3637.8792\n",
      "Epoch 172/200\n",
      "34/34 [==============================] - 0s 3ms/step - loss: 3574.6079 - mae: 3574.6079\n",
      "Epoch 173/200\n",
      "34/34 [==============================] - 0s 3ms/step - loss: 3590.7744 - mae: 3590.7744\n",
      "Epoch 174/200\n",
      "34/34 [==============================] - 0s 3ms/step - loss: 3562.4497 - mae: 3562.4497\n",
      "Epoch 175/200\n",
      "34/34 [==============================] - 0s 3ms/step - loss: 3608.5938 - mae: 3608.5938\n",
      "Epoch 176/200\n",
      "34/34 [==============================] - 0s 3ms/step - loss: 3558.9722 - mae: 3558.9722\n",
      "Epoch 177/200\n",
      "34/34 [==============================] - 0s 3ms/step - loss: 3606.1177 - mae: 3606.1177\n",
      "Epoch 178/200\n",
      "34/34 [==============================] - 0s 3ms/step - loss: 3580.7512 - mae: 3580.7512\n",
      "Epoch 179/200\n",
      "34/34 [==============================] - 0s 3ms/step - loss: 3658.1372 - mae: 3658.1372\n",
      "Epoch 180/200\n",
      "34/34 [==============================] - 0s 3ms/step - loss: 3633.1296 - mae: 3633.1296\n",
      "Epoch 181/200\n",
      "34/34 [==============================] - 0s 3ms/step - loss: 3657.6709 - mae: 3657.6709\n",
      "Epoch 182/200\n",
      "34/34 [==============================] - 0s 3ms/step - loss: 3618.9907 - mae: 3618.9907\n",
      "Epoch 183/200\n",
      "34/34 [==============================] - 0s 4ms/step - loss: 3741.5647 - mae: 3741.5647\n",
      "Epoch 184/200\n",
      "34/34 [==============================] - 0s 3ms/step - loss: 3632.2576 - mae: 3632.2576\n",
      "Epoch 185/200\n",
      "34/34 [==============================] - 0s 3ms/step - loss: 3553.2944 - mae: 3553.2944\n",
      "Epoch 186/200\n",
      "34/34 [==============================] - 0s 3ms/step - loss: 3670.2849 - mae: 3670.2849\n",
      "Epoch 187/200\n",
      "34/34 [==============================] - 0s 4ms/step - loss: 3696.3496 - mae: 3696.3496\n",
      "Epoch 188/200\n",
      "34/34 [==============================] - 0s 4ms/step - loss: 3626.8894 - mae: 3626.8894\n",
      "Epoch 189/200\n",
      "34/34 [==============================] - 0s 4ms/step - loss: 3624.8025 - mae: 3624.8025\n",
      "Epoch 190/200\n",
      "34/34 [==============================] - 0s 3ms/step - loss: 3619.6836 - mae: 3619.6836\n",
      "Epoch 191/200\n",
      "34/34 [==============================] - 0s 4ms/step - loss: 3685.8040 - mae: 3685.8040\n",
      "Epoch 192/200\n",
      "34/34 [==============================] - 0s 3ms/step - loss: 3637.8340 - mae: 3637.8340\n",
      "Epoch 193/200\n",
      "34/34 [==============================] - 0s 4ms/step - loss: 3601.6934 - mae: 3601.6934\n",
      "Epoch 194/200\n",
      "34/34 [==============================] - 0s 3ms/step - loss: 3581.8293 - mae: 3581.8293\n",
      "Epoch 195/200\n",
      "34/34 [==============================] - 0s 4ms/step - loss: 3718.0662 - mae: 3718.0662\n",
      "Epoch 196/200\n",
      "34/34 [==============================] - 0s 4ms/step - loss: 3708.4128 - mae: 3708.4128\n",
      "Epoch 197/200\n",
      "34/34 [==============================] - 0s 3ms/step - loss: 3635.3394 - mae: 3635.3394\n",
      "Epoch 198/200\n",
      "34/34 [==============================] - 0s 3ms/step - loss: 3836.0825 - mae: 3836.0825\n",
      "Epoch 199/200\n",
      "34/34 [==============================] - 0s 4ms/step - loss: 3657.9873 - mae: 3657.9873\n",
      "Epoch 200/200\n",
      "34/34 [==============================] - 0s 4ms/step - loss: 3582.7222 - mae: 3582.7222\n"
     ]
    }
   ],
   "source": [
    "tf.random.set_seed(42)\n",
    "#1. creating a model\n",
    "ins_model_2 = tf.keras.Sequential()\n",
    "ins_model_2.add(tf.keras.layers.Dense(100)),\n",
    "ins_model_2.add(tf.keras.layers.Dense(100)),\n",
    "ins_model_2.add(tf.keras.layers.Dense(100)),\n",
    "ins_model_2.add(tf.keras.layers.Dense(1))\n",
    "#2. compiling the model\n",
    "ins_model_2.compile(loss = tf.keras.losses.mae,\n",
    "              optimizer = tf.keras.optimizers.Adam(learning_rate=0.01),\n",
    "              metrics = [\"mae\"])\n",
    "#3. fitting the model\n",
    "history = ins_model_2.fit(x_train , y_train , epochs=200 , verbose=1)"
   ]
  },
  {
   "cell_type": "code",
   "execution_count": 36,
   "id": "57ab96a5",
   "metadata": {},
   "outputs": [
    {
     "name": "stdout",
     "output_type": "stream",
     "text": [
      "9/9 [==============================] - 0s 2ms/step - loss: 3275.3867 - mae: 3275.3867\n"
     ]
    },
    {
     "data": {
      "text/plain": [
       "[3275.38671875, 3275.38671875]"
      ]
     },
     "execution_count": 36,
     "metadata": {},
     "output_type": "execute_result"
    }
   ],
   "source": [
    "#Evaluate the model\n",
    "ins_model_2.evaluate(x_test , y_test)"
   ]
  },
  {
   "cell_type": "code",
   "execution_count": 42,
   "id": "08a865df",
   "metadata": {},
   "outputs": [
    {
     "name": "stdout",
     "output_type": "stream",
     "text": [
      "9/9 [==============================] - 0s 3ms/step - loss: 3275.3867 - mae: 3275.3867\n"
     ]
    },
    {
     "data": {
      "text/plain": [
       "[3275.38671875, 3275.38671875]"
      ]
     },
     "execution_count": 42,
     "metadata": {},
     "output_type": "execute_result"
    }
   ],
   "source": [
    "ins_model_2.evaluate(x_test , y_test)"
   ]
  },
  {
   "cell_type": "code",
   "execution_count": 43,
   "id": "e065dc95",
   "metadata": {},
   "outputs": [
    {
     "name": "stdout",
     "output_type": "stream",
     "text": [
      "9/9 [==============================] - 0s 2ms/step\n"
     ]
    }
   ],
   "source": [
    "y2_pred = ins_model_2.predict(x_test)"
   ]
  },
  {
   "cell_type": "code",
   "execution_count": 47,
   "id": "b4e587f8",
   "metadata": {},
   "outputs": [],
   "source": [
    "ins_mae_2 = tf.metrics.mean_absolute_error(y_test , y2_pred) "
   ]
  },
  {
   "cell_type": "code",
   "execution_count": 48,
   "id": "ab055e17",
   "metadata": {},
   "outputs": [],
   "source": [
    "ins_mse_2 = tf.metrics.mean_squared_error(y_test , y2_pred)"
   ]
  },
  {
   "cell_type": "code",
   "execution_count": 38,
   "id": "d5e49b1a",
   "metadata": {},
   "outputs": [
    {
     "data": {
      "text/plain": [
       "Text(0.5, 0, 'epochs')"
      ]
     },
     "execution_count": 38,
     "metadata": {},
     "output_type": "execute_result"
    },
    {
     "data": {
      "image/png": "[encoded data removed]",
      "text/plain": [
       "<Figure size 640x480 with 1 Axes>"
      ]
     },
     "metadata": {},
     "output_type": "display_data"
    }
   ],
   "source": [
    "#plot history (also known as a loss curve or a training curve)\n",
    "pd.DataFrame(history.history).plot()\n",
    "plt.ylabel(\"loss\")\n",
    "plt.xlabel(\"epochs\")"
   ]
  },
  {
   "cell_type": "markdown",
   "id": "7de4f04a",
   "metadata": {},
   "source": [
    "# How long should you train for?\n",
    "\n",
    "It depends on the problem you're working on. However, many people have asked this solution!. Its called the EarlyStopping callback. which is a TensorFlow component you can add to your model after improving a certain metric.\n",
    "\n",
    "Ref : https://www.tensorflow.org/api_docs/python/tf/keras/callbacks/EarlyStopping"
   ]
  },
  {
   "cell_type": "markdown",
   "id": "cc5431f3",
   "metadata": {},
   "source": [
    "# Preprocessing data(normalization and standardization)"
   ]
  },
  {
   "cell_type": "code",
   "execution_count": 3,
   "id": "b5fdcc4e",
   "metadata": {},
   "outputs": [],
   "source": [
    "import tensorflow as tf\n",
    "\n",
    "import matplotlib.pyplot as plt\n",
    "import pandas as pd \n",
    "import numpy as np"
   ]
  },
  {
   "cell_type": "code",
   "execution_count": 4,
   "id": "232000e0",
   "metadata": {},
   "outputs": [
    {
     "data": {
      "text/html": [
       "<div>\n",
       "<style scoped>\n",
       "    .dataframe tbody tr th:only-of-type {\n",
       "        vertical-align: middle;\n",
       "    }\n",
       "\n",
       "    .dataframe tbody tr th {\n",
       "        vertical-align: top;\n",
       "    }\n",
       "\n",
       "    .dataframe thead th {\n",
       "        text-align: right;\n",
       "    }\n",
       "</style>\n",
       "<table border=\"1\" class=\"dataframe\">\n",
       "  <thead>\n",
       "    <tr style=\"text-align: right;\">\n",
       "      <th></th>\n",
       "      <th>age</th>\n",
       "      <th>sex</th>\n",
       "      <th>bmi</th>\n",
       "      <th>children</th>\n",
       "      <th>smoker</th>\n",
       "      <th>region</th>\n",
       "      <th>charges</th>\n",
       "    </tr>\n",
       "  </thead>\n",
       "  <tbody>\n",
       "    <tr>\n",
       "      <th>0</th>\n",
       "      <td>19</td>\n",
       "      <td>female</td>\n",
       "      <td>27.90</td>\n",
       "      <td>0</td>\n",
       "      <td>yes</td>\n",
       "      <td>southwest</td>\n",
       "      <td>16884.9240</td>\n",
       "    </tr>\n",
       "    <tr>\n",
       "      <th>1</th>\n",
       "      <td>18</td>\n",
       "      <td>male</td>\n",
       "      <td>33.77</td>\n",
       "      <td>1</td>\n",
       "      <td>no</td>\n",
       "      <td>southeast</td>\n",
       "      <td>1725.5523</td>\n",
       "    </tr>\n",
       "  </tbody>\n",
       "</table>\n",
       "</div>"
      ],
      "text/plain": [
       "   age     sex    bmi  children smoker     region     charges\n",
       "0   19  female  27.90         0    yes  southwest  16884.9240\n",
       "1   18    male  33.77         1     no  southeast   1725.5523"
      ]
     },
     "execution_count": 4,
     "metadata": {},
     "output_type": "execute_result"
    }
   ],
   "source": [
    "data = pd.read_csv(\"data/insurance.csv\")\n",
    "data.head(2)"
   ]
  },
  {
   "cell_type": "code",
   "execution_count": 9,
   "id": "d4998096",
   "metadata": {},
   "outputs": [],
   "source": [
    "from sklearn.compose import make_column_transformer\n",
    "from sklearn.preprocessing import MinMaxScaler,OneHotEncoder\n",
    "from sklearn.model_selection import train_test_split"
   ]
  },
  {
   "cell_type": "code",
   "execution_count": 50,
   "id": "2652c1fe",
   "metadata": {},
   "outputs": [
    {
     "ename": "AttributeError",
     "evalue": "drop not found",
     "output_type": "error",
     "traceback": [
      "\u001b[1;31m---------------------------------------------------------------------------\u001b[0m",
      "\u001b[1;31mAttributeError\u001b[0m                            Traceback (most recent call last)",
      "Cell \u001b[1;32mIn[50], line 9\u001b[0m\n\u001b[0;32m      3\u001b[0m ct \u001b[38;5;241m=\u001b[39m make_column_transformer(\n\u001b[0;32m      4\u001b[0m          (MinMaxScaler(),[\u001b[38;5;124m\"\u001b[39m\u001b[38;5;124mage\u001b[39m\u001b[38;5;124m\"\u001b[39m , \u001b[38;5;124m\"\u001b[39m\u001b[38;5;124mbmi\u001b[39m\u001b[38;5;124m\"\u001b[39m , \u001b[38;5;124m\"\u001b[39m\u001b[38;5;124mchildren\u001b[39m\u001b[38;5;124m\"\u001b[39m]),\n\u001b[0;32m      5\u001b[0m          (OneHotEncoder(handle_unknown\u001b[38;5;241m=\u001b[39m\u001b[38;5;124m\"\u001b[39m\u001b[38;5;124mignore\u001b[39m\u001b[38;5;124m\"\u001b[39m) , [\u001b[38;5;124m\"\u001b[39m\u001b[38;5;124msex\u001b[39m\u001b[38;5;124m\"\u001b[39m , \u001b[38;5;124m\"\u001b[39m\u001b[38;5;124msmoker\u001b[39m\u001b[38;5;124m\"\u001b[39m , \u001b[38;5;124m\"\u001b[39m\u001b[38;5;124mregion\u001b[39m\u001b[38;5;124m\"\u001b[39m])\n\u001b[0;32m      6\u001b[0m )\n\u001b[0;32m      8\u001b[0m \u001b[38;5;66;03m# Building  X &  Y\u001b[39;00m\n\u001b[1;32m----> 9\u001b[0m X \u001b[38;5;241m=\u001b[39m \u001b[43mdata\u001b[49m\u001b[38;5;241;43m.\u001b[39;49m\u001b[43mdrop\u001b[49m(\u001b[38;5;124m\"\u001b[39m\u001b[38;5;124mcharges\u001b[39m\u001b[38;5;124m\"\u001b[39m , axis\u001b[38;5;241m=\u001b[39m\u001b[38;5;241m1\u001b[39m)\n\u001b[0;32m     10\u001b[0m Y \u001b[38;5;241m=\u001b[39m data[\u001b[38;5;124m\"\u001b[39m\u001b[38;5;124mcharges\u001b[39m\u001b[38;5;124m\"\u001b[39m]\n\u001b[0;32m     12\u001b[0m \u001b[38;5;66;03m# create train ,test sets\u001b[39;00m\n",
      "File \u001b[1;32mC:\\miniconda3\\envs\\dl_practice\\Lib\\site-packages\\scipy\\sparse\\_base.py:771\u001b[0m, in \u001b[0;36mspmatrix.__getattr__\u001b[1;34m(self, attr)\u001b[0m\n\u001b[0;32m    769\u001b[0m     \u001b[38;5;28;01mreturn\u001b[39;00m \u001b[38;5;28mself\u001b[39m\u001b[38;5;241m.\u001b[39mgetnnz()\n\u001b[0;32m    770\u001b[0m \u001b[38;5;28;01melse\u001b[39;00m:\n\u001b[1;32m--> 771\u001b[0m     \u001b[38;5;28;01mraise\u001b[39;00m \u001b[38;5;167;01mAttributeError\u001b[39;00m(attr \u001b[38;5;241m+\u001b[39m \u001b[38;5;124m\"\u001b[39m\u001b[38;5;124m not found\u001b[39m\u001b[38;5;124m\"\u001b[39m)\n",
      "\u001b[1;31mAttributeError\u001b[0m: drop not found"
     ]
    }
   ],
   "source": [
    "#create a column transformer\n",
    "\n",
    "ct = make_column_transformer(\n",
    "         (MinMaxScaler(),[\"age\" , \"bmi\" , \"children\"]),\n",
    "         (OneHotEncoder(handle_unknown=\"ignore\") , [\"sex\" , \"smoker\" , \"region\"])\n",
    ")\n",
    "\n",
    "# Building  X &  Y\n",
    "X = data.drop(\"charges\" , axis=1)\n",
    "Y = data[\"charges\"]\n",
    "\n",
    "# create train ,test sets\n",
    "x_train_org , x_test_org , y_train_org , y_test_org = train_test_split(X , Y , test_size=0.2 , random_state=42)\n",
    "\n",
    "#fit the column transformer to the train data\n",
    "ct.fit(x_train_org)\n",
    "\n",
    "#Transform training & test data with normalization (MinMaxScaler) and OneHotEncoder\n",
    "x_train_norm = ct.transform(x_train_org)\n",
    "x_test_norm = ct.transform(x_test_org)\n"
   ]
  },
  {
   "cell_type": "code",
   "execution_count": 12,
   "id": "47cec89e",
   "metadata": {},
   "outputs": [
    {
     "data": {
      "text/plain": [
       "age                19\n",
       "sex            female\n",
       "bmi              27.9\n",
       "children            0\n",
       "smoker            yes\n",
       "region      southwest\n",
       "Name: 0, dtype: object"
      ]
     },
     "execution_count": 12,
     "metadata": {},
     "output_type": "execute_result"
    }
   ],
   "source": [
    "#what does our data look like now?\n",
    "x_train.loc[0] \n"
   ]
  },
  {
   "cell_type": "code",
   "execution_count": 14,
   "id": "3126a033",
   "metadata": {},
   "outputs": [
    {
     "data": {
      "text/plain": [
       "array([0.58695652, 0.24791499, 0.4       , 1.        , 0.        ,\n",
       "       1.        , 0.        , 1.        , 0.        , 0.        ,\n",
       "       0.        ])"
      ]
     },
     "execution_count": 14,
     "metadata": {},
     "output_type": "execute_result"
    }
   ],
   "source": [
    "x_test_norm[0] "
   ]
  },
  {
   "cell_type": "code",
   "execution_count": 16,
   "id": "2ef63419",
   "metadata": {},
   "outputs": [
    {
     "data": {
      "text/plain": [
       "((1070, 6), (1070, 11))"
      ]
     },
     "execution_count": 16,
     "metadata": {},
     "output_type": "execute_result"
    }
   ],
   "source": [
    "x_train.shape   ,  x_train_norm.shape"
   ]
  },
  {
   "cell_type": "code",
   "execution_count": 22,
   "id": "f0ba307e",
   "metadata": {},
   "outputs": [
    {
     "name": "stdout",
     "output_type": "stream",
     "text": [
      "Epoch 1/150\n",
      "34/34 [==============================] - 1s 3ms/step - loss: 13019.3613 - mae: 13019.3613\n",
      "Epoch 2/150\n",
      "34/34 [==============================] - 0s 3ms/step - loss: 9040.9600 - mae: 9040.9600\n",
      "Epoch 3/150\n",
      "34/34 [==============================] - 0s 4ms/step - loss: 7571.7412 - mae: 7571.7412\n",
      "Epoch 4/150\n",
      "34/34 [==============================] - 0s 4ms/step - loss: 6613.2109 - mae: 6613.2109\n",
      "Epoch 5/150\n",
      "34/34 [==============================] - 0s 4ms/step - loss: 5161.0142 - mae: 5161.0142\n",
      "Epoch 6/150\n",
      "34/34 [==============================] - 0s 4ms/step - loss: 3949.8174 - mae: 3949.8174\n",
      "Epoch 7/150\n",
      "34/34 [==============================] - 0s 4ms/step - loss: 3579.4600 - mae: 3579.4600\n",
      "Epoch 8/150\n",
      "34/34 [==============================] - 0s 3ms/step - loss: 3454.6792 - mae: 3454.6792\n",
      "Epoch 9/150\n",
      "34/34 [==============================] - 0s 3ms/step - loss: 3372.6328 - mae: 3372.6328\n",
      "Epoch 10/150\n",
      "34/34 [==============================] - 0s 3ms/step - loss: 3307.7949 - mae: 3307.7949\n",
      "Epoch 11/150\n",
      "34/34 [==============================] - 0s 4ms/step - loss: 3253.6404 - mae: 3253.6404\n",
      "Epoch 12/150\n",
      "34/34 [==============================] - 0s 4ms/step - loss: 3234.6707 - mae: 3234.6707\n",
      "Epoch 13/150\n",
      "34/34 [==============================] - 0s 4ms/step - loss: 3219.5881 - mae: 3219.5881\n",
      "Epoch 14/150\n",
      "34/34 [==============================] - 0s 3ms/step - loss: 3220.7561 - mae: 3220.7561\n",
      "Epoch 15/150\n",
      "34/34 [==============================] - 0s 3ms/step - loss: 3216.4590 - mae: 3216.4590\n",
      "Epoch 16/150\n",
      "34/34 [==============================] - 0s 3ms/step - loss: 3217.1875 - mae: 3217.1875\n",
      "Epoch 17/150\n",
      "34/34 [==============================] - 0s 3ms/step - loss: 3207.5186 - mae: 3207.5186\n",
      "Epoch 18/150\n",
      "34/34 [==============================] - 0s 3ms/step - loss: 3197.7126 - mae: 3197.7126\n",
      "Epoch 19/150\n",
      "34/34 [==============================] - 0s 4ms/step - loss: 3180.7742 - mae: 3180.7742\n",
      "Epoch 20/150\n",
      "34/34 [==============================] - 0s 3ms/step - loss: 3200.2524 - mae: 3200.2524\n",
      "Epoch 21/150\n",
      "34/34 [==============================] - 0s 3ms/step - loss: 3175.0093 - mae: 3175.0093\n",
      "Epoch 22/150\n",
      "34/34 [==============================] - 0s 3ms/step - loss: 3168.1418 - mae: 3168.1418\n",
      "Epoch 23/150\n",
      "34/34 [==============================] - 0s 3ms/step - loss: 3165.6704 - mae: 3165.6704\n",
      "Epoch 24/150\n",
      "34/34 [==============================] - 0s 3ms/step - loss: 3146.5959 - mae: 3146.5959\n",
      "Epoch 25/150\n",
      "34/34 [==============================] - 0s 3ms/step - loss: 3178.4414 - mae: 3178.4414\n",
      "Epoch 26/150\n",
      "34/34 [==============================] - 0s 3ms/step - loss: 3118.2075 - mae: 3118.2075\n",
      "Epoch 27/150\n",
      "34/34 [==============================] - 0s 3ms/step - loss: 3122.3313 - mae: 3122.3313\n",
      "Epoch 28/150\n",
      "34/34 [==============================] - 0s 3ms/step - loss: 3077.4485 - mae: 3077.4485\n",
      "Epoch 29/150\n",
      "34/34 [==============================] - 0s 3ms/step - loss: 3070.4375 - mae: 3070.4375\n",
      "Epoch 30/150\n",
      "34/34 [==============================] - 0s 3ms/step - loss: 3038.8071 - mae: 3038.8071\n",
      "Epoch 31/150\n",
      "34/34 [==============================] - 0s 3ms/step - loss: 3024.2961 - mae: 3024.2961\n",
      "Epoch 32/150\n",
      "34/34 [==============================] - 0s 3ms/step - loss: 2997.4485 - mae: 2997.4485\n",
      "Epoch 33/150\n",
      "34/34 [==============================] - 0s 3ms/step - loss: 2973.6760 - mae: 2973.6760\n",
      "Epoch 34/150\n",
      "34/34 [==============================] - 0s 3ms/step - loss: 2959.7080 - mae: 2959.7080\n",
      "Epoch 35/150\n",
      "34/34 [==============================] - 0s 3ms/step - loss: 2939.0103 - mae: 2939.0103\n",
      "Epoch 36/150\n",
      "34/34 [==============================] - 0s 3ms/step - loss: 2899.9832 - mae: 2899.9832\n",
      "Epoch 37/150\n",
      "34/34 [==============================] - 0s 3ms/step - loss: 2870.1443 - mae: 2870.1443\n",
      "Epoch 38/150\n",
      "34/34 [==============================] - 0s 3ms/step - loss: 2844.2979 - mae: 2844.2979\n",
      "Epoch 39/150\n",
      "34/34 [==============================] - 0s 3ms/step - loss: 2805.5491 - mae: 2805.5491\n",
      "Epoch 40/150\n",
      "34/34 [==============================] - 0s 3ms/step - loss: 2790.9067 - mae: 2790.9067\n",
      "Epoch 41/150\n",
      "34/34 [==============================] - 0s 3ms/step - loss: 2787.1152 - mae: 2787.1152\n",
      "Epoch 42/150\n",
      "34/34 [==============================] - 0s 3ms/step - loss: 2730.4412 - mae: 2730.4412\n",
      "Epoch 43/150\n",
      "34/34 [==============================] - 0s 3ms/step - loss: 2688.0222 - mae: 2688.0222\n",
      "Epoch 44/150\n",
      "34/34 [==============================] - 0s 3ms/step - loss: 2648.4331 - mae: 2648.4331\n",
      "Epoch 45/150\n",
      "34/34 [==============================] - 0s 3ms/step - loss: 2613.6360 - mae: 2613.6360\n",
      "Epoch 46/150\n",
      "34/34 [==============================] - 0s 3ms/step - loss: 2592.2988 - mae: 2592.2988\n",
      "Epoch 47/150\n",
      "34/34 [==============================] - 0s 3ms/step - loss: 2547.7908 - mae: 2547.7908\n",
      "Epoch 48/150\n",
      "34/34 [==============================] - 0s 3ms/step - loss: 2507.7771 - mae: 2507.7771\n",
      "Epoch 49/150\n",
      "34/34 [==============================] - 0s 3ms/step - loss: 2485.0840 - mae: 2485.0840\n",
      "Epoch 50/150\n",
      "34/34 [==============================] - 0s 3ms/step - loss: 2440.5708 - mae: 2440.5708\n",
      "Epoch 51/150\n",
      "34/34 [==============================] - 0s 3ms/step - loss: 2410.9724 - mae: 2410.9724\n",
      "Epoch 52/150\n",
      "34/34 [==============================] - 0s 3ms/step - loss: 2404.4009 - mae: 2404.4009\n",
      "Epoch 53/150\n",
      "34/34 [==============================] - 0s 3ms/step - loss: 2352.4922 - mae: 2352.4922\n",
      "Epoch 54/150\n",
      "34/34 [==============================] - 0s 3ms/step - loss: 2330.3499 - mae: 2330.3499\n",
      "Epoch 55/150\n",
      "34/34 [==============================] - 0s 3ms/step - loss: 2337.3181 - mae: 2337.3181\n",
      "Epoch 56/150\n",
      "34/34 [==============================] - 0s 3ms/step - loss: 2294.9734 - mae: 2294.9734\n",
      "Epoch 57/150\n",
      "34/34 [==============================] - 0s 3ms/step - loss: 2257.1416 - mae: 2257.1416\n",
      "Epoch 58/150\n",
      "34/34 [==============================] - 0s 3ms/step - loss: 2235.8066 - mae: 2235.8066\n",
      "Epoch 59/150\n",
      "34/34 [==============================] - 0s 3ms/step - loss: 2219.6423 - mae: 2219.6423\n",
      "Epoch 60/150\n",
      "34/34 [==============================] - 0s 3ms/step - loss: 2207.1904 - mae: 2207.1904\n",
      "Epoch 61/150\n",
      "34/34 [==============================] - 0s 3ms/step - loss: 2189.0854 - mae: 2189.0854\n",
      "Epoch 62/150\n",
      "34/34 [==============================] - 0s 3ms/step - loss: 2168.6721 - mae: 2168.6721\n",
      "Epoch 63/150\n",
      "34/34 [==============================] - 0s 3ms/step - loss: 2144.0635 - mae: 2144.0635\n",
      "Epoch 64/150\n",
      "34/34 [==============================] - 0s 3ms/step - loss: 2129.0322 - mae: 2129.0322\n",
      "Epoch 65/150\n",
      "34/34 [==============================] - 0s 3ms/step - loss: 2114.0823 - mae: 2114.0823\n",
      "Epoch 66/150\n",
      "34/34 [==============================] - 0s 3ms/step - loss: 2113.3359 - mae: 2113.3359\n",
      "Epoch 67/150\n",
      "34/34 [==============================] - 0s 3ms/step - loss: 2106.8210 - mae: 2106.8210\n",
      "Epoch 68/150\n",
      "34/34 [==============================] - 0s 3ms/step - loss: 2123.3281 - mae: 2123.3281\n",
      "Epoch 69/150\n",
      "34/34 [==============================] - 0s 3ms/step - loss: 2063.6150 - mae: 2063.6150\n",
      "Epoch 70/150\n",
      "34/34 [==============================] - 0s 3ms/step - loss: 2061.9646 - mae: 2061.9646\n",
      "Epoch 71/150\n",
      "34/34 [==============================] - 0s 3ms/step - loss: 2046.3119 - mae: 2046.3119\n",
      "Epoch 72/150\n",
      "34/34 [==============================] - 0s 4ms/step - loss: 2041.5605 - mae: 2041.5605\n",
      "Epoch 73/150\n",
      "34/34 [==============================] - 0s 3ms/step - loss: 2088.1890 - mae: 2088.1890\n",
      "Epoch 74/150\n",
      "34/34 [==============================] - 0s 4ms/step - loss: 2040.1176 - mae: 2040.1176\n",
      "Epoch 75/150\n",
      "34/34 [==============================] - 0s 3ms/step - loss: 2018.5864 - mae: 2018.5864\n",
      "Epoch 76/150\n",
      "34/34 [==============================] - 0s 3ms/step - loss: 2021.4905 - mae: 2021.4905\n",
      "Epoch 77/150\n",
      "34/34 [==============================] - 0s 4ms/step - loss: 2021.6549 - mae: 2021.6549\n",
      "Epoch 78/150\n",
      "34/34 [==============================] - 0s 4ms/step - loss: 2018.7229 - mae: 2018.7229\n",
      "Epoch 79/150\n",
      "34/34 [==============================] - 0s 3ms/step - loss: 2028.7426 - mae: 2028.7426\n",
      "Epoch 80/150\n",
      "34/34 [==============================] - 0s 4ms/step - loss: 2035.3044 - mae: 2035.3044\n",
      "Epoch 81/150\n",
      "34/34 [==============================] - 0s 3ms/step - loss: 2036.8000 - mae: 2036.8000\n",
      "Epoch 82/150\n"
     ]
    },
    {
     "name": "stdout",
     "output_type": "stream",
     "text": [
      "34/34 [==============================] - 0s 3ms/step - loss: 2012.7968 - mae: 2012.7968\n",
      "Epoch 83/150\n",
      "34/34 [==============================] - 0s 4ms/step - loss: 2011.3845 - mae: 2011.3845\n",
      "Epoch 84/150\n",
      "34/34 [==============================] - 0s 3ms/step - loss: 2001.1493 - mae: 2001.1493\n",
      "Epoch 85/150\n",
      "34/34 [==============================] - 0s 3ms/step - loss: 2011.4390 - mae: 2011.4390\n",
      "Epoch 86/150\n",
      "34/34 [==============================] - 0s 4ms/step - loss: 2005.2745 - mae: 2005.2745\n",
      "Epoch 87/150\n",
      "34/34 [==============================] - 0s 3ms/step - loss: 2017.1313 - mae: 2017.1313\n",
      "Epoch 88/150\n",
      "34/34 [==============================] - 0s 3ms/step - loss: 2000.8727 - mae: 2000.8727\n",
      "Epoch 89/150\n",
      "34/34 [==============================] - 0s 3ms/step - loss: 2016.5647 - mae: 2016.5647\n",
      "Epoch 90/150\n",
      "34/34 [==============================] - 0s 3ms/step - loss: 2023.3983 - mae: 2023.3983\n",
      "Epoch 91/150\n",
      "34/34 [==============================] - 0s 3ms/step - loss: 2010.6671 - mae: 2010.6671\n",
      "Epoch 92/150\n",
      "34/34 [==============================] - 0s 3ms/step - loss: 2022.1636 - mae: 2022.1636\n",
      "Epoch 93/150\n",
      "34/34 [==============================] - 0s 3ms/step - loss: 2030.2570 - mae: 2030.2570\n",
      "Epoch 94/150\n",
      "34/34 [==============================] - 0s 3ms/step - loss: 2036.6339 - mae: 2036.6339\n",
      "Epoch 95/150\n",
      "34/34 [==============================] - 0s 3ms/step - loss: 1996.4747 - mae: 1996.4747\n",
      "Epoch 96/150\n",
      "34/34 [==============================] - 0s 4ms/step - loss: 1999.3680 - mae: 1999.3680\n",
      "Epoch 97/150\n",
      "34/34 [==============================] - 0s 3ms/step - loss: 2039.7479 - mae: 2039.7479\n",
      "Epoch 98/150\n",
      "34/34 [==============================] - 0s 4ms/step - loss: 2007.3477 - mae: 2007.3477\n",
      "Epoch 99/150\n",
      "34/34 [==============================] - 0s 3ms/step - loss: 2016.2635 - mae: 2016.2635\n",
      "Epoch 100/150\n",
      "34/34 [==============================] - 0s 3ms/step - loss: 1991.1304 - mae: 1991.1304\n",
      "Epoch 101/150\n",
      "34/34 [==============================] - 0s 3ms/step - loss: 2035.8546 - mae: 2035.8546\n",
      "Epoch 102/150\n",
      "34/34 [==============================] - 0s 3ms/step - loss: 1996.9070 - mae: 1996.9070\n",
      "Epoch 103/150\n",
      "34/34 [==============================] - 0s 4ms/step - loss: 1989.5677 - mae: 1989.5677\n",
      "Epoch 104/150\n",
      "34/34 [==============================] - 0s 4ms/step - loss: 2013.1028 - mae: 2013.1028\n",
      "Epoch 105/150\n",
      "34/34 [==============================] - 0s 4ms/step - loss: 2014.8706 - mae: 2014.8706\n",
      "Epoch 106/150\n",
      "34/34 [==============================] - 0s 3ms/step - loss: 2003.4500 - mae: 2003.4500\n",
      "Epoch 107/150\n",
      "34/34 [==============================] - 0s 3ms/step - loss: 1993.9603 - mae: 1993.9603\n",
      "Epoch 108/150\n",
      "34/34 [==============================] - 0s 3ms/step - loss: 1991.8320 - mae: 1991.8320\n",
      "Epoch 109/150\n",
      "34/34 [==============================] - 0s 3ms/step - loss: 1992.3024 - mae: 1992.3024\n",
      "Epoch 110/150\n",
      "34/34 [==============================] - 0s 3ms/step - loss: 1993.5479 - mae: 1993.5479\n",
      "Epoch 111/150\n",
      "34/34 [==============================] - 0s 3ms/step - loss: 1990.7815 - mae: 1990.7815\n",
      "Epoch 112/150\n",
      "34/34 [==============================] - 0s 3ms/step - loss: 2015.8448 - mae: 2015.8448\n",
      "Epoch 113/150\n",
      "34/34 [==============================] - 0s 3ms/step - loss: 1988.7563 - mae: 1988.7563\n",
      "Epoch 114/150\n",
      "34/34 [==============================] - 0s 3ms/step - loss: 2021.2173 - mae: 2021.2173\n",
      "Epoch 115/150\n",
      "34/34 [==============================] - 0s 3ms/step - loss: 1989.4425 - mae: 1989.4425\n",
      "Epoch 116/150\n",
      "34/34 [==============================] - 0s 3ms/step - loss: 2003.3878 - mae: 2003.3878\n",
      "Epoch 117/150\n",
      "34/34 [==============================] - 0s 3ms/step - loss: 1989.9836 - mae: 1989.9836\n",
      "Epoch 118/150\n",
      "34/34 [==============================] - 0s 3ms/step - loss: 1983.5488 - mae: 1983.5488\n",
      "Epoch 119/150\n",
      "34/34 [==============================] - 0s 3ms/step - loss: 2002.4832 - mae: 2002.4832\n",
      "Epoch 120/150\n",
      "34/34 [==============================] - 0s 3ms/step - loss: 2032.5131 - mae: 2032.5131\n",
      "Epoch 121/150\n",
      "34/34 [==============================] - 0s 4ms/step - loss: 1975.8635 - mae: 1975.8635\n",
      "Epoch 122/150\n",
      "34/34 [==============================] - 0s 3ms/step - loss: 1981.8790 - mae: 1981.8790\n",
      "Epoch 123/150\n",
      "34/34 [==============================] - 0s 3ms/step - loss: 2014.8448 - mae: 2014.8448\n",
      "Epoch 124/150\n",
      "34/34 [==============================] - 0s 3ms/step - loss: 1986.7040 - mae: 1986.7040\n",
      "Epoch 125/150\n",
      "34/34 [==============================] - 0s 3ms/step - loss: 1995.6935 - mae: 1995.6935\n",
      "Epoch 126/150\n",
      "34/34 [==============================] - 0s 3ms/step - loss: 1991.4182 - mae: 1991.4182\n",
      "Epoch 127/150\n",
      "34/34 [==============================] - 0s 3ms/step - loss: 1983.5890 - mae: 1983.5890\n",
      "Epoch 128/150\n",
      "34/34 [==============================] - 0s 3ms/step - loss: 1978.2546 - mae: 1978.2546\n",
      "Epoch 129/150\n",
      "34/34 [==============================] - 0s 3ms/step - loss: 2006.1685 - mae: 2006.1685\n",
      "Epoch 130/150\n",
      "34/34 [==============================] - 0s 3ms/step - loss: 1989.6418 - mae: 1989.6418\n",
      "Epoch 131/150\n",
      "34/34 [==============================] - 0s 3ms/step - loss: 1983.9984 - mae: 1983.9984\n",
      "Epoch 132/150\n",
      "34/34 [==============================] - 0s 3ms/step - loss: 1987.2157 - mae: 1987.2157\n",
      "Epoch 133/150\n",
      "34/34 [==============================] - 0s 3ms/step - loss: 1998.2273 - mae: 1998.2273\n",
      "Epoch 134/150\n",
      "34/34 [==============================] - 0s 3ms/step - loss: 2006.6033 - mae: 2006.6033\n",
      "Epoch 135/150\n",
      "34/34 [==============================] - 0s 3ms/step - loss: 1997.5422 - mae: 1997.5422\n",
      "Epoch 136/150\n",
      "34/34 [==============================] - 0s 3ms/step - loss: 1997.2264 - mae: 1997.2264\n",
      "Epoch 137/150\n",
      "34/34 [==============================] - 0s 3ms/step - loss: 1987.3369 - mae: 1987.3369\n",
      "Epoch 138/150\n",
      "34/34 [==============================] - 0s 3ms/step - loss: 1990.9857 - mae: 1990.9857\n",
      "Epoch 139/150\n",
      "34/34 [==============================] - 0s 3ms/step - loss: 1988.0084 - mae: 1988.0084\n",
      "Epoch 140/150\n",
      "34/34 [==============================] - 0s 3ms/step - loss: 1976.0979 - mae: 1976.0979\n",
      "Epoch 141/150\n",
      "34/34 [==============================] - 0s 3ms/step - loss: 1996.9327 - mae: 1996.9327\n",
      "Epoch 142/150\n",
      "34/34 [==============================] - 0s 3ms/step - loss: 1994.8563 - mae: 1994.8563\n",
      "Epoch 143/150\n",
      "34/34 [==============================] - 0s 3ms/step - loss: 1980.4995 - mae: 1980.4995\n",
      "Epoch 144/150\n",
      "34/34 [==============================] - 0s 3ms/step - loss: 1970.4855 - mae: 1970.4855\n",
      "Epoch 145/150\n",
      "34/34 [==============================] - 0s 3ms/step - loss: 1975.3788 - mae: 1975.3788\n",
      "Epoch 146/150\n",
      "34/34 [==============================] - 0s 3ms/step - loss: 1980.6841 - mae: 1980.6841\n",
      "Epoch 147/150\n",
      "34/34 [==============================] - 0s 3ms/step - loss: 1979.3582 - mae: 1979.3582\n",
      "Epoch 148/150\n",
      "34/34 [==============================] - 0s 3ms/step - loss: 1966.4161 - mae: 1966.4161\n",
      "Epoch 149/150\n",
      "34/34 [==============================] - 0s 3ms/step - loss: 1999.6355 - mae: 1999.6355\n",
      "Epoch 150/150\n",
      "34/34 [==============================] - 0s 3ms/step - loss: 1970.3687 - mae: 1970.3687\n"
     ]
    },
    {
     "data": {
      "text/plain": [
       "<keras.callbacks.History at 0x182c222b050>"
      ]
     },
     "execution_count": 22,
     "metadata": {},
     "output_type": "execute_result"
    }
   ],
   "source": [
    "# Build a neural network model & fit it on our normalized data\n",
    "\n",
    "tf.random.set_seed(42)\n",
    "#1. creating a model\n",
    "model1 = tf.keras.Sequential()\n",
    "model1.add(tf.keras.layers.Dense(100,activation='relu')),\n",
    "model1.add(tf.keras.layers.Dense(100 , activation='relu')),\n",
    "model1.add(tf.keras.layers.Dense(1))\n",
    "\n",
    "#2. compiling a model\n",
    "model1.compile(loss =  tf.keras.losses.mae,\n",
    "               optimizer = tf.keras.optimizers.Adam(learning_rate=0.01),\n",
    "               metrics = [\"mae\"])\n",
    "\n",
    "#fitting the model\n",
    "\n",
    "model1.fit(x_train_norm , y_train , epochs=150)"
   ]
  },
  {
   "cell_type": "code",
   "execution_count": 24,
   "id": "d8c3585e",
   "metadata": {},
   "outputs": [
    {
     "name": "stdout",
     "output_type": "stream",
     "text": [
      "9/9 [==============================] - 0s 3ms/step - loss: 1758.1082 - mae: 1758.1082\n"
     ]
    },
    {
     "data": {
      "text/plain": [
       "[1758.108154296875, 1758.108154296875]"
      ]
     },
     "execution_count": 24,
     "metadata": {},
     "output_type": "execute_result"
    }
   ],
   "source": [
    "#4. Evaluate our model trained on normalized data\n",
    "\n",
    "model1.evaluate(x_test_norm , y_test)"
   ]
  },
  {
   "cell_type": "code",
   "execution_count": 49,
   "id": "e22c2598",
   "metadata": {},
   "outputs": [
    {
     "name": "stdout",
     "output_type": "stream",
     "text": [
      "9/9 [==============================] - 0s 2ms/step\n"
     ]
    }
   ],
   "source": [
    "y3_pred = model1.predict(x_test)"
   ]
  },
  {
   "cell_type": "code",
   "execution_count": null,
   "id": "62917653",
   "metadata": {},
   "outputs": [],
   "source": [
    "y3_mae = tf.metrics.mean_absolute_error(y_test)"
   ]
  },
  {
   "cell_type": "code",
   "execution_count": null,
   "id": "57663866",
   "metadata": {},
   "outputs": [],
   "source": []
  },
  {
   "cell_type": "code",
   "execution_count": 39,
   "id": "9e6a0069",
   "metadata": {},
   "outputs": [
    {
     "ename": "NameError",
     "evalue": "name 'mae_1' is not defined",
     "output_type": "error",
     "traceback": [
      "\u001b[1;31m---------------------------------------------------------------------------\u001b[0m",
      "\u001b[1;31mNameError\u001b[0m                                 Traceback (most recent call last)",
      "Cell \u001b[1;32mIn[39], line 5\u001b[0m\n\u001b[0;32m      1\u001b[0m \u001b[38;5;66;03m#Comparing the models\u001b[39;00m\n\u001b[0;32m      3\u001b[0m \u001b[38;5;28;01mimport\u001b[39;00m \u001b[38;5;21;01mnumpy\u001b[39;00m \u001b[38;5;28;01mas\u001b[39;00m \u001b[38;5;21;01mnp\u001b[39;00m\n\u001b[1;32m----> 5\u001b[0m model_results \u001b[38;5;241m=\u001b[39m [[\u001b[38;5;124m\"\u001b[39m\u001b[38;5;124mins_model_1\u001b[39m\u001b[38;5;124m\"\u001b[39m , \u001b[43mmae_1\u001b[49m\u001b[38;5;241m.\u001b[39mnumpy() , mse_1\u001b[38;5;241m.\u001b[39mnumpy()],\n\u001b[0;32m      6\u001b[0m                  [\u001b[38;5;124m\"\u001b[39m\u001b[38;5;124mins_model_2\u001b[39m\u001b[38;5;124m\"\u001b[39m , mae_2\u001b[38;5;241m.\u001b[39mnumpy() , mse_2\u001b[38;5;241m.\u001b[39mnumpy()],\n\u001b[0;32m      7\u001b[0m                  [\u001b[38;5;124m\"\u001b[39m\u001b[38;5;124mmodel1\u001b[39m\u001b[38;5;124m\"\u001b[39m , mae_2\u001b[38;5;241m.\u001b[39mnumpy() , mse_2\u001b[38;5;241m.\u001b[39mnumpy()]]\n\u001b[0;32m      9\u001b[0m all_results \u001b[38;5;241m=\u001b[39m pd\u001b[38;5;241m.\u001b[39mDataFrame(model_results , columns\u001b[38;5;241m=\u001b[39m [\u001b[38;5;124m'\u001b[39m\u001b[38;5;124mmodel_Name\u001b[39m\u001b[38;5;124m'\u001b[39m , \u001b[38;5;124m\"\u001b[39m\u001b[38;5;124mMAE\u001b[39m\u001b[38;5;124m\"\u001b[39m , \u001b[38;5;124m\"\u001b[39m\u001b[38;5;124mMSE\u001b[39m\u001b[38;5;124m\"\u001b[39m])\n\u001b[0;32m     10\u001b[0m all_results\n",
      "\u001b[1;31mNameError\u001b[0m: name 'mae_1' is not defined"
     ]
    }
   ],
   "source": [
    "#Comparing the models\n",
    "\n",
    "import numpy as np\n",
    "\n",
    "model_results = [[\"ins_model_1\" , ins_mae_1.numpy() , ins_mse_1.numpy()],\n",
    "                 [\"ins_model_2\" , ins_mae_2.numpy() , ins_mse_2.numpy()],\n",
    "                 [\"model1\" , mae_2.numpy() , mse_2.numpy()]]\n",
    "\n",
    "all_results = pd.DataFrame(model_results , columns= ['model_Name' , \"MAE\" , \"MSE\"])\n",
    "all_results"
   ]
  },
  {
   "cell_type": "code",
   "execution_count": null,
   "id": "e879bd8c",
   "metadata": {},
   "outputs": [],
   "source": []
  }
 ],
 "metadata": {
  "kernelspec": {
   "display_name": "Python 3 (ipykernel)",
   "language": "python",
   "name": "python3"
  },
  "language_info": {
   "codemirror_mode": {
    "name": "ipython",
    "version": 3
   },
   "file_extension": ".py",
   "mimetype": "text/x-python",
   "name": "python",
   "nbconvert_exporter": "python",
   "pygments_lexer": "ipython3",
   "version": "3.11.0"
  }
 },
 "nbformat": 4,
 "nbformat_minor": 5
}
